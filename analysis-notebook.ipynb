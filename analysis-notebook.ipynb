{
 "cells": [
  {
   "cell_type": "code",
   "execution_count": null,
   "metadata": {},
   "outputs": [],
   "source": [
    "import pandas as pd\n",
    "import numpy as np\n",
    "import matplotlib.pyplot as plt\n",
    "import seaborn as sns\n",
    "import scipy.stats as stats\n",
    "import plotly.graph_objects as go\n",
    "from plotly.subplots import make_subplots\n",
    "import plotly.express as px\n",
    "# from jupyter_dash import JupyterDash\n",
    "# from dash import dcc, html\n",
    "# from dash.dependencies import Input, Output\n",
    "import csv\n",
    "import os"
   ]
  },
  {
   "cell_type": "code",
   "execution_count": null,
   "metadata": {},
   "outputs": [],
   "source": [
    "df = pd.read_csv('https://raw.githubusercontent.com/maddikia/euphoria-data/main/euphoria.csv')\n",
    "dict_labels_df = pd.read_csv('https://raw.githubusercontent.com/maddikia/euphoria-data/main/dict_labels.csv', header=None, index_col=0)\n",
    "q_to_col = dict_labels_df.to_dict()[1]\n",
    "dict_labels_df.reset_index(inplace=True)\n",
    "dict_labels_df.index = dict_labels_df[1]\n",
    "col_to_q = dict_labels_df.to_dict()[0]\n",
    "df = df.rename(columns=q_to_col)"
   ]
  },
  {
   "cell_type": "code",
   "execution_count": null,
   "metadata": {},
   "outputs": [],
   "source": [
    "euphoria_questions = [str(i) for i in range(1, 20)]\n",
    "general_questions = [str(i) for i in range(22, 35)]\n",
    "all_questions = euphoria_questions + general_questions\n",
    "for i in all_questions:\n",
    "  df[i] = pd.Categorical(df[i], categories=[1, 2, 3, 4, 5])\n",
    "for i in ['A', 'B', 'C', 'D']:\n",
    "  df[i] = pd.Categorical(df[i])"
   ]
  },
  {
   "cell_type": "code",
   "execution_count": null,
   "metadata": {},
   "outputs": [],
   "source": [
    "if not os.path.exists(\"images\"):\n",
    "  os.mkdir(\"images\")"
   ]
  },
  {
   "cell_type": "markdown",
   "metadata": {},
   "source": [
    "# Chart Generation"
   ]
  },
  {
   "cell_type": "code",
   "execution_count": 152,
   "metadata": {},
   "outputs": [],
   "source": [
    "def gen_chart(title, x_data, y_data, l_padding=150, t_padding=100, width_mod=0):\n",
    "    top_labels = ['Strongly Agree', 'Agree', 'Neutral', 'Disagree',\n",
    "                    'Strongly Disagree']\n",
    "\n",
    "    colors = ['rgb(158,34,162)', 'rgb(198,156,234)', 'rgb(200, 192, 234)', 'rgb(114,133,225)', 'rgb(51, 51, 154)']\n",
    "\n",
    "    fig = go.Figure()\n",
    "\n",
    "    for i in range(0, len(x_data[0])):\n",
    "        for idx, (xd, yd) in enumerate(zip(x_data, y_data)):\n",
    "            fig.add_trace(go.Bar(\n",
    "                x=[xd[i]], y=[yd],\n",
    "                orientation='h',\n",
    "                marker=dict(\n",
    "                    color=colors[i],\n",
    "                    line=dict(color='white', width=0)\n",
    "                ),\n",
    "                name = top_labels[-(i + 1)],\n",
    "                showlegend = idx == 0,\n",
    "            ))\n",
    "    \n",
    "    y_val = 30\n",
    "    if t_padding == 130:\n",
    "        y_val = 50 \n",
    "\n",
    "    fig.update_layout(\n",
    "        title=dict(\n",
    "            text=title,\n",
    "            font=dict(family='Proxima Nova', size=25, color='white'),\n",
    "            pad=dict(t = y_val),\n",
    "            y=1, \n",
    "            yanchor='top'\n",
    "        ),\n",
    "        xaxis=dict(\n",
    "            tickmode=\"linear\",\n",
    "            tick0=0,\n",
    "            dtick=.25, \n",
    "            tickfont=dict(family='PT Sans', size=14, color='white'),\n",
    "            showticklabels=False,\n",
    "            tickformat=',.0%',\n",
    "            gridwidth=0,\n",
    "            linewidth=0,\n",
    "            gridcolor='#151E27',\n",
    "            linecolor='#151E27',\n",
    "            zeroline=False,\n",
    "            domain=[0.08, 1]\n",
    "        ),\n",
    "        yaxis=dict(\n",
    "            autorange='reversed',\n",
    "            showticklabels=False,\n",
    "        ),\n",
    "        barmode='stack',\n",
    "        bargap=0.2,\n",
    "        paper_bgcolor='#151E27',\n",
    "        plot_bgcolor='#151E27',\n",
    "        margin=dict(l=l_padding, r=10, t=t_padding, b=50),\n",
    "        showlegend=True,\n",
    "        width=1000 + width_mod,\n",
    "        # height=200 + len(x_data) * 100,\n",
    "        height=200 + len(x_data) * 60,\n",
    "        legend=dict(\n",
    "            traceorder='normal',\n",
    "            font=dict(family='PT Sans', size=16, color='white'),\n",
    "            orientation=\"h\",\n",
    "            yanchor=\"bottom\",\n",
    "            y=1,\n",
    "            xanchor=\"right\",\n",
    "            x=.96,\n",
    "            bgcolor='#151E27'\n",
    "        )   \n",
    "    )\n",
    "\n",
    "    annotations = []\n",
    "\n",
    "    for yd, xd in zip(y_data, x_data):\n",
    "        # labeling the y-axis\n",
    "        annotations.append(dict(xref='paper', yref='y',\n",
    "                                x=.065, y=yd,\n",
    "                                xanchor='right',\n",
    "                                text= str(yd),\n",
    "                                font=dict(family='PT Sans', size=18,\n",
    "                                            color='white'),\n",
    "                                showarrow=False, align='right'))\n",
    "        # labeling the first percentage of each bar (x_axis)\n",
    "        if xd[0] > 0:\n",
    "            annotations.append(dict(xref='x', yref='y',\n",
    "                                    x=xd[0] / 2, y=yd,\n",
    "                                    text='<b>' + str(np.rint(xd[0] * 100))[:-2] + '%</b>',\n",
    "                                    font=dict(family='PT Sans', size=15,\n",
    "                                            color='rgb(255, 255, 255)'),\n",
    "                                    showarrow=False))\n",
    "        space = xd[0]\n",
    "        for i in range(1, len(xd)):\n",
    "                if xd[i] >  0:\n",
    "                    # labeling the rest of percentages for each bar (x_axis)\n",
    "                    annotations.append(dict(xref='x', yref='y',\n",
    "                                            x=space + (xd[i]/2), y=yd,\n",
    "                                            text='<b>' + str(np.rint(xd[i] * 100))[:-2] + '%</b>',\n",
    "                                            font=dict(family='PT Sans', size=15,\n",
    "                                                    color='rgb(255, 255, 255)'),\n",
    "                                            showarrow=False))\n",
    "                space += xd[i]\n",
    "\n",
    "    fig.update_layout(annotations=annotations)\n",
    "\n",
    "\n",
    "    return fig"
   ]
  },
  {
   "cell_type": "code",
   "execution_count": null,
   "metadata": {},
   "outputs": [],
   "source": [
    "def gen_diverging_chart(title, x_data, y_data, l_padding=150, t_padding=120, width_mod=0, split=.88):\n",
    "  top_labels = ['Strongly Agree', 'Agree', 'Neutral', 'Disagree',\n",
    "                'Strongly Disagree']\n",
    "\n",
    "  colors = ['rgb(158,34,162)', 'rgb(198,156,234)', 'rgb(200, 192, 234)', 'rgb(114,133,225)', 'rgb(51, 51, 154)']\n",
    "\n",
    "\n",
    "  fig = make_subplots(rows=1, cols=2, column_widths=[split, 1-split], shared_yaxes=True, horizontal_spacing=0)\n",
    "\n",
    "  for i in range(1, -1, -1):\n",
    "    for idx, (xd, yd) in enumerate(zip(x_data, y_data)):\n",
    "          fig.add_trace(go.Bar(\n",
    "              x=[-xd[i]], y=[yd],\n",
    "              orientation='h',\n",
    "              marker=dict(\n",
    "                  color=colors[i],\n",
    "                  line=dict(color='white', width=0)\n",
    "              ),\n",
    "              text= '<b>' + str(np.rint(xd[i] * 100))[:-2] + '%</b>',\n",
    "              textfont=dict(family='PT Sans', size=15,\n",
    "                        color='white'),\n",
    "              textposition='inside',\n",
    "              insidetextanchor='middle', \n",
    "              name = top_labels[-(i + 1)],\n",
    "              legendgroup = top_labels[-(i + 1)],\n",
    "              showlegend = idx == 0,\n",
    "              customdata = [xd[i]],\n",
    "              hovertemplate = \"%{y}: %{customdata}\"), \n",
    "              row=1, col=1)\n",
    "  for i in range(3, 5):\n",
    "      for idx, (xd, yd) in enumerate(zip(x_data, y_data)):\n",
    "            fig.add_trace(go.Bar(\n",
    "              x=[xd[i]], y=[yd],\n",
    "              orientation='h',\n",
    "              text= '<b>' + str(np.rint(xd[i] * 100))[:-2] + '%</b>',\n",
    "              textfont=dict(family='PT Sans', size=15,\n",
    "                        color='white'),\n",
    "              textposition='inside',\n",
    "              insidetextanchor='middle', \n",
    "              marker=dict(\n",
    "                  color=colors[i],\n",
    "                  line=dict(color='white', width=0)\n",
    "              ),\n",
    "              name = top_labels[-(i + 1)],\n",
    "              legendgroup = top_labels[-(i + 1)],\n",
    "              showlegend = idx == 0,\n",
    "              hovertemplate=\"%{y}: %{x}\"),\n",
    "              row=1, col=1) \n",
    "\n",
    "  neutrals = np.array(x_data)[:, 2]\n",
    "\n",
    "  fig.add_trace(\n",
    "    go.Bar(\n",
    "      x=neutrals,\n",
    "      y=y_data,\n",
    "      orientation='h',\n",
    "      marker = dict(\n",
    "          color=colors[2],\n",
    "          line=dict(color='white', width=0)\n",
    "      ),\n",
    "      text= ['<b>' + str(np.rint(x * 100))[:-2] + '%</b>' for x in neutrals],\n",
    "      textfont=dict(family='PT Sans', size=15,\n",
    "                color='white'),\n",
    "      textposition='inside',\n",
    "      insidetextanchor='middle', \n",
    "      name = \"Neutral\",\n",
    "      hovertemplate=\"%{y}: %{x}\",\n",
    "      xaxis = \"x2\"\n",
    "    ), row=1, col=2) \n",
    "\n",
    "  fig.update_layout(\n",
    "    #   title=dict(\n",
    "    #       text=title,\n",
    "    #       font=dict(family='Proxima Nova', size=50, color='white')\n",
    "    #   ),\n",
    "      xaxis=dict(\n",
    "          showgrid=False,\n",
    "          showline=False,\n",
    "          tickmode=\"linear\",\n",
    "          tick0=0,\n",
    "          automargin=True,\n",
    "          dtick=.25, \n",
    "          showticklabels=False,\n",
    "          tickformat=',.0%',\n",
    "          tickfont=dict(family='PT Sans', size=14, color='white'),\n",
    "          domain=[.1, split-.005]\n",
    "      ),\n",
    "      xaxis2=dict(\n",
    "          showgrid=False,\n",
    "          showline=False,\n",
    "          tickmode=\"linear\",\n",
    "          tick0=0,\n",
    "          automargin=True,\n",
    "          dtick=.25, \n",
    "          showticklabels=False,\n",
    "          tickfont=dict(family='PT Sans', size=14, color='white'),\n",
    "          tickformat=',.0%',\n",
    "      ),\n",
    "      yaxis=dict(\n",
    "          autorange='reversed',\n",
    "          showgrid=False,\n",
    "          automargin=True,\n",
    "          showline=False,\n",
    "          showticklabels=True,\n",
    "          tickfont=dict(family='PT Sans', size=20, color=colors[2]),\n",
    "          zeroline=False,\n",
    "      ),\n",
    "      barmode='relative',\n",
    "      bargap=0.2,\n",
    "      paper_bgcolor='#151E27',\n",
    "      plot_bgcolor='#151E27',\n",
    "      margin=dict(l=l_padding, r=30, t=t_padding, b=70, pad=5),\n",
    "      showlegend=False,\n",
    "      width=1600 + width_mod,\n",
    "      height=200 + len(x_data) * 100,\n",
    "  )\n",
    "\n",
    "  annotations = []\n",
    "\n",
    "  fig.update_layout(annotations=annotations)\n",
    "  fig.add_vline(x=0, line_width=3, line_color='white')\n",
    "\n",
    "\n",
    "  return fig"
   ]
  },
  {
   "cell_type": "markdown",
   "metadata": {},
   "source": [
    "# 100% Stacked Bar Charts"
   ]
  },
  {
   "cell_type": "code",
   "execution_count": 150,
   "metadata": {},
   "outputs": [],
   "source": [
    "def get_pcts(data):\n",
    "  return data.apply(pd.value_counts).transpose().apply(lambda x: x/sum(x), axis=1).rename(col_to_q)\n",
    "\n",
    "def gen_comparisons(x1, x2, y, mk_dir_name, text_pad=150):\n",
    "  dir_path = f'./images/{mk_dir_name}'\n",
    "  if not os.path.exists(dir_path):\n",
    "    os.mkdir(dir_path)\n",
    "  x1_data = x1.values.tolist()\n",
    "  x2_data = x2.values.tolist()\n",
    "  titles = x1.index.tolist() # indexes should be the same\n",
    "  figures = []\n",
    "  for i in range(len(x1_data)):\n",
    "    top_padding = 100\n",
    "    title = titles[i].strip()\n",
    "    if len(title) > 80:\n",
    "      top_padding = 130\n",
    "      title_words = title.split(\" \")\n",
    "      title = \"\"\n",
    "      for j in range(len(title_words)):\n",
    "        if len(title) + len(title_words[j]) < 80:\n",
    "          title += title_words[j] + \" \" \n",
    "        else:\n",
    "          title += \"<br>\" + \" \".join(title_words[j:])\n",
    "          break\n",
    "    fig = gen_chart('<b>' + title + '</b>', [x1_data[i], x2_data[i]], y, l_padding=text_pad, t_padding=top_padding)\n",
    "    img_name = f'{i}_{\"_\".join(titles[i].strip()[:-1].split(\" \")[:6])}'\n",
    "    fig.write_image(f\"{dir_path}/{img_name}.png\", scale=5)\n",
    "    # fig.write_image(f\"{dir_path}/{img_name}.svg\")\n",
    "    figures.append(fig)\n",
    "  return figures"
   ]
  },
  {
   "cell_type": "code",
   "execution_count": null,
   "metadata": {},
   "outputs": [],
   "source": [
    "def gen_comparisons2(x1, x2, y, mk_dir_name, text_pad=150):\n",
    "#   dir_path = f'./images/{mk_dir_name}'\n",
    "#   if not os.path.exists(dir_path):\n",
    "#     os.mkdir(dir_path)\n",
    "  x1_data = x1.values.tolist()\n",
    "  x2_data = x2.values.tolist()\n",
    "  titles = x1.index.tolist() # indexes should be the same\n",
    "  figures = []\n",
    "  for i in range(len(x1_data)):\n",
    "    top_padding = 100\n",
    "    title = titles[i].strip()\n",
    "    if len(title) > 80:\n",
    "      top_padding = 130\n",
    "      title_words = title.split(\" \")\n",
    "      title = \"\"\n",
    "      for j in range(len(title_words)):\n",
    "        if len(title) + len(title_words[j]) < 7:\n",
    "          title += title_words[j] + \" \" \n",
    "        else:\n",
    "          title += \"<br>\" + \" \".join(title_words[j:])\n",
    "          break\n",
    "    fig = gen_diverging_chart('<b>' + title + '</b>', [x1_data[i], x2_data[i]], y, l_padding=text_pad, t_padding=top_padding)\n",
    "    # img_name = f'{i}_{\"_\".join(titles[i].strip()[:-1].split(\" \")[:6])}'\n",
    "    # fig.write_image(f\"{dir_path}/{img_name}.png\", scale=5)\n",
    "    # fig.write_image(f\"{dir_path}/{img_name}.svg\")\n",
    "    figures.append(fig)\n",
    "  return figures"
   ]
  },
  {
   "cell_type": "code",
   "execution_count": 153,
   "metadata": {},
   "outputs": [
    {
     "data": {
      "application/vnd.plotly.v1+json": {
       "config": {
        "plotlyServerURL": "https://plot.ly"
       },
       "data": [
        {
         "marker": {
          "color": "rgb(158,34,162)",
          "line": {
           "color": "white",
           "width": 0
          }
         },
         "name": "Strongly Disagree",
         "orientation": "h",
         "showlegend": true,
         "type": "bar",
         "x": [
          0.20588235294117646
         ],
         "y": [
          "Watched"
         ]
        },
        {
         "marker": {
          "color": "rgb(158,34,162)",
          "line": {
           "color": "white",
           "width": 0
          }
         },
         "name": "Strongly Disagree",
         "orientation": "h",
         "showlegend": false,
         "type": "bar",
         "x": [
          0.35714285714285715
         ],
         "y": [
          "Not Watched"
         ]
        },
        {
         "marker": {
          "color": "rgb(198,156,234)",
          "line": {
           "color": "white",
           "width": 0
          }
         },
         "name": "Disagree",
         "orientation": "h",
         "showlegend": true,
         "type": "bar",
         "x": [
          0.29411764705882354
         ],
         "y": [
          "Watched"
         ]
        },
        {
         "marker": {
          "color": "rgb(198,156,234)",
          "line": {
           "color": "white",
           "width": 0
          }
         },
         "name": "Disagree",
         "orientation": "h",
         "showlegend": false,
         "type": "bar",
         "x": [
          0.2857142857142857
         ],
         "y": [
          "Not Watched"
         ]
        },
        {
         "marker": {
          "color": "rgb(200, 192, 234)",
          "line": {
           "color": "white",
           "width": 0
          }
         },
         "name": "Neutral",
         "orientation": "h",
         "showlegend": true,
         "type": "bar",
         "x": [
          0.20588235294117646
         ],
         "y": [
          "Watched"
         ]
        },
        {
         "marker": {
          "color": "rgb(200, 192, 234)",
          "line": {
           "color": "white",
           "width": 0
          }
         },
         "name": "Neutral",
         "orientation": "h",
         "showlegend": false,
         "type": "bar",
         "x": [
          0.2857142857142857
         ],
         "y": [
          "Not Watched"
         ]
        },
        {
         "marker": {
          "color": "rgb(114,133,225)",
          "line": {
           "color": "white",
           "width": 0
          }
         },
         "name": "Agree",
         "orientation": "h",
         "showlegend": true,
         "type": "bar",
         "x": [
          0.2647058823529412
         ],
         "y": [
          "Watched"
         ]
        },
        {
         "marker": {
          "color": "rgb(114,133,225)",
          "line": {
           "color": "white",
           "width": 0
          }
         },
         "name": "Agree",
         "orientation": "h",
         "showlegend": false,
         "type": "bar",
         "x": [
          0.03571428571428571
         ],
         "y": [
          "Not Watched"
         ]
        },
        {
         "marker": {
          "color": "rgb(51, 51, 154)",
          "line": {
           "color": "white",
           "width": 0
          }
         },
         "name": "Strongly Agree",
         "orientation": "h",
         "showlegend": true,
         "type": "bar",
         "x": [
          0.029411764705882353
         ],
         "y": [
          "Watched"
         ]
        },
        {
         "marker": {
          "color": "rgb(51, 51, 154)",
          "line": {
           "color": "white",
           "width": 0
          }
         },
         "name": "Strongly Agree",
         "orientation": "h",
         "showlegend": false,
         "type": "bar",
         "x": [
          0.03571428571428571
         ],
         "y": [
          "Not Watched"
         ]
        }
       ],
       "layout": {
        "annotations": [
         {
          "align": "right",
          "font": {
           "color": "white",
           "family": "PT Sans",
           "size": 18
          },
          "showarrow": false,
          "text": "Watched",
          "x": 0.065,
          "xanchor": "right",
          "xref": "paper",
          "y": "Watched",
          "yref": "y"
         },
         {
          "font": {
           "color": "rgb(255, 255, 255)",
           "family": "PT Sans",
           "size": 15
          },
          "showarrow": false,
          "text": "<b>21%</b>",
          "x": 0.10294117647058823,
          "xref": "x",
          "y": "Watched",
          "yref": "y"
         },
         {
          "font": {
           "color": "rgb(255, 255, 255)",
           "family": "PT Sans",
           "size": 15
          },
          "showarrow": false,
          "text": "<b>29%</b>",
          "x": 0.3529411764705882,
          "xref": "x",
          "y": "Watched",
          "yref": "y"
         },
         {
          "font": {
           "color": "rgb(255, 255, 255)",
           "family": "PT Sans",
           "size": 15
          },
          "showarrow": false,
          "text": "<b>21%</b>",
          "x": 0.6029411764705882,
          "xref": "x",
          "y": "Watched",
          "yref": "y"
         },
         {
          "font": {
           "color": "rgb(255, 255, 255)",
           "family": "PT Sans",
           "size": 15
          },
          "showarrow": false,
          "text": "<b>26%</b>",
          "x": 0.838235294117647,
          "xref": "x",
          "y": "Watched",
          "yref": "y"
         },
         {
          "font": {
           "color": "rgb(255, 255, 255)",
           "family": "PT Sans",
           "size": 15
          },
          "showarrow": false,
          "text": "<b>3%</b>",
          "x": 0.9852941176470587,
          "xref": "x",
          "y": "Watched",
          "yref": "y"
         },
         {
          "align": "right",
          "font": {
           "color": "white",
           "family": "PT Sans",
           "size": 18
          },
          "showarrow": false,
          "text": "Not Watched",
          "x": 0.065,
          "xanchor": "right",
          "xref": "paper",
          "y": "Not Watched",
          "yref": "y"
         },
         {
          "font": {
           "color": "rgb(255, 255, 255)",
           "family": "PT Sans",
           "size": 15
          },
          "showarrow": false,
          "text": "<b>36%</b>",
          "x": 0.17857142857142858,
          "xref": "x",
          "y": "Not Watched",
          "yref": "y"
         },
         {
          "font": {
           "color": "rgb(255, 255, 255)",
           "family": "PT Sans",
           "size": 15
          },
          "showarrow": false,
          "text": "<b>29%</b>",
          "x": 0.5,
          "xref": "x",
          "y": "Not Watched",
          "yref": "y"
         },
         {
          "font": {
           "color": "rgb(255, 255, 255)",
           "family": "PT Sans",
           "size": 15
          },
          "showarrow": false,
          "text": "<b>29%</b>",
          "x": 0.7857142857142856,
          "xref": "x",
          "y": "Not Watched",
          "yref": "y"
         },
         {
          "font": {
           "color": "rgb(255, 255, 255)",
           "family": "PT Sans",
           "size": 15
          },
          "showarrow": false,
          "text": "<b>4%</b>",
          "x": 0.9464285714285714,
          "xref": "x",
          "y": "Not Watched",
          "yref": "y"
         },
         {
          "font": {
           "color": "rgb(255, 255, 255)",
           "family": "PT Sans",
           "size": 15
          },
          "showarrow": false,
          "text": "<b>4%</b>",
          "x": 0.9821428571428571,
          "xref": "x",
          "y": "Not Watched",
          "yref": "y"
         }
        ],
        "bargap": 0.2,
        "barmode": "stack",
        "height": 320,
        "legend": {
         "bgcolor": "#151E27",
         "font": {
          "color": "white",
          "family": "PT Sans",
          "size": 16
         },
         "orientation": "h",
         "traceorder": "normal",
         "x": 0.96,
         "xanchor": "right",
         "y": 1,
         "yanchor": "bottom"
        },
        "margin": {
         "b": 50,
         "l": 90,
         "r": 10,
         "t": 100
        },
        "paper_bgcolor": "#151E27",
        "plot_bgcolor": "#151E27",
        "showlegend": true,
        "template": {
         "data": {
          "bar": [
           {
            "error_x": {
             "color": "#2a3f5f"
            },
            "error_y": {
             "color": "#2a3f5f"
            },
            "marker": {
             "line": {
              "color": "#E5ECF6",
              "width": 0.5
             },
             "pattern": {
              "fillmode": "overlay",
              "size": 10,
              "solidity": 0.2
             }
            },
            "type": "bar"
           }
          ],
          "barpolar": [
           {
            "marker": {
             "line": {
              "color": "#E5ECF6",
              "width": 0.5
             },
             "pattern": {
              "fillmode": "overlay",
              "size": 10,
              "solidity": 0.2
             }
            },
            "type": "barpolar"
           }
          ],
          "carpet": [
           {
            "aaxis": {
             "endlinecolor": "#2a3f5f",
             "gridcolor": "white",
             "linecolor": "white",
             "minorgridcolor": "white",
             "startlinecolor": "#2a3f5f"
            },
            "baxis": {
             "endlinecolor": "#2a3f5f",
             "gridcolor": "white",
             "linecolor": "white",
             "minorgridcolor": "white",
             "startlinecolor": "#2a3f5f"
            },
            "type": "carpet"
           }
          ],
          "choropleth": [
           {
            "colorbar": {
             "outlinewidth": 0,
             "ticks": ""
            },
            "type": "choropleth"
           }
          ],
          "contour": [
           {
            "colorbar": {
             "outlinewidth": 0,
             "ticks": ""
            },
            "colorscale": [
             [
              0,
              "#0d0887"
             ],
             [
              0.1111111111111111,
              "#46039f"
             ],
             [
              0.2222222222222222,
              "#7201a8"
             ],
             [
              0.3333333333333333,
              "#9c179e"
             ],
             [
              0.4444444444444444,
              "#bd3786"
             ],
             [
              0.5555555555555556,
              "#d8576b"
             ],
             [
              0.6666666666666666,
              "#ed7953"
             ],
             [
              0.7777777777777778,
              "#fb9f3a"
             ],
             [
              0.8888888888888888,
              "#fdca26"
             ],
             [
              1,
              "#f0f921"
             ]
            ],
            "type": "contour"
           }
          ],
          "contourcarpet": [
           {
            "colorbar": {
             "outlinewidth": 0,
             "ticks": ""
            },
            "type": "contourcarpet"
           }
          ],
          "heatmap": [
           {
            "colorbar": {
             "outlinewidth": 0,
             "ticks": ""
            },
            "colorscale": [
             [
              0,
              "#0d0887"
             ],
             [
              0.1111111111111111,
              "#46039f"
             ],
             [
              0.2222222222222222,
              "#7201a8"
             ],
             [
              0.3333333333333333,
              "#9c179e"
             ],
             [
              0.4444444444444444,
              "#bd3786"
             ],
             [
              0.5555555555555556,
              "#d8576b"
             ],
             [
              0.6666666666666666,
              "#ed7953"
             ],
             [
              0.7777777777777778,
              "#fb9f3a"
             ],
             [
              0.8888888888888888,
              "#fdca26"
             ],
             [
              1,
              "#f0f921"
             ]
            ],
            "type": "heatmap"
           }
          ],
          "heatmapgl": [
           {
            "colorbar": {
             "outlinewidth": 0,
             "ticks": ""
            },
            "colorscale": [
             [
              0,
              "#0d0887"
             ],
             [
              0.1111111111111111,
              "#46039f"
             ],
             [
              0.2222222222222222,
              "#7201a8"
             ],
             [
              0.3333333333333333,
              "#9c179e"
             ],
             [
              0.4444444444444444,
              "#bd3786"
             ],
             [
              0.5555555555555556,
              "#d8576b"
             ],
             [
              0.6666666666666666,
              "#ed7953"
             ],
             [
              0.7777777777777778,
              "#fb9f3a"
             ],
             [
              0.8888888888888888,
              "#fdca26"
             ],
             [
              1,
              "#f0f921"
             ]
            ],
            "type": "heatmapgl"
           }
          ],
          "histogram": [
           {
            "marker": {
             "pattern": {
              "fillmode": "overlay",
              "size": 10,
              "solidity": 0.2
             }
            },
            "type": "histogram"
           }
          ],
          "histogram2d": [
           {
            "colorbar": {
             "outlinewidth": 0,
             "ticks": ""
            },
            "colorscale": [
             [
              0,
              "#0d0887"
             ],
             [
              0.1111111111111111,
              "#46039f"
             ],
             [
              0.2222222222222222,
              "#7201a8"
             ],
             [
              0.3333333333333333,
              "#9c179e"
             ],
             [
              0.4444444444444444,
              "#bd3786"
             ],
             [
              0.5555555555555556,
              "#d8576b"
             ],
             [
              0.6666666666666666,
              "#ed7953"
             ],
             [
              0.7777777777777778,
              "#fb9f3a"
             ],
             [
              0.8888888888888888,
              "#fdca26"
             ],
             [
              1,
              "#f0f921"
             ]
            ],
            "type": "histogram2d"
           }
          ],
          "histogram2dcontour": [
           {
            "colorbar": {
             "outlinewidth": 0,
             "ticks": ""
            },
            "colorscale": [
             [
              0,
              "#0d0887"
             ],
             [
              0.1111111111111111,
              "#46039f"
             ],
             [
              0.2222222222222222,
              "#7201a8"
             ],
             [
              0.3333333333333333,
              "#9c179e"
             ],
             [
              0.4444444444444444,
              "#bd3786"
             ],
             [
              0.5555555555555556,
              "#d8576b"
             ],
             [
              0.6666666666666666,
              "#ed7953"
             ],
             [
              0.7777777777777778,
              "#fb9f3a"
             ],
             [
              0.8888888888888888,
              "#fdca26"
             ],
             [
              1,
              "#f0f921"
             ]
            ],
            "type": "histogram2dcontour"
           }
          ],
          "mesh3d": [
           {
            "colorbar": {
             "outlinewidth": 0,
             "ticks": ""
            },
            "type": "mesh3d"
           }
          ],
          "parcoords": [
           {
            "line": {
             "colorbar": {
              "outlinewidth": 0,
              "ticks": ""
             }
            },
            "type": "parcoords"
           }
          ],
          "pie": [
           {
            "automargin": true,
            "type": "pie"
           }
          ],
          "scatter": [
           {
            "fillpattern": {
             "fillmode": "overlay",
             "size": 10,
             "solidity": 0.2
            },
            "type": "scatter"
           }
          ],
          "scatter3d": [
           {
            "line": {
             "colorbar": {
              "outlinewidth": 0,
              "ticks": ""
             }
            },
            "marker": {
             "colorbar": {
              "outlinewidth": 0,
              "ticks": ""
             }
            },
            "type": "scatter3d"
           }
          ],
          "scattercarpet": [
           {
            "marker": {
             "colorbar": {
              "outlinewidth": 0,
              "ticks": ""
             }
            },
            "type": "scattercarpet"
           }
          ],
          "scattergeo": [
           {
            "marker": {
             "colorbar": {
              "outlinewidth": 0,
              "ticks": ""
             }
            },
            "type": "scattergeo"
           }
          ],
          "scattergl": [
           {
            "marker": {
             "colorbar": {
              "outlinewidth": 0,
              "ticks": ""
             }
            },
            "type": "scattergl"
           }
          ],
          "scattermapbox": [
           {
            "marker": {
             "colorbar": {
              "outlinewidth": 0,
              "ticks": ""
             }
            },
            "type": "scattermapbox"
           }
          ],
          "scatterpolar": [
           {
            "marker": {
             "colorbar": {
              "outlinewidth": 0,
              "ticks": ""
             }
            },
            "type": "scatterpolar"
           }
          ],
          "scatterpolargl": [
           {
            "marker": {
             "colorbar": {
              "outlinewidth": 0,
              "ticks": ""
             }
            },
            "type": "scatterpolargl"
           }
          ],
          "scatterternary": [
           {
            "marker": {
             "colorbar": {
              "outlinewidth": 0,
              "ticks": ""
             }
            },
            "type": "scatterternary"
           }
          ],
          "surface": [
           {
            "colorbar": {
             "outlinewidth": 0,
             "ticks": ""
            },
            "colorscale": [
             [
              0,
              "#0d0887"
             ],
             [
              0.1111111111111111,
              "#46039f"
             ],
             [
              0.2222222222222222,
              "#7201a8"
             ],
             [
              0.3333333333333333,
              "#9c179e"
             ],
             [
              0.4444444444444444,
              "#bd3786"
             ],
             [
              0.5555555555555556,
              "#d8576b"
             ],
             [
              0.6666666666666666,
              "#ed7953"
             ],
             [
              0.7777777777777778,
              "#fb9f3a"
             ],
             [
              0.8888888888888888,
              "#fdca26"
             ],
             [
              1,
              "#f0f921"
             ]
            ],
            "type": "surface"
           }
          ],
          "table": [
           {
            "cells": {
             "fill": {
              "color": "#EBF0F8"
             },
             "line": {
              "color": "white"
             }
            },
            "header": {
             "fill": {
              "color": "#C8D4E3"
             },
             "line": {
              "color": "white"
             }
            },
            "type": "table"
           }
          ]
         },
         "layout": {
          "annotationdefaults": {
           "arrowcolor": "#2a3f5f",
           "arrowhead": 0,
           "arrowwidth": 1
          },
          "autotypenumbers": "strict",
          "coloraxis": {
           "colorbar": {
            "outlinewidth": 0,
            "ticks": ""
           }
          },
          "colorscale": {
           "diverging": [
            [
             0,
             "#8e0152"
            ],
            [
             0.1,
             "#c51b7d"
            ],
            [
             0.2,
             "#de77ae"
            ],
            [
             0.3,
             "#f1b6da"
            ],
            [
             0.4,
             "#fde0ef"
            ],
            [
             0.5,
             "#f7f7f7"
            ],
            [
             0.6,
             "#e6f5d0"
            ],
            [
             0.7,
             "#b8e186"
            ],
            [
             0.8,
             "#7fbc41"
            ],
            [
             0.9,
             "#4d9221"
            ],
            [
             1,
             "#276419"
            ]
           ],
           "sequential": [
            [
             0,
             "#0d0887"
            ],
            [
             0.1111111111111111,
             "#46039f"
            ],
            [
             0.2222222222222222,
             "#7201a8"
            ],
            [
             0.3333333333333333,
             "#9c179e"
            ],
            [
             0.4444444444444444,
             "#bd3786"
            ],
            [
             0.5555555555555556,
             "#d8576b"
            ],
            [
             0.6666666666666666,
             "#ed7953"
            ],
            [
             0.7777777777777778,
             "#fb9f3a"
            ],
            [
             0.8888888888888888,
             "#fdca26"
            ],
            [
             1,
             "#f0f921"
            ]
           ],
           "sequentialminus": [
            [
             0,
             "#0d0887"
            ],
            [
             0.1111111111111111,
             "#46039f"
            ],
            [
             0.2222222222222222,
             "#7201a8"
            ],
            [
             0.3333333333333333,
             "#9c179e"
            ],
            [
             0.4444444444444444,
             "#bd3786"
            ],
            [
             0.5555555555555556,
             "#d8576b"
            ],
            [
             0.6666666666666666,
             "#ed7953"
            ],
            [
             0.7777777777777778,
             "#fb9f3a"
            ],
            [
             0.8888888888888888,
             "#fdca26"
            ],
            [
             1,
             "#f0f921"
            ]
           ]
          },
          "colorway": [
           "#636efa",
           "#EF553B",
           "#00cc96",
           "#ab63fa",
           "#FFA15A",
           "#19d3f3",
           "#FF6692",
           "#B6E880",
           "#FF97FF",
           "#FECB52"
          ],
          "font": {
           "color": "#2a3f5f"
          },
          "geo": {
           "bgcolor": "white",
           "lakecolor": "white",
           "landcolor": "#E5ECF6",
           "showlakes": true,
           "showland": true,
           "subunitcolor": "white"
          },
          "hoverlabel": {
           "align": "left"
          },
          "hovermode": "closest",
          "mapbox": {
           "style": "light"
          },
          "paper_bgcolor": "white",
          "plot_bgcolor": "#E5ECF6",
          "polar": {
           "angularaxis": {
            "gridcolor": "white",
            "linecolor": "white",
            "ticks": ""
           },
           "bgcolor": "#E5ECF6",
           "radialaxis": {
            "gridcolor": "white",
            "linecolor": "white",
            "ticks": ""
           }
          },
          "scene": {
           "xaxis": {
            "backgroundcolor": "#E5ECF6",
            "gridcolor": "white",
            "gridwidth": 2,
            "linecolor": "white",
            "showbackground": true,
            "ticks": "",
            "zerolinecolor": "white"
           },
           "yaxis": {
            "backgroundcolor": "#E5ECF6",
            "gridcolor": "white",
            "gridwidth": 2,
            "linecolor": "white",
            "showbackground": true,
            "ticks": "",
            "zerolinecolor": "white"
           },
           "zaxis": {
            "backgroundcolor": "#E5ECF6",
            "gridcolor": "white",
            "gridwidth": 2,
            "linecolor": "white",
            "showbackground": true,
            "ticks": "",
            "zerolinecolor": "white"
           }
          },
          "shapedefaults": {
           "line": {
            "color": "#2a3f5f"
           }
          },
          "ternary": {
           "aaxis": {
            "gridcolor": "white",
            "linecolor": "white",
            "ticks": ""
           },
           "baxis": {
            "gridcolor": "white",
            "linecolor": "white",
            "ticks": ""
           },
           "bgcolor": "#E5ECF6",
           "caxis": {
            "gridcolor": "white",
            "linecolor": "white",
            "ticks": ""
           }
          },
          "title": {
           "x": 0.05
          },
          "xaxis": {
           "automargin": true,
           "gridcolor": "white",
           "linecolor": "white",
           "ticks": "",
           "title": {
            "standoff": 15
           },
           "zerolinecolor": "white",
           "zerolinewidth": 2
          },
          "yaxis": {
           "automargin": true,
           "gridcolor": "white",
           "linecolor": "white",
           "ticks": "",
           "title": {
            "standoff": 15
           },
           "zerolinecolor": "white",
           "zerolinewidth": 2
          }
         }
        },
        "title": {
         "font": {
          "color": "white",
          "family": "Proxima Nova",
          "size": 25
         },
         "pad": {
          "t": 30
         },
         "text": "<b>It is acceptable to use substances.</b>",
         "y": 1,
         "yanchor": "top"
        },
        "width": 1000,
        "xaxis": {
         "domain": [
          0.08,
          1
         ],
         "dtick": 0.25,
         "gridcolor": "#151E27",
         "gridwidth": 0,
         "linecolor": "#151E27",
         "linewidth": 0,
         "showticklabels": false,
         "tick0": 0,
         "tickfont": {
          "color": "white",
          "family": "PT Sans",
          "size": 14
         },
         "tickformat": ",.0%",
         "tickmode": "linear",
         "zeroline": false
        },
        "yaxis": {
         "autorange": "reversed",
         "showticklabels": false
        }
       }
      }
     },
     "metadata": {},
     "output_type": "display_data"
    },
    {
     "data": {
      "application/vnd.plotly.v1+json": {
       "config": {
        "plotlyServerURL": "https://plot.ly"
       },
       "data": [
        {
         "marker": {
          "color": "rgb(158,34,162)",
          "line": {
           "color": "white",
           "width": 0
          }
         },
         "name": "Strongly Disagree",
         "orientation": "h",
         "showlegend": true,
         "type": "bar",
         "x": [
          0.20588235294117646
         ],
         "y": [
          "Watched"
         ]
        },
        {
         "marker": {
          "color": "rgb(158,34,162)",
          "line": {
           "color": "white",
           "width": 0
          }
         },
         "name": "Strongly Disagree",
         "orientation": "h",
         "showlegend": false,
         "type": "bar",
         "x": [
          0.39285714285714285
         ],
         "y": [
          "Not Watched"
         ]
        },
        {
         "marker": {
          "color": "rgb(198,156,234)",
          "line": {
           "color": "white",
           "width": 0
          }
         },
         "name": "Disagree",
         "orientation": "h",
         "showlegend": true,
         "type": "bar",
         "x": [
          0.17647058823529413
         ],
         "y": [
          "Watched"
         ]
        },
        {
         "marker": {
          "color": "rgb(198,156,234)",
          "line": {
           "color": "white",
           "width": 0
          }
         },
         "name": "Disagree",
         "orientation": "h",
         "showlegend": false,
         "type": "bar",
         "x": [
          0.2857142857142857
         ],
         "y": [
          "Not Watched"
         ]
        },
        {
         "marker": {
          "color": "rgb(200, 192, 234)",
          "line": {
           "color": "white",
           "width": 0
          }
         },
         "name": "Neutral",
         "orientation": "h",
         "showlegend": true,
         "type": "bar",
         "x": [
          0.058823529411764705
         ],
         "y": [
          "Watched"
         ]
        },
        {
         "marker": {
          "color": "rgb(200, 192, 234)",
          "line": {
           "color": "white",
           "width": 0
          }
         },
         "name": "Neutral",
         "orientation": "h",
         "showlegend": false,
         "type": "bar",
         "x": [
          0.07142857142857142
         ],
         "y": [
          "Not Watched"
         ]
        },
        {
         "marker": {
          "color": "rgb(114,133,225)",
          "line": {
           "color": "white",
           "width": 0
          }
         },
         "name": "Agree",
         "orientation": "h",
         "showlegend": true,
         "type": "bar",
         "x": [
          0.2647058823529412
         ],
         "y": [
          "Watched"
         ]
        },
        {
         "marker": {
          "color": "rgb(114,133,225)",
          "line": {
           "color": "white",
           "width": 0
          }
         },
         "name": "Agree",
         "orientation": "h",
         "showlegend": false,
         "type": "bar",
         "x": [
          0.14285714285714285
         ],
         "y": [
          "Not Watched"
         ]
        },
        {
         "marker": {
          "color": "rgb(51, 51, 154)",
          "line": {
           "color": "white",
           "width": 0
          }
         },
         "name": "Strongly Agree",
         "orientation": "h",
         "showlegend": true,
         "type": "bar",
         "x": [
          0.29411764705882354
         ],
         "y": [
          "Watched"
         ]
        },
        {
         "marker": {
          "color": "rgb(51, 51, 154)",
          "line": {
           "color": "white",
           "width": 0
          }
         },
         "name": "Strongly Agree",
         "orientation": "h",
         "showlegend": false,
         "type": "bar",
         "x": [
          0.10714285714285714
         ],
         "y": [
          "Not Watched"
         ]
        }
       ],
       "layout": {
        "annotations": [
         {
          "align": "right",
          "font": {
           "color": "white",
           "family": "PT Sans",
           "size": 18
          },
          "showarrow": false,
          "text": "Watched",
          "x": 0.065,
          "xanchor": "right",
          "xref": "paper",
          "y": "Watched",
          "yref": "y"
         },
         {
          "font": {
           "color": "rgb(255, 255, 255)",
           "family": "PT Sans",
           "size": 15
          },
          "showarrow": false,
          "text": "<b>21%</b>",
          "x": 0.10294117647058823,
          "xref": "x",
          "y": "Watched",
          "yref": "y"
         },
         {
          "font": {
           "color": "rgb(255, 255, 255)",
           "family": "PT Sans",
           "size": 15
          },
          "showarrow": false,
          "text": "<b>18%</b>",
          "x": 0.29411764705882354,
          "xref": "x",
          "y": "Watched",
          "yref": "y"
         },
         {
          "font": {
           "color": "rgb(255, 255, 255)",
           "family": "PT Sans",
           "size": 15
          },
          "showarrow": false,
          "text": "<b>6%</b>",
          "x": 0.4117647058823529,
          "xref": "x",
          "y": "Watched",
          "yref": "y"
         },
         {
          "font": {
           "color": "rgb(255, 255, 255)",
           "family": "PT Sans",
           "size": 15
          },
          "showarrow": false,
          "text": "<b>26%</b>",
          "x": 0.5735294117647058,
          "xref": "x",
          "y": "Watched",
          "yref": "y"
         },
         {
          "font": {
           "color": "rgb(255, 255, 255)",
           "family": "PT Sans",
           "size": 15
          },
          "showarrow": false,
          "text": "<b>29%</b>",
          "x": 0.8529411764705882,
          "xref": "x",
          "y": "Watched",
          "yref": "y"
         },
         {
          "align": "right",
          "font": {
           "color": "white",
           "family": "PT Sans",
           "size": 18
          },
          "showarrow": false,
          "text": "Not Watched",
          "x": 0.065,
          "xanchor": "right",
          "xref": "paper",
          "y": "Not Watched",
          "yref": "y"
         },
         {
          "font": {
           "color": "rgb(255, 255, 255)",
           "family": "PT Sans",
           "size": 15
          },
          "showarrow": false,
          "text": "<b>39%</b>",
          "x": 0.19642857142857142,
          "xref": "x",
          "y": "Not Watched",
          "yref": "y"
         },
         {
          "font": {
           "color": "rgb(255, 255, 255)",
           "family": "PT Sans",
           "size": 15
          },
          "showarrow": false,
          "text": "<b>29%</b>",
          "x": 0.5357142857142857,
          "xref": "x",
          "y": "Not Watched",
          "yref": "y"
         },
         {
          "font": {
           "color": "rgb(255, 255, 255)",
           "family": "PT Sans",
           "size": 15
          },
          "showarrow": false,
          "text": "<b>7%</b>",
          "x": 0.7142857142857143,
          "xref": "x",
          "y": "Not Watched",
          "yref": "y"
         },
         {
          "font": {
           "color": "rgb(255, 255, 255)",
           "family": "PT Sans",
           "size": 15
          },
          "showarrow": false,
          "text": "<b>14%</b>",
          "x": 0.8214285714285714,
          "xref": "x",
          "y": "Not Watched",
          "yref": "y"
         },
         {
          "font": {
           "color": "rgb(255, 255, 255)",
           "family": "PT Sans",
           "size": 15
          },
          "showarrow": false,
          "text": "<b>11%</b>",
          "x": 0.9464285714285714,
          "xref": "x",
          "y": "Not Watched",
          "yref": "y"
         }
        ],
        "bargap": 0.2,
        "barmode": "stack",
        "height": 320,
        "legend": {
         "bgcolor": "#151E27",
         "font": {
          "color": "white",
          "family": "PT Sans",
          "size": 16
         },
         "orientation": "h",
         "traceorder": "normal",
         "x": 0.96,
         "xanchor": "right",
         "y": 1,
         "yanchor": "bottom"
        },
        "margin": {
         "b": 50,
         "l": 90,
         "r": 10,
         "t": 100
        },
        "paper_bgcolor": "#151E27",
        "plot_bgcolor": "#151E27",
        "showlegend": true,
        "template": {
         "data": {
          "bar": [
           {
            "error_x": {
             "color": "#2a3f5f"
            },
            "error_y": {
             "color": "#2a3f5f"
            },
            "marker": {
             "line": {
              "color": "#E5ECF6",
              "width": 0.5
             },
             "pattern": {
              "fillmode": "overlay",
              "size": 10,
              "solidity": 0.2
             }
            },
            "type": "bar"
           }
          ],
          "barpolar": [
           {
            "marker": {
             "line": {
              "color": "#E5ECF6",
              "width": 0.5
             },
             "pattern": {
              "fillmode": "overlay",
              "size": 10,
              "solidity": 0.2
             }
            },
            "type": "barpolar"
           }
          ],
          "carpet": [
           {
            "aaxis": {
             "endlinecolor": "#2a3f5f",
             "gridcolor": "white",
             "linecolor": "white",
             "minorgridcolor": "white",
             "startlinecolor": "#2a3f5f"
            },
            "baxis": {
             "endlinecolor": "#2a3f5f",
             "gridcolor": "white",
             "linecolor": "white",
             "minorgridcolor": "white",
             "startlinecolor": "#2a3f5f"
            },
            "type": "carpet"
           }
          ],
          "choropleth": [
           {
            "colorbar": {
             "outlinewidth": 0,
             "ticks": ""
            },
            "type": "choropleth"
           }
          ],
          "contour": [
           {
            "colorbar": {
             "outlinewidth": 0,
             "ticks": ""
            },
            "colorscale": [
             [
              0,
              "#0d0887"
             ],
             [
              0.1111111111111111,
              "#46039f"
             ],
             [
              0.2222222222222222,
              "#7201a8"
             ],
             [
              0.3333333333333333,
              "#9c179e"
             ],
             [
              0.4444444444444444,
              "#bd3786"
             ],
             [
              0.5555555555555556,
              "#d8576b"
             ],
             [
              0.6666666666666666,
              "#ed7953"
             ],
             [
              0.7777777777777778,
              "#fb9f3a"
             ],
             [
              0.8888888888888888,
              "#fdca26"
             ],
             [
              1,
              "#f0f921"
             ]
            ],
            "type": "contour"
           }
          ],
          "contourcarpet": [
           {
            "colorbar": {
             "outlinewidth": 0,
             "ticks": ""
            },
            "type": "contourcarpet"
           }
          ],
          "heatmap": [
           {
            "colorbar": {
             "outlinewidth": 0,
             "ticks": ""
            },
            "colorscale": [
             [
              0,
              "#0d0887"
             ],
             [
              0.1111111111111111,
              "#46039f"
             ],
             [
              0.2222222222222222,
              "#7201a8"
             ],
             [
              0.3333333333333333,
              "#9c179e"
             ],
             [
              0.4444444444444444,
              "#bd3786"
             ],
             [
              0.5555555555555556,
              "#d8576b"
             ],
             [
              0.6666666666666666,
              "#ed7953"
             ],
             [
              0.7777777777777778,
              "#fb9f3a"
             ],
             [
              0.8888888888888888,
              "#fdca26"
             ],
             [
              1,
              "#f0f921"
             ]
            ],
            "type": "heatmap"
           }
          ],
          "heatmapgl": [
           {
            "colorbar": {
             "outlinewidth": 0,
             "ticks": ""
            },
            "colorscale": [
             [
              0,
              "#0d0887"
             ],
             [
              0.1111111111111111,
              "#46039f"
             ],
             [
              0.2222222222222222,
              "#7201a8"
             ],
             [
              0.3333333333333333,
              "#9c179e"
             ],
             [
              0.4444444444444444,
              "#bd3786"
             ],
             [
              0.5555555555555556,
              "#d8576b"
             ],
             [
              0.6666666666666666,
              "#ed7953"
             ],
             [
              0.7777777777777778,
              "#fb9f3a"
             ],
             [
              0.8888888888888888,
              "#fdca26"
             ],
             [
              1,
              "#f0f921"
             ]
            ],
            "type": "heatmapgl"
           }
          ],
          "histogram": [
           {
            "marker": {
             "pattern": {
              "fillmode": "overlay",
              "size": 10,
              "solidity": 0.2
             }
            },
            "type": "histogram"
           }
          ],
          "histogram2d": [
           {
            "colorbar": {
             "outlinewidth": 0,
             "ticks": ""
            },
            "colorscale": [
             [
              0,
              "#0d0887"
             ],
             [
              0.1111111111111111,
              "#46039f"
             ],
             [
              0.2222222222222222,
              "#7201a8"
             ],
             [
              0.3333333333333333,
              "#9c179e"
             ],
             [
              0.4444444444444444,
              "#bd3786"
             ],
             [
              0.5555555555555556,
              "#d8576b"
             ],
             [
              0.6666666666666666,
              "#ed7953"
             ],
             [
              0.7777777777777778,
              "#fb9f3a"
             ],
             [
              0.8888888888888888,
              "#fdca26"
             ],
             [
              1,
              "#f0f921"
             ]
            ],
            "type": "histogram2d"
           }
          ],
          "histogram2dcontour": [
           {
            "colorbar": {
             "outlinewidth": 0,
             "ticks": ""
            },
            "colorscale": [
             [
              0,
              "#0d0887"
             ],
             [
              0.1111111111111111,
              "#46039f"
             ],
             [
              0.2222222222222222,
              "#7201a8"
             ],
             [
              0.3333333333333333,
              "#9c179e"
             ],
             [
              0.4444444444444444,
              "#bd3786"
             ],
             [
              0.5555555555555556,
              "#d8576b"
             ],
             [
              0.6666666666666666,
              "#ed7953"
             ],
             [
              0.7777777777777778,
              "#fb9f3a"
             ],
             [
              0.8888888888888888,
              "#fdca26"
             ],
             [
              1,
              "#f0f921"
             ]
            ],
            "type": "histogram2dcontour"
           }
          ],
          "mesh3d": [
           {
            "colorbar": {
             "outlinewidth": 0,
             "ticks": ""
            },
            "type": "mesh3d"
           }
          ],
          "parcoords": [
           {
            "line": {
             "colorbar": {
              "outlinewidth": 0,
              "ticks": ""
             }
            },
            "type": "parcoords"
           }
          ],
          "pie": [
           {
            "automargin": true,
            "type": "pie"
           }
          ],
          "scatter": [
           {
            "fillpattern": {
             "fillmode": "overlay",
             "size": 10,
             "solidity": 0.2
            },
            "type": "scatter"
           }
          ],
          "scatter3d": [
           {
            "line": {
             "colorbar": {
              "outlinewidth": 0,
              "ticks": ""
             }
            },
            "marker": {
             "colorbar": {
              "outlinewidth": 0,
              "ticks": ""
             }
            },
            "type": "scatter3d"
           }
          ],
          "scattercarpet": [
           {
            "marker": {
             "colorbar": {
              "outlinewidth": 0,
              "ticks": ""
             }
            },
            "type": "scattercarpet"
           }
          ],
          "scattergeo": [
           {
            "marker": {
             "colorbar": {
              "outlinewidth": 0,
              "ticks": ""
             }
            },
            "type": "scattergeo"
           }
          ],
          "scattergl": [
           {
            "marker": {
             "colorbar": {
              "outlinewidth": 0,
              "ticks": ""
             }
            },
            "type": "scattergl"
           }
          ],
          "scattermapbox": [
           {
            "marker": {
             "colorbar": {
              "outlinewidth": 0,
              "ticks": ""
             }
            },
            "type": "scattermapbox"
           }
          ],
          "scatterpolar": [
           {
            "marker": {
             "colorbar": {
              "outlinewidth": 0,
              "ticks": ""
             }
            },
            "type": "scatterpolar"
           }
          ],
          "scatterpolargl": [
           {
            "marker": {
             "colorbar": {
              "outlinewidth": 0,
              "ticks": ""
             }
            },
            "type": "scatterpolargl"
           }
          ],
          "scatterternary": [
           {
            "marker": {
             "colorbar": {
              "outlinewidth": 0,
              "ticks": ""
             }
            },
            "type": "scatterternary"
           }
          ],
          "surface": [
           {
            "colorbar": {
             "outlinewidth": 0,
             "ticks": ""
            },
            "colorscale": [
             [
              0,
              "#0d0887"
             ],
             [
              0.1111111111111111,
              "#46039f"
             ],
             [
              0.2222222222222222,
              "#7201a8"
             ],
             [
              0.3333333333333333,
              "#9c179e"
             ],
             [
              0.4444444444444444,
              "#bd3786"
             ],
             [
              0.5555555555555556,
              "#d8576b"
             ],
             [
              0.6666666666666666,
              "#ed7953"
             ],
             [
              0.7777777777777778,
              "#fb9f3a"
             ],
             [
              0.8888888888888888,
              "#fdca26"
             ],
             [
              1,
              "#f0f921"
             ]
            ],
            "type": "surface"
           }
          ],
          "table": [
           {
            "cells": {
             "fill": {
              "color": "#EBF0F8"
             },
             "line": {
              "color": "white"
             }
            },
            "header": {
             "fill": {
              "color": "#C8D4E3"
             },
             "line": {
              "color": "white"
             }
            },
            "type": "table"
           }
          ]
         },
         "layout": {
          "annotationdefaults": {
           "arrowcolor": "#2a3f5f",
           "arrowhead": 0,
           "arrowwidth": 1
          },
          "autotypenumbers": "strict",
          "coloraxis": {
           "colorbar": {
            "outlinewidth": 0,
            "ticks": ""
           }
          },
          "colorscale": {
           "diverging": [
            [
             0,
             "#8e0152"
            ],
            [
             0.1,
             "#c51b7d"
            ],
            [
             0.2,
             "#de77ae"
            ],
            [
             0.3,
             "#f1b6da"
            ],
            [
             0.4,
             "#fde0ef"
            ],
            [
             0.5,
             "#f7f7f7"
            ],
            [
             0.6,
             "#e6f5d0"
            ],
            [
             0.7,
             "#b8e186"
            ],
            [
             0.8,
             "#7fbc41"
            ],
            [
             0.9,
             "#4d9221"
            ],
            [
             1,
             "#276419"
            ]
           ],
           "sequential": [
            [
             0,
             "#0d0887"
            ],
            [
             0.1111111111111111,
             "#46039f"
            ],
            [
             0.2222222222222222,
             "#7201a8"
            ],
            [
             0.3333333333333333,
             "#9c179e"
            ],
            [
             0.4444444444444444,
             "#bd3786"
            ],
            [
             0.5555555555555556,
             "#d8576b"
            ],
            [
             0.6666666666666666,
             "#ed7953"
            ],
            [
             0.7777777777777778,
             "#fb9f3a"
            ],
            [
             0.8888888888888888,
             "#fdca26"
            ],
            [
             1,
             "#f0f921"
            ]
           ],
           "sequentialminus": [
            [
             0,
             "#0d0887"
            ],
            [
             0.1111111111111111,
             "#46039f"
            ],
            [
             0.2222222222222222,
             "#7201a8"
            ],
            [
             0.3333333333333333,
             "#9c179e"
            ],
            [
             0.4444444444444444,
             "#bd3786"
            ],
            [
             0.5555555555555556,
             "#d8576b"
            ],
            [
             0.6666666666666666,
             "#ed7953"
            ],
            [
             0.7777777777777778,
             "#fb9f3a"
            ],
            [
             0.8888888888888888,
             "#fdca26"
            ],
            [
             1,
             "#f0f921"
            ]
           ]
          },
          "colorway": [
           "#636efa",
           "#EF553B",
           "#00cc96",
           "#ab63fa",
           "#FFA15A",
           "#19d3f3",
           "#FF6692",
           "#B6E880",
           "#FF97FF",
           "#FECB52"
          ],
          "font": {
           "color": "#2a3f5f"
          },
          "geo": {
           "bgcolor": "white",
           "lakecolor": "white",
           "landcolor": "#E5ECF6",
           "showlakes": true,
           "showland": true,
           "subunitcolor": "white"
          },
          "hoverlabel": {
           "align": "left"
          },
          "hovermode": "closest",
          "mapbox": {
           "style": "light"
          },
          "paper_bgcolor": "white",
          "plot_bgcolor": "#E5ECF6",
          "polar": {
           "angularaxis": {
            "gridcolor": "white",
            "linecolor": "white",
            "ticks": ""
           },
           "bgcolor": "#E5ECF6",
           "radialaxis": {
            "gridcolor": "white",
            "linecolor": "white",
            "ticks": ""
           }
          },
          "scene": {
           "xaxis": {
            "backgroundcolor": "#E5ECF6",
            "gridcolor": "white",
            "gridwidth": 2,
            "linecolor": "white",
            "showbackground": true,
            "ticks": "",
            "zerolinecolor": "white"
           },
           "yaxis": {
            "backgroundcolor": "#E5ECF6",
            "gridcolor": "white",
            "gridwidth": 2,
            "linecolor": "white",
            "showbackground": true,
            "ticks": "",
            "zerolinecolor": "white"
           },
           "zaxis": {
            "backgroundcolor": "#E5ECF6",
            "gridcolor": "white",
            "gridwidth": 2,
            "linecolor": "white",
            "showbackground": true,
            "ticks": "",
            "zerolinecolor": "white"
           }
          },
          "shapedefaults": {
           "line": {
            "color": "#2a3f5f"
           }
          },
          "ternary": {
           "aaxis": {
            "gridcolor": "white",
            "linecolor": "white",
            "ticks": ""
           },
           "baxis": {
            "gridcolor": "white",
            "linecolor": "white",
            "ticks": ""
           },
           "bgcolor": "#E5ECF6",
           "caxis": {
            "gridcolor": "white",
            "linecolor": "white",
            "ticks": ""
           }
          },
          "title": {
           "x": 0.05
          },
          "xaxis": {
           "automargin": true,
           "gridcolor": "white",
           "linecolor": "white",
           "ticks": "",
           "title": {
            "standoff": 15
           },
           "zerolinecolor": "white",
           "zerolinewidth": 2
          },
          "yaxis": {
           "automargin": true,
           "gridcolor": "white",
           "linecolor": "white",
           "ticks": "",
           "title": {
            "standoff": 15
           },
           "zerolinecolor": "white",
           "zerolinewidth": 2
          }
         }
        },
        "title": {
         "font": {
          "color": "white",
          "family": "Proxima Nova",
          "size": 25
         },
         "pad": {
          "t": 30
         },
         "text": "<b>I have thought about using substances.</b>",
         "y": 1,
         "yanchor": "top"
        },
        "width": 1000,
        "xaxis": {
         "domain": [
          0.08,
          1
         ],
         "dtick": 0.25,
         "gridcolor": "#151E27",
         "gridwidth": 0,
         "linecolor": "#151E27",
         "linewidth": 0,
         "showticklabels": false,
         "tick0": 0,
         "tickfont": {
          "color": "white",
          "family": "PT Sans",
          "size": 14
         },
         "tickformat": ",.0%",
         "tickmode": "linear",
         "zeroline": false
        },
        "yaxis": {
         "autorange": "reversed",
         "showticklabels": false
        }
       }
      }
     },
     "metadata": {},
     "output_type": "display_data"
    },
    {
     "data": {
      "application/vnd.plotly.v1+json": {
       "config": {
        "plotlyServerURL": "https://plot.ly"
       },
       "data": [
        {
         "marker": {
          "color": "rgb(158,34,162)",
          "line": {
           "color": "white",
           "width": 0
          }
         },
         "name": "Strongly Disagree",
         "orientation": "h",
         "showlegend": true,
         "type": "bar",
         "x": [
          0.29411764705882354
         ],
         "y": [
          "Watched"
         ]
        },
        {
         "marker": {
          "color": "rgb(158,34,162)",
          "line": {
           "color": "white",
           "width": 0
          }
         },
         "name": "Strongly Disagree",
         "orientation": "h",
         "showlegend": false,
         "type": "bar",
         "x": [
          0.6071428571428571
         ],
         "y": [
          "Not Watched"
         ]
        },
        {
         "marker": {
          "color": "rgb(198,156,234)",
          "line": {
           "color": "white",
           "width": 0
          }
         },
         "name": "Disagree",
         "orientation": "h",
         "showlegend": true,
         "type": "bar",
         "x": [
          0.2647058823529412
         ],
         "y": [
          "Watched"
         ]
        },
        {
         "marker": {
          "color": "rgb(198,156,234)",
          "line": {
           "color": "white",
           "width": 0
          }
         },
         "name": "Disagree",
         "orientation": "h",
         "showlegend": false,
         "type": "bar",
         "x": [
          0.10714285714285714
         ],
         "y": [
          "Not Watched"
         ]
        },
        {
         "marker": {
          "color": "rgb(200, 192, 234)",
          "line": {
           "color": "white",
           "width": 0
          }
         },
         "name": "Neutral",
         "orientation": "h",
         "showlegend": true,
         "type": "bar",
         "x": [
          0.20588235294117646
         ],
         "y": [
          "Watched"
         ]
        },
        {
         "marker": {
          "color": "rgb(200, 192, 234)",
          "line": {
           "color": "white",
           "width": 0
          }
         },
         "name": "Neutral",
         "orientation": "h",
         "showlegend": false,
         "type": "bar",
         "x": [
          0.17857142857142858
         ],
         "y": [
          "Not Watched"
         ]
        },
        {
         "marker": {
          "color": "rgb(114,133,225)",
          "line": {
           "color": "white",
           "width": 0
          }
         },
         "name": "Agree",
         "orientation": "h",
         "showlegend": true,
         "type": "bar",
         "x": [
          0.14705882352941177
         ],
         "y": [
          "Watched"
         ]
        },
        {
         "marker": {
          "color": "rgb(114,133,225)",
          "line": {
           "color": "white",
           "width": 0
          }
         },
         "name": "Agree",
         "orientation": "h",
         "showlegend": false,
         "type": "bar",
         "x": [
          0.03571428571428571
         ],
         "y": [
          "Not Watched"
         ]
        },
        {
         "marker": {
          "color": "rgb(51, 51, 154)",
          "line": {
           "color": "white",
           "width": 0
          }
         },
         "name": "Strongly Agree",
         "orientation": "h",
         "showlegend": true,
         "type": "bar",
         "x": [
          0.08823529411764706
         ],
         "y": [
          "Watched"
         ]
        },
        {
         "marker": {
          "color": "rgb(51, 51, 154)",
          "line": {
           "color": "white",
           "width": 0
          }
         },
         "name": "Strongly Agree",
         "orientation": "h",
         "showlegend": false,
         "type": "bar",
         "x": [
          0.07142857142857142
         ],
         "y": [
          "Not Watched"
         ]
        }
       ],
       "layout": {
        "annotations": [
         {
          "align": "right",
          "font": {
           "color": "white",
           "family": "PT Sans",
           "size": 18
          },
          "showarrow": false,
          "text": "Watched",
          "x": 0.065,
          "xanchor": "right",
          "xref": "paper",
          "y": "Watched",
          "yref": "y"
         },
         {
          "font": {
           "color": "rgb(255, 255, 255)",
           "family": "PT Sans",
           "size": 15
          },
          "showarrow": false,
          "text": "<b>29%</b>",
          "x": 0.14705882352941177,
          "xref": "x",
          "y": "Watched",
          "yref": "y"
         },
         {
          "font": {
           "color": "rgb(255, 255, 255)",
           "family": "PT Sans",
           "size": 15
          },
          "showarrow": false,
          "text": "<b>26%</b>",
          "x": 0.42647058823529416,
          "xref": "x",
          "y": "Watched",
          "yref": "y"
         },
         {
          "font": {
           "color": "rgb(255, 255, 255)",
           "family": "PT Sans",
           "size": 15
          },
          "showarrow": false,
          "text": "<b>21%</b>",
          "x": 0.6617647058823529,
          "xref": "x",
          "y": "Watched",
          "yref": "y"
         },
         {
          "font": {
           "color": "rgb(255, 255, 255)",
           "family": "PT Sans",
           "size": 15
          },
          "showarrow": false,
          "text": "<b>15%</b>",
          "x": 0.838235294117647,
          "xref": "x",
          "y": "Watched",
          "yref": "y"
         },
         {
          "font": {
           "color": "rgb(255, 255, 255)",
           "family": "PT Sans",
           "size": 15
          },
          "showarrow": false,
          "text": "<b>9%</b>",
          "x": 0.9558823529411764,
          "xref": "x",
          "y": "Watched",
          "yref": "y"
         },
         {
          "align": "right",
          "font": {
           "color": "white",
           "family": "PT Sans",
           "size": 18
          },
          "showarrow": false,
          "text": "Not Watched",
          "x": 0.065,
          "xanchor": "right",
          "xref": "paper",
          "y": "Not Watched",
          "yref": "y"
         },
         {
          "font": {
           "color": "rgb(255, 255, 255)",
           "family": "PT Sans",
           "size": 15
          },
          "showarrow": false,
          "text": "<b>61%</b>",
          "x": 0.30357142857142855,
          "xref": "x",
          "y": "Not Watched",
          "yref": "y"
         },
         {
          "font": {
           "color": "rgb(255, 255, 255)",
           "family": "PT Sans",
           "size": 15
          },
          "showarrow": false,
          "text": "<b>11%</b>",
          "x": 0.6607142857142857,
          "xref": "x",
          "y": "Not Watched",
          "yref": "y"
         },
         {
          "font": {
           "color": "rgb(255, 255, 255)",
           "family": "PT Sans",
           "size": 15
          },
          "showarrow": false,
          "text": "<b>18%</b>",
          "x": 0.8035714285714285,
          "xref": "x",
          "y": "Not Watched",
          "yref": "y"
         },
         {
          "font": {
           "color": "rgb(255, 255, 255)",
           "family": "PT Sans",
           "size": 15
          },
          "showarrow": false,
          "text": "<b>4%</b>",
          "x": 0.9107142857142857,
          "xref": "x",
          "y": "Not Watched",
          "yref": "y"
         },
         {
          "font": {
           "color": "rgb(255, 255, 255)",
           "family": "PT Sans",
           "size": 15
          },
          "showarrow": false,
          "text": "<b>7%</b>",
          "x": 0.9642857142857142,
          "xref": "x",
          "y": "Not Watched",
          "yref": "y"
         }
        ],
        "bargap": 0.2,
        "barmode": "stack",
        "height": 320,
        "legend": {
         "bgcolor": "#151E27",
         "font": {
          "color": "white",
          "family": "PT Sans",
          "size": 16
         },
         "orientation": "h",
         "traceorder": "normal",
         "x": 0.96,
         "xanchor": "right",
         "y": 1,
         "yanchor": "bottom"
        },
        "margin": {
         "b": 50,
         "l": 90,
         "r": 10,
         "t": 100
        },
        "paper_bgcolor": "#151E27",
        "plot_bgcolor": "#151E27",
        "showlegend": true,
        "template": {
         "data": {
          "bar": [
           {
            "error_x": {
             "color": "#2a3f5f"
            },
            "error_y": {
             "color": "#2a3f5f"
            },
            "marker": {
             "line": {
              "color": "#E5ECF6",
              "width": 0.5
             },
             "pattern": {
              "fillmode": "overlay",
              "size": 10,
              "solidity": 0.2
             }
            },
            "type": "bar"
           }
          ],
          "barpolar": [
           {
            "marker": {
             "line": {
              "color": "#E5ECF6",
              "width": 0.5
             },
             "pattern": {
              "fillmode": "overlay",
              "size": 10,
              "solidity": 0.2
             }
            },
            "type": "barpolar"
           }
          ],
          "carpet": [
           {
            "aaxis": {
             "endlinecolor": "#2a3f5f",
             "gridcolor": "white",
             "linecolor": "white",
             "minorgridcolor": "white",
             "startlinecolor": "#2a3f5f"
            },
            "baxis": {
             "endlinecolor": "#2a3f5f",
             "gridcolor": "white",
             "linecolor": "white",
             "minorgridcolor": "white",
             "startlinecolor": "#2a3f5f"
            },
            "type": "carpet"
           }
          ],
          "choropleth": [
           {
            "colorbar": {
             "outlinewidth": 0,
             "ticks": ""
            },
            "type": "choropleth"
           }
          ],
          "contour": [
           {
            "colorbar": {
             "outlinewidth": 0,
             "ticks": ""
            },
            "colorscale": [
             [
              0,
              "#0d0887"
             ],
             [
              0.1111111111111111,
              "#46039f"
             ],
             [
              0.2222222222222222,
              "#7201a8"
             ],
             [
              0.3333333333333333,
              "#9c179e"
             ],
             [
              0.4444444444444444,
              "#bd3786"
             ],
             [
              0.5555555555555556,
              "#d8576b"
             ],
             [
              0.6666666666666666,
              "#ed7953"
             ],
             [
              0.7777777777777778,
              "#fb9f3a"
             ],
             [
              0.8888888888888888,
              "#fdca26"
             ],
             [
              1,
              "#f0f921"
             ]
            ],
            "type": "contour"
           }
          ],
          "contourcarpet": [
           {
            "colorbar": {
             "outlinewidth": 0,
             "ticks": ""
            },
            "type": "contourcarpet"
           }
          ],
          "heatmap": [
           {
            "colorbar": {
             "outlinewidth": 0,
             "ticks": ""
            },
            "colorscale": [
             [
              0,
              "#0d0887"
             ],
             [
              0.1111111111111111,
              "#46039f"
             ],
             [
              0.2222222222222222,
              "#7201a8"
             ],
             [
              0.3333333333333333,
              "#9c179e"
             ],
             [
              0.4444444444444444,
              "#bd3786"
             ],
             [
              0.5555555555555556,
              "#d8576b"
             ],
             [
              0.6666666666666666,
              "#ed7953"
             ],
             [
              0.7777777777777778,
              "#fb9f3a"
             ],
             [
              0.8888888888888888,
              "#fdca26"
             ],
             [
              1,
              "#f0f921"
             ]
            ],
            "type": "heatmap"
           }
          ],
          "heatmapgl": [
           {
            "colorbar": {
             "outlinewidth": 0,
             "ticks": ""
            },
            "colorscale": [
             [
              0,
              "#0d0887"
             ],
             [
              0.1111111111111111,
              "#46039f"
             ],
             [
              0.2222222222222222,
              "#7201a8"
             ],
             [
              0.3333333333333333,
              "#9c179e"
             ],
             [
              0.4444444444444444,
              "#bd3786"
             ],
             [
              0.5555555555555556,
              "#d8576b"
             ],
             [
              0.6666666666666666,
              "#ed7953"
             ],
             [
              0.7777777777777778,
              "#fb9f3a"
             ],
             [
              0.8888888888888888,
              "#fdca26"
             ],
             [
              1,
              "#f0f921"
             ]
            ],
            "type": "heatmapgl"
           }
          ],
          "histogram": [
           {
            "marker": {
             "pattern": {
              "fillmode": "overlay",
              "size": 10,
              "solidity": 0.2
             }
            },
            "type": "histogram"
           }
          ],
          "histogram2d": [
           {
            "colorbar": {
             "outlinewidth": 0,
             "ticks": ""
            },
            "colorscale": [
             [
              0,
              "#0d0887"
             ],
             [
              0.1111111111111111,
              "#46039f"
             ],
             [
              0.2222222222222222,
              "#7201a8"
             ],
             [
              0.3333333333333333,
              "#9c179e"
             ],
             [
              0.4444444444444444,
              "#bd3786"
             ],
             [
              0.5555555555555556,
              "#d8576b"
             ],
             [
              0.6666666666666666,
              "#ed7953"
             ],
             [
              0.7777777777777778,
              "#fb9f3a"
             ],
             [
              0.8888888888888888,
              "#fdca26"
             ],
             [
              1,
              "#f0f921"
             ]
            ],
            "type": "histogram2d"
           }
          ],
          "histogram2dcontour": [
           {
            "colorbar": {
             "outlinewidth": 0,
             "ticks": ""
            },
            "colorscale": [
             [
              0,
              "#0d0887"
             ],
             [
              0.1111111111111111,
              "#46039f"
             ],
             [
              0.2222222222222222,
              "#7201a8"
             ],
             [
              0.3333333333333333,
              "#9c179e"
             ],
             [
              0.4444444444444444,
              "#bd3786"
             ],
             [
              0.5555555555555556,
              "#d8576b"
             ],
             [
              0.6666666666666666,
              "#ed7953"
             ],
             [
              0.7777777777777778,
              "#fb9f3a"
             ],
             [
              0.8888888888888888,
              "#fdca26"
             ],
             [
              1,
              "#f0f921"
             ]
            ],
            "type": "histogram2dcontour"
           }
          ],
          "mesh3d": [
           {
            "colorbar": {
             "outlinewidth": 0,
             "ticks": ""
            },
            "type": "mesh3d"
           }
          ],
          "parcoords": [
           {
            "line": {
             "colorbar": {
              "outlinewidth": 0,
              "ticks": ""
             }
            },
            "type": "parcoords"
           }
          ],
          "pie": [
           {
            "automargin": true,
            "type": "pie"
           }
          ],
          "scatter": [
           {
            "fillpattern": {
             "fillmode": "overlay",
             "size": 10,
             "solidity": 0.2
            },
            "type": "scatter"
           }
          ],
          "scatter3d": [
           {
            "line": {
             "colorbar": {
              "outlinewidth": 0,
              "ticks": ""
             }
            },
            "marker": {
             "colorbar": {
              "outlinewidth": 0,
              "ticks": ""
             }
            },
            "type": "scatter3d"
           }
          ],
          "scattercarpet": [
           {
            "marker": {
             "colorbar": {
              "outlinewidth": 0,
              "ticks": ""
             }
            },
            "type": "scattercarpet"
           }
          ],
          "scattergeo": [
           {
            "marker": {
             "colorbar": {
              "outlinewidth": 0,
              "ticks": ""
             }
            },
            "type": "scattergeo"
           }
          ],
          "scattergl": [
           {
            "marker": {
             "colorbar": {
              "outlinewidth": 0,
              "ticks": ""
             }
            },
            "type": "scattergl"
           }
          ],
          "scattermapbox": [
           {
            "marker": {
             "colorbar": {
              "outlinewidth": 0,
              "ticks": ""
             }
            },
            "type": "scattermapbox"
           }
          ],
          "scatterpolar": [
           {
            "marker": {
             "colorbar": {
              "outlinewidth": 0,
              "ticks": ""
             }
            },
            "type": "scatterpolar"
           }
          ],
          "scatterpolargl": [
           {
            "marker": {
             "colorbar": {
              "outlinewidth": 0,
              "ticks": ""
             }
            },
            "type": "scatterpolargl"
           }
          ],
          "scatterternary": [
           {
            "marker": {
             "colorbar": {
              "outlinewidth": 0,
              "ticks": ""
             }
            },
            "type": "scatterternary"
           }
          ],
          "surface": [
           {
            "colorbar": {
             "outlinewidth": 0,
             "ticks": ""
            },
            "colorscale": [
             [
              0,
              "#0d0887"
             ],
             [
              0.1111111111111111,
              "#46039f"
             ],
             [
              0.2222222222222222,
              "#7201a8"
             ],
             [
              0.3333333333333333,
              "#9c179e"
             ],
             [
              0.4444444444444444,
              "#bd3786"
             ],
             [
              0.5555555555555556,
              "#d8576b"
             ],
             [
              0.6666666666666666,
              "#ed7953"
             ],
             [
              0.7777777777777778,
              "#fb9f3a"
             ],
             [
              0.8888888888888888,
              "#fdca26"
             ],
             [
              1,
              "#f0f921"
             ]
            ],
            "type": "surface"
           }
          ],
          "table": [
           {
            "cells": {
             "fill": {
              "color": "#EBF0F8"
             },
             "line": {
              "color": "white"
             }
            },
            "header": {
             "fill": {
              "color": "#C8D4E3"
             },
             "line": {
              "color": "white"
             }
            },
            "type": "table"
           }
          ]
         },
         "layout": {
          "annotationdefaults": {
           "arrowcolor": "#2a3f5f",
           "arrowhead": 0,
           "arrowwidth": 1
          },
          "autotypenumbers": "strict",
          "coloraxis": {
           "colorbar": {
            "outlinewidth": 0,
            "ticks": ""
           }
          },
          "colorscale": {
           "diverging": [
            [
             0,
             "#8e0152"
            ],
            [
             0.1,
             "#c51b7d"
            ],
            [
             0.2,
             "#de77ae"
            ],
            [
             0.3,
             "#f1b6da"
            ],
            [
             0.4,
             "#fde0ef"
            ],
            [
             0.5,
             "#f7f7f7"
            ],
            [
             0.6,
             "#e6f5d0"
            ],
            [
             0.7,
             "#b8e186"
            ],
            [
             0.8,
             "#7fbc41"
            ],
            [
             0.9,
             "#4d9221"
            ],
            [
             1,
             "#276419"
            ]
           ],
           "sequential": [
            [
             0,
             "#0d0887"
            ],
            [
             0.1111111111111111,
             "#46039f"
            ],
            [
             0.2222222222222222,
             "#7201a8"
            ],
            [
             0.3333333333333333,
             "#9c179e"
            ],
            [
             0.4444444444444444,
             "#bd3786"
            ],
            [
             0.5555555555555556,
             "#d8576b"
            ],
            [
             0.6666666666666666,
             "#ed7953"
            ],
            [
             0.7777777777777778,
             "#fb9f3a"
            ],
            [
             0.8888888888888888,
             "#fdca26"
            ],
            [
             1,
             "#f0f921"
            ]
           ],
           "sequentialminus": [
            [
             0,
             "#0d0887"
            ],
            [
             0.1111111111111111,
             "#46039f"
            ],
            [
             0.2222222222222222,
             "#7201a8"
            ],
            [
             0.3333333333333333,
             "#9c179e"
            ],
            [
             0.4444444444444444,
             "#bd3786"
            ],
            [
             0.5555555555555556,
             "#d8576b"
            ],
            [
             0.6666666666666666,
             "#ed7953"
            ],
            [
             0.7777777777777778,
             "#fb9f3a"
            ],
            [
             0.8888888888888888,
             "#fdca26"
            ],
            [
             1,
             "#f0f921"
            ]
           ]
          },
          "colorway": [
           "#636efa",
           "#EF553B",
           "#00cc96",
           "#ab63fa",
           "#FFA15A",
           "#19d3f3",
           "#FF6692",
           "#B6E880",
           "#FF97FF",
           "#FECB52"
          ],
          "font": {
           "color": "#2a3f5f"
          },
          "geo": {
           "bgcolor": "white",
           "lakecolor": "white",
           "landcolor": "#E5ECF6",
           "showlakes": true,
           "showland": true,
           "subunitcolor": "white"
          },
          "hoverlabel": {
           "align": "left"
          },
          "hovermode": "closest",
          "mapbox": {
           "style": "light"
          },
          "paper_bgcolor": "white",
          "plot_bgcolor": "#E5ECF6",
          "polar": {
           "angularaxis": {
            "gridcolor": "white",
            "linecolor": "white",
            "ticks": ""
           },
           "bgcolor": "#E5ECF6",
           "radialaxis": {
            "gridcolor": "white",
            "linecolor": "white",
            "ticks": ""
           }
          },
          "scene": {
           "xaxis": {
            "backgroundcolor": "#E5ECF6",
            "gridcolor": "white",
            "gridwidth": 2,
            "linecolor": "white",
            "showbackground": true,
            "ticks": "",
            "zerolinecolor": "white"
           },
           "yaxis": {
            "backgroundcolor": "#E5ECF6",
            "gridcolor": "white",
            "gridwidth": 2,
            "linecolor": "white",
            "showbackground": true,
            "ticks": "",
            "zerolinecolor": "white"
           },
           "zaxis": {
            "backgroundcolor": "#E5ECF6",
            "gridcolor": "white",
            "gridwidth": 2,
            "linecolor": "white",
            "showbackground": true,
            "ticks": "",
            "zerolinecolor": "white"
           }
          },
          "shapedefaults": {
           "line": {
            "color": "#2a3f5f"
           }
          },
          "ternary": {
           "aaxis": {
            "gridcolor": "white",
            "linecolor": "white",
            "ticks": ""
           },
           "baxis": {
            "gridcolor": "white",
            "linecolor": "white",
            "ticks": ""
           },
           "bgcolor": "#E5ECF6",
           "caxis": {
            "gridcolor": "white",
            "linecolor": "white",
            "ticks": ""
           }
          },
          "title": {
           "x": 0.05
          },
          "xaxis": {
           "automargin": true,
           "gridcolor": "white",
           "linecolor": "white",
           "ticks": "",
           "title": {
            "standoff": 15
           },
           "zerolinecolor": "white",
           "zerolinewidth": 2
          },
          "yaxis": {
           "automargin": true,
           "gridcolor": "white",
           "linecolor": "white",
           "ticks": "",
           "title": {
            "standoff": 15
           },
           "zerolinecolor": "white",
           "zerolinewidth": 2
          }
         }
        },
        "title": {
         "font": {
          "color": "white",
          "family": "Proxima Nova",
          "size": 25
         },
         "pad": {
          "t": 30
         },
         "text": "<b>Using substances is fun or desirable.</b>",
         "y": 1,
         "yanchor": "top"
        },
        "width": 1000,
        "xaxis": {
         "domain": [
          0.08,
          1
         ],
         "dtick": 0.25,
         "gridcolor": "#151E27",
         "gridwidth": 0,
         "linecolor": "#151E27",
         "linewidth": 0,
         "showticklabels": false,
         "tick0": 0,
         "tickfont": {
          "color": "white",
          "family": "PT Sans",
          "size": 14
         },
         "tickformat": ",.0%",
         "tickmode": "linear",
         "zeroline": false
        },
        "yaxis": {
         "autorange": "reversed",
         "showticklabels": false
        }
       }
      }
     },
     "metadata": {},
     "output_type": "display_data"
    },
    {
     "data": {
      "application/vnd.plotly.v1+json": {
       "config": {
        "plotlyServerURL": "https://plot.ly"
       },
       "data": [
        {
         "marker": {
          "color": "rgb(158,34,162)",
          "line": {
           "color": "white",
           "width": 0
          }
         },
         "name": "Strongly Disagree",
         "orientation": "h",
         "showlegend": true,
         "type": "bar",
         "x": [
          0.08823529411764706
         ],
         "y": [
          "Watched"
         ]
        },
        {
         "marker": {
          "color": "rgb(158,34,162)",
          "line": {
           "color": "white",
           "width": 0
          }
         },
         "name": "Strongly Disagree",
         "orientation": "h",
         "showlegend": false,
         "type": "bar",
         "x": [
          0.21428571428571427
         ],
         "y": [
          "Not Watched"
         ]
        },
        {
         "marker": {
          "color": "rgb(198,156,234)",
          "line": {
           "color": "white",
           "width": 0
          }
         },
         "name": "Disagree",
         "orientation": "h",
         "showlegend": true,
         "type": "bar",
         "x": [
          0.17647058823529413
         ],
         "y": [
          "Watched"
         ]
        },
        {
         "marker": {
          "color": "rgb(198,156,234)",
          "line": {
           "color": "white",
           "width": 0
          }
         },
         "name": "Disagree",
         "orientation": "h",
         "showlegend": false,
         "type": "bar",
         "x": [
          0.14285714285714285
         ],
         "y": [
          "Not Watched"
         ]
        },
        {
         "marker": {
          "color": "rgb(200, 192, 234)",
          "line": {
           "color": "white",
           "width": 0
          }
         },
         "name": "Neutral",
         "orientation": "h",
         "showlegend": true,
         "type": "bar",
         "x": [
          0.11764705882352941
         ],
         "y": [
          "Watched"
         ]
        },
        {
         "marker": {
          "color": "rgb(200, 192, 234)",
          "line": {
           "color": "white",
           "width": 0
          }
         },
         "name": "Neutral",
         "orientation": "h",
         "showlegend": false,
         "type": "bar",
         "x": [
          0.14285714285714285
         ],
         "y": [
          "Not Watched"
         ]
        },
        {
         "marker": {
          "color": "rgb(114,133,225)",
          "line": {
           "color": "white",
           "width": 0
          }
         },
         "name": "Agree",
         "orientation": "h",
         "showlegend": true,
         "type": "bar",
         "x": [
          0.14705882352941177
         ],
         "y": [
          "Watched"
         ]
        },
        {
         "marker": {
          "color": "rgb(114,133,225)",
          "line": {
           "color": "white",
           "width": 0
          }
         },
         "name": "Agree",
         "orientation": "h",
         "showlegend": false,
         "type": "bar",
         "x": [
          0.32142857142857145
         ],
         "y": [
          "Not Watched"
         ]
        },
        {
         "marker": {
          "color": "rgb(51, 51, 154)",
          "line": {
           "color": "white",
           "width": 0
          }
         },
         "name": "Strongly Agree",
         "orientation": "h",
         "showlegend": true,
         "type": "bar",
         "x": [
          0.47058823529411764
         ],
         "y": [
          "Watched"
         ]
        },
        {
         "marker": {
          "color": "rgb(51, 51, 154)",
          "line": {
           "color": "white",
           "width": 0
          }
         },
         "name": "Strongly Agree",
         "orientation": "h",
         "showlegend": false,
         "type": "bar",
         "x": [
          0.17857142857142858
         ],
         "y": [
          "Not Watched"
         ]
        }
       ],
       "layout": {
        "annotations": [
         {
          "align": "right",
          "font": {
           "color": "white",
           "family": "PT Sans",
           "size": 18
          },
          "showarrow": false,
          "text": "Watched",
          "x": 0.065,
          "xanchor": "right",
          "xref": "paper",
          "y": "Watched",
          "yref": "y"
         },
         {
          "font": {
           "color": "rgb(255, 255, 255)",
           "family": "PT Sans",
           "size": 15
          },
          "showarrow": false,
          "text": "<b>9%</b>",
          "x": 0.04411764705882353,
          "xref": "x",
          "y": "Watched",
          "yref": "y"
         },
         {
          "font": {
           "color": "rgb(255, 255, 255)",
           "family": "PT Sans",
           "size": 15
          },
          "showarrow": false,
          "text": "<b>18%</b>",
          "x": 0.17647058823529413,
          "xref": "x",
          "y": "Watched",
          "yref": "y"
         },
         {
          "font": {
           "color": "rgb(255, 255, 255)",
           "family": "PT Sans",
           "size": 15
          },
          "showarrow": false,
          "text": "<b>12%</b>",
          "x": 0.3235294117647059,
          "xref": "x",
          "y": "Watched",
          "yref": "y"
         },
         {
          "font": {
           "color": "rgb(255, 255, 255)",
           "family": "PT Sans",
           "size": 15
          },
          "showarrow": false,
          "text": "<b>15%</b>",
          "x": 0.45588235294117646,
          "xref": "x",
          "y": "Watched",
          "yref": "y"
         },
         {
          "font": {
           "color": "rgb(255, 255, 255)",
           "family": "PT Sans",
           "size": 15
          },
          "showarrow": false,
          "text": "<b>47%</b>",
          "x": 0.7647058823529411,
          "xref": "x",
          "y": "Watched",
          "yref": "y"
         },
         {
          "align": "right",
          "font": {
           "color": "white",
           "family": "PT Sans",
           "size": 18
          },
          "showarrow": false,
          "text": "Not Watched",
          "x": 0.065,
          "xanchor": "right",
          "xref": "paper",
          "y": "Not Watched",
          "yref": "y"
         },
         {
          "font": {
           "color": "rgb(255, 255, 255)",
           "family": "PT Sans",
           "size": 15
          },
          "showarrow": false,
          "text": "<b>21%</b>",
          "x": 0.10714285714285714,
          "xref": "x",
          "y": "Not Watched",
          "yref": "y"
         },
         {
          "font": {
           "color": "rgb(255, 255, 255)",
           "family": "PT Sans",
           "size": 15
          },
          "showarrow": false,
          "text": "<b>14%</b>",
          "x": 0.2857142857142857,
          "xref": "x",
          "y": "Not Watched",
          "yref": "y"
         },
         {
          "font": {
           "color": "rgb(255, 255, 255)",
           "family": "PT Sans",
           "size": 15
          },
          "showarrow": false,
          "text": "<b>14%</b>",
          "x": 0.4285714285714285,
          "xref": "x",
          "y": "Not Watched",
          "yref": "y"
         },
         {
          "font": {
           "color": "rgb(255, 255, 255)",
           "family": "PT Sans",
           "size": 15
          },
          "showarrow": false,
          "text": "<b>32%</b>",
          "x": 0.6607142857142857,
          "xref": "x",
          "y": "Not Watched",
          "yref": "y"
         },
         {
          "font": {
           "color": "rgb(255, 255, 255)",
           "family": "PT Sans",
           "size": 15
          },
          "showarrow": false,
          "text": "<b>18%</b>",
          "x": 0.9107142857142857,
          "xref": "x",
          "y": "Not Watched",
          "yref": "y"
         }
        ],
        "bargap": 0.2,
        "barmode": "stack",
        "height": 320,
        "legend": {
         "bgcolor": "#151E27",
         "font": {
          "color": "white",
          "family": "PT Sans",
          "size": 16
         },
         "orientation": "h",
         "traceorder": "normal",
         "x": 0.96,
         "xanchor": "right",
         "y": 1,
         "yanchor": "bottom"
        },
        "margin": {
         "b": 50,
         "l": 90,
         "r": 10,
         "t": 100
        },
        "paper_bgcolor": "#151E27",
        "plot_bgcolor": "#151E27",
        "showlegend": true,
        "template": {
         "data": {
          "bar": [
           {
            "error_x": {
             "color": "#2a3f5f"
            },
            "error_y": {
             "color": "#2a3f5f"
            },
            "marker": {
             "line": {
              "color": "#E5ECF6",
              "width": 0.5
             },
             "pattern": {
              "fillmode": "overlay",
              "size": 10,
              "solidity": 0.2
             }
            },
            "type": "bar"
           }
          ],
          "barpolar": [
           {
            "marker": {
             "line": {
              "color": "#E5ECF6",
              "width": 0.5
             },
             "pattern": {
              "fillmode": "overlay",
              "size": 10,
              "solidity": 0.2
             }
            },
            "type": "barpolar"
           }
          ],
          "carpet": [
           {
            "aaxis": {
             "endlinecolor": "#2a3f5f",
             "gridcolor": "white",
             "linecolor": "white",
             "minorgridcolor": "white",
             "startlinecolor": "#2a3f5f"
            },
            "baxis": {
             "endlinecolor": "#2a3f5f",
             "gridcolor": "white",
             "linecolor": "white",
             "minorgridcolor": "white",
             "startlinecolor": "#2a3f5f"
            },
            "type": "carpet"
           }
          ],
          "choropleth": [
           {
            "colorbar": {
             "outlinewidth": 0,
             "ticks": ""
            },
            "type": "choropleth"
           }
          ],
          "contour": [
           {
            "colorbar": {
             "outlinewidth": 0,
             "ticks": ""
            },
            "colorscale": [
             [
              0,
              "#0d0887"
             ],
             [
              0.1111111111111111,
              "#46039f"
             ],
             [
              0.2222222222222222,
              "#7201a8"
             ],
             [
              0.3333333333333333,
              "#9c179e"
             ],
             [
              0.4444444444444444,
              "#bd3786"
             ],
             [
              0.5555555555555556,
              "#d8576b"
             ],
             [
              0.6666666666666666,
              "#ed7953"
             ],
             [
              0.7777777777777778,
              "#fb9f3a"
             ],
             [
              0.8888888888888888,
              "#fdca26"
             ],
             [
              1,
              "#f0f921"
             ]
            ],
            "type": "contour"
           }
          ],
          "contourcarpet": [
           {
            "colorbar": {
             "outlinewidth": 0,
             "ticks": ""
            },
            "type": "contourcarpet"
           }
          ],
          "heatmap": [
           {
            "colorbar": {
             "outlinewidth": 0,
             "ticks": ""
            },
            "colorscale": [
             [
              0,
              "#0d0887"
             ],
             [
              0.1111111111111111,
              "#46039f"
             ],
             [
              0.2222222222222222,
              "#7201a8"
             ],
             [
              0.3333333333333333,
              "#9c179e"
             ],
             [
              0.4444444444444444,
              "#bd3786"
             ],
             [
              0.5555555555555556,
              "#d8576b"
             ],
             [
              0.6666666666666666,
              "#ed7953"
             ],
             [
              0.7777777777777778,
              "#fb9f3a"
             ],
             [
              0.8888888888888888,
              "#fdca26"
             ],
             [
              1,
              "#f0f921"
             ]
            ],
            "type": "heatmap"
           }
          ],
          "heatmapgl": [
           {
            "colorbar": {
             "outlinewidth": 0,
             "ticks": ""
            },
            "colorscale": [
             [
              0,
              "#0d0887"
             ],
             [
              0.1111111111111111,
              "#46039f"
             ],
             [
              0.2222222222222222,
              "#7201a8"
             ],
             [
              0.3333333333333333,
              "#9c179e"
             ],
             [
              0.4444444444444444,
              "#bd3786"
             ],
             [
              0.5555555555555556,
              "#d8576b"
             ],
             [
              0.6666666666666666,
              "#ed7953"
             ],
             [
              0.7777777777777778,
              "#fb9f3a"
             ],
             [
              0.8888888888888888,
              "#fdca26"
             ],
             [
              1,
              "#f0f921"
             ]
            ],
            "type": "heatmapgl"
           }
          ],
          "histogram": [
           {
            "marker": {
             "pattern": {
              "fillmode": "overlay",
              "size": 10,
              "solidity": 0.2
             }
            },
            "type": "histogram"
           }
          ],
          "histogram2d": [
           {
            "colorbar": {
             "outlinewidth": 0,
             "ticks": ""
            },
            "colorscale": [
             [
              0,
              "#0d0887"
             ],
             [
              0.1111111111111111,
              "#46039f"
             ],
             [
              0.2222222222222222,
              "#7201a8"
             ],
             [
              0.3333333333333333,
              "#9c179e"
             ],
             [
              0.4444444444444444,
              "#bd3786"
             ],
             [
              0.5555555555555556,
              "#d8576b"
             ],
             [
              0.6666666666666666,
              "#ed7953"
             ],
             [
              0.7777777777777778,
              "#fb9f3a"
             ],
             [
              0.8888888888888888,
              "#fdca26"
             ],
             [
              1,
              "#f0f921"
             ]
            ],
            "type": "histogram2d"
           }
          ],
          "histogram2dcontour": [
           {
            "colorbar": {
             "outlinewidth": 0,
             "ticks": ""
            },
            "colorscale": [
             [
              0,
              "#0d0887"
             ],
             [
              0.1111111111111111,
              "#46039f"
             ],
             [
              0.2222222222222222,
              "#7201a8"
             ],
             [
              0.3333333333333333,
              "#9c179e"
             ],
             [
              0.4444444444444444,
              "#bd3786"
             ],
             [
              0.5555555555555556,
              "#d8576b"
             ],
             [
              0.6666666666666666,
              "#ed7953"
             ],
             [
              0.7777777777777778,
              "#fb9f3a"
             ],
             [
              0.8888888888888888,
              "#fdca26"
             ],
             [
              1,
              "#f0f921"
             ]
            ],
            "type": "histogram2dcontour"
           }
          ],
          "mesh3d": [
           {
            "colorbar": {
             "outlinewidth": 0,
             "ticks": ""
            },
            "type": "mesh3d"
           }
          ],
          "parcoords": [
           {
            "line": {
             "colorbar": {
              "outlinewidth": 0,
              "ticks": ""
             }
            },
            "type": "parcoords"
           }
          ],
          "pie": [
           {
            "automargin": true,
            "type": "pie"
           }
          ],
          "scatter": [
           {
            "fillpattern": {
             "fillmode": "overlay",
             "size": 10,
             "solidity": 0.2
            },
            "type": "scatter"
           }
          ],
          "scatter3d": [
           {
            "line": {
             "colorbar": {
              "outlinewidth": 0,
              "ticks": ""
             }
            },
            "marker": {
             "colorbar": {
              "outlinewidth": 0,
              "ticks": ""
             }
            },
            "type": "scatter3d"
           }
          ],
          "scattercarpet": [
           {
            "marker": {
             "colorbar": {
              "outlinewidth": 0,
              "ticks": ""
             }
            },
            "type": "scattercarpet"
           }
          ],
          "scattergeo": [
           {
            "marker": {
             "colorbar": {
              "outlinewidth": 0,
              "ticks": ""
             }
            },
            "type": "scattergeo"
           }
          ],
          "scattergl": [
           {
            "marker": {
             "colorbar": {
              "outlinewidth": 0,
              "ticks": ""
             }
            },
            "type": "scattergl"
           }
          ],
          "scattermapbox": [
           {
            "marker": {
             "colorbar": {
              "outlinewidth": 0,
              "ticks": ""
             }
            },
            "type": "scattermapbox"
           }
          ],
          "scatterpolar": [
           {
            "marker": {
             "colorbar": {
              "outlinewidth": 0,
              "ticks": ""
             }
            },
            "type": "scatterpolar"
           }
          ],
          "scatterpolargl": [
           {
            "marker": {
             "colorbar": {
              "outlinewidth": 0,
              "ticks": ""
             }
            },
            "type": "scatterpolargl"
           }
          ],
          "scatterternary": [
           {
            "marker": {
             "colorbar": {
              "outlinewidth": 0,
              "ticks": ""
             }
            },
            "type": "scatterternary"
           }
          ],
          "surface": [
           {
            "colorbar": {
             "outlinewidth": 0,
             "ticks": ""
            },
            "colorscale": [
             [
              0,
              "#0d0887"
             ],
             [
              0.1111111111111111,
              "#46039f"
             ],
             [
              0.2222222222222222,
              "#7201a8"
             ],
             [
              0.3333333333333333,
              "#9c179e"
             ],
             [
              0.4444444444444444,
              "#bd3786"
             ],
             [
              0.5555555555555556,
              "#d8576b"
             ],
             [
              0.6666666666666666,
              "#ed7953"
             ],
             [
              0.7777777777777778,
              "#fb9f3a"
             ],
             [
              0.8888888888888888,
              "#fdca26"
             ],
             [
              1,
              "#f0f921"
             ]
            ],
            "type": "surface"
           }
          ],
          "table": [
           {
            "cells": {
             "fill": {
              "color": "#EBF0F8"
             },
             "line": {
              "color": "white"
             }
            },
            "header": {
             "fill": {
              "color": "#C8D4E3"
             },
             "line": {
              "color": "white"
             }
            },
            "type": "table"
           }
          ]
         },
         "layout": {
          "annotationdefaults": {
           "arrowcolor": "#2a3f5f",
           "arrowhead": 0,
           "arrowwidth": 1
          },
          "autotypenumbers": "strict",
          "coloraxis": {
           "colorbar": {
            "outlinewidth": 0,
            "ticks": ""
           }
          },
          "colorscale": {
           "diverging": [
            [
             0,
             "#8e0152"
            ],
            [
             0.1,
             "#c51b7d"
            ],
            [
             0.2,
             "#de77ae"
            ],
            [
             0.3,
             "#f1b6da"
            ],
            [
             0.4,
             "#fde0ef"
            ],
            [
             0.5,
             "#f7f7f7"
            ],
            [
             0.6,
             "#e6f5d0"
            ],
            [
             0.7,
             "#b8e186"
            ],
            [
             0.8,
             "#7fbc41"
            ],
            [
             0.9,
             "#4d9221"
            ],
            [
             1,
             "#276419"
            ]
           ],
           "sequential": [
            [
             0,
             "#0d0887"
            ],
            [
             0.1111111111111111,
             "#46039f"
            ],
            [
             0.2222222222222222,
             "#7201a8"
            ],
            [
             0.3333333333333333,
             "#9c179e"
            ],
            [
             0.4444444444444444,
             "#bd3786"
            ],
            [
             0.5555555555555556,
             "#d8576b"
            ],
            [
             0.6666666666666666,
             "#ed7953"
            ],
            [
             0.7777777777777778,
             "#fb9f3a"
            ],
            [
             0.8888888888888888,
             "#fdca26"
            ],
            [
             1,
             "#f0f921"
            ]
           ],
           "sequentialminus": [
            [
             0,
             "#0d0887"
            ],
            [
             0.1111111111111111,
             "#46039f"
            ],
            [
             0.2222222222222222,
             "#7201a8"
            ],
            [
             0.3333333333333333,
             "#9c179e"
            ],
            [
             0.4444444444444444,
             "#bd3786"
            ],
            [
             0.5555555555555556,
             "#d8576b"
            ],
            [
             0.6666666666666666,
             "#ed7953"
            ],
            [
             0.7777777777777778,
             "#fb9f3a"
            ],
            [
             0.8888888888888888,
             "#fdca26"
            ],
            [
             1,
             "#f0f921"
            ]
           ]
          },
          "colorway": [
           "#636efa",
           "#EF553B",
           "#00cc96",
           "#ab63fa",
           "#FFA15A",
           "#19d3f3",
           "#FF6692",
           "#B6E880",
           "#FF97FF",
           "#FECB52"
          ],
          "font": {
           "color": "#2a3f5f"
          },
          "geo": {
           "bgcolor": "white",
           "lakecolor": "white",
           "landcolor": "#E5ECF6",
           "showlakes": true,
           "showland": true,
           "subunitcolor": "white"
          },
          "hoverlabel": {
           "align": "left"
          },
          "hovermode": "closest",
          "mapbox": {
           "style": "light"
          },
          "paper_bgcolor": "white",
          "plot_bgcolor": "#E5ECF6",
          "polar": {
           "angularaxis": {
            "gridcolor": "white",
            "linecolor": "white",
            "ticks": ""
           },
           "bgcolor": "#E5ECF6",
           "radialaxis": {
            "gridcolor": "white",
            "linecolor": "white",
            "ticks": ""
           }
          },
          "scene": {
           "xaxis": {
            "backgroundcolor": "#E5ECF6",
            "gridcolor": "white",
            "gridwidth": 2,
            "linecolor": "white",
            "showbackground": true,
            "ticks": "",
            "zerolinecolor": "white"
           },
           "yaxis": {
            "backgroundcolor": "#E5ECF6",
            "gridcolor": "white",
            "gridwidth": 2,
            "linecolor": "white",
            "showbackground": true,
            "ticks": "",
            "zerolinecolor": "white"
           },
           "zaxis": {
            "backgroundcolor": "#E5ECF6",
            "gridcolor": "white",
            "gridwidth": 2,
            "linecolor": "white",
            "showbackground": true,
            "ticks": "",
            "zerolinecolor": "white"
           }
          },
          "shapedefaults": {
           "line": {
            "color": "#2a3f5f"
           }
          },
          "ternary": {
           "aaxis": {
            "gridcolor": "white",
            "linecolor": "white",
            "ticks": ""
           },
           "baxis": {
            "gridcolor": "white",
            "linecolor": "white",
            "ticks": ""
           },
           "bgcolor": "#E5ECF6",
           "caxis": {
            "gridcolor": "white",
            "linecolor": "white",
            "ticks": ""
           }
          },
          "title": {
           "x": 0.05
          },
          "xaxis": {
           "automargin": true,
           "gridcolor": "white",
           "linecolor": "white",
           "ticks": "",
           "title": {
            "standoff": 15
           },
           "zerolinecolor": "white",
           "zerolinewidth": 2
          },
          "yaxis": {
           "automargin": true,
           "gridcolor": "white",
           "linecolor": "white",
           "ticks": "",
           "title": {
            "standoff": 15
           },
           "zerolinecolor": "white",
           "zerolinewidth": 2
          }
         }
        },
        "title": {
         "font": {
          "color": "white",
          "family": "Proxima Nova",
          "size": 25
         },
         "pad": {
          "t": 30
         },
         "text": "<b>I am aware of resources available to those struggling with addiction.</b>",
         "y": 1,
         "yanchor": "top"
        },
        "width": 1000,
        "xaxis": {
         "domain": [
          0.08,
          1
         ],
         "dtick": 0.25,
         "gridcolor": "#151E27",
         "gridwidth": 0,
         "linecolor": "#151E27",
         "linewidth": 0,
         "showticklabels": false,
         "tick0": 0,
         "tickfont": {
          "color": "white",
          "family": "PT Sans",
          "size": 14
         },
         "tickformat": ",.0%",
         "tickmode": "linear",
         "zeroline": false
        },
        "yaxis": {
         "autorange": "reversed",
         "showticklabels": false
        }
       }
      }
     },
     "metadata": {},
     "output_type": "display_data"
    },
    {
     "data": {
      "application/vnd.plotly.v1+json": {
       "config": {
        "plotlyServerURL": "https://plot.ly"
       },
       "data": [
        {
         "marker": {
          "color": "rgb(158,34,162)",
          "line": {
           "color": "white",
           "width": 0
          }
         },
         "name": "Strongly Disagree",
         "orientation": "h",
         "showlegend": true,
         "type": "bar",
         "x": [
          0
         ],
         "y": [
          "Watched"
         ]
        },
        {
         "marker": {
          "color": "rgb(158,34,162)",
          "line": {
           "color": "white",
           "width": 0
          }
         },
         "name": "Strongly Disagree",
         "orientation": "h",
         "showlegend": false,
         "type": "bar",
         "x": [
          0
         ],
         "y": [
          "Not Watched"
         ]
        },
        {
         "marker": {
          "color": "rgb(198,156,234)",
          "line": {
           "color": "white",
           "width": 0
          }
         },
         "name": "Disagree",
         "orientation": "h",
         "showlegend": true,
         "type": "bar",
         "x": [
          0
         ],
         "y": [
          "Watched"
         ]
        },
        {
         "marker": {
          "color": "rgb(198,156,234)",
          "line": {
           "color": "white",
           "width": 0
          }
         },
         "name": "Disagree",
         "orientation": "h",
         "showlegend": false,
         "type": "bar",
         "x": [
          0.07142857142857142
         ],
         "y": [
          "Not Watched"
         ]
        },
        {
         "marker": {
          "color": "rgb(200, 192, 234)",
          "line": {
           "color": "white",
           "width": 0
          }
         },
         "name": "Neutral",
         "orientation": "h",
         "showlegend": true,
         "type": "bar",
         "x": [
          0.029411764705882353
         ],
         "y": [
          "Watched"
         ]
        },
        {
         "marker": {
          "color": "rgb(200, 192, 234)",
          "line": {
           "color": "white",
           "width": 0
          }
         },
         "name": "Neutral",
         "orientation": "h",
         "showlegend": false,
         "type": "bar",
         "x": [
          0.10714285714285714
         ],
         "y": [
          "Not Watched"
         ]
        },
        {
         "marker": {
          "color": "rgb(114,133,225)",
          "line": {
           "color": "white",
           "width": 0
          }
         },
         "name": "Agree",
         "orientation": "h",
         "showlegend": true,
         "type": "bar",
         "x": [
          0.2647058823529412
         ],
         "y": [
          "Watched"
         ]
        },
        {
         "marker": {
          "color": "rgb(114,133,225)",
          "line": {
           "color": "white",
           "width": 0
          }
         },
         "name": "Agree",
         "orientation": "h",
         "showlegend": false,
         "type": "bar",
         "x": [
          0.25
         ],
         "y": [
          "Not Watched"
         ]
        },
        {
         "marker": {
          "color": "rgb(51, 51, 154)",
          "line": {
           "color": "white",
           "width": 0
          }
         },
         "name": "Strongly Agree",
         "orientation": "h",
         "showlegend": true,
         "type": "bar",
         "x": [
          0.7058823529411765
         ],
         "y": [
          "Watched"
         ]
        },
        {
         "marker": {
          "color": "rgb(51, 51, 154)",
          "line": {
           "color": "white",
           "width": 0
          }
         },
         "name": "Strongly Agree",
         "orientation": "h",
         "showlegend": false,
         "type": "bar",
         "x": [
          0.5714285714285714
         ],
         "y": [
          "Not Watched"
         ]
        }
       ],
       "layout": {
        "annotations": [
         {
          "align": "right",
          "font": {
           "color": "white",
           "family": "PT Sans",
           "size": 18
          },
          "showarrow": false,
          "text": "Watched",
          "x": 0.065,
          "xanchor": "right",
          "xref": "paper",
          "y": "Watched",
          "yref": "y"
         },
         {
          "font": {
           "color": "rgb(255, 255, 255)",
           "family": "PT Sans",
           "size": 15
          },
          "showarrow": false,
          "text": "<b>3%</b>",
          "x": 0.014705882352941176,
          "xref": "x",
          "y": "Watched",
          "yref": "y"
         },
         {
          "font": {
           "color": "rgb(255, 255, 255)",
           "family": "PT Sans",
           "size": 15
          },
          "showarrow": false,
          "text": "<b>26%</b>",
          "x": 0.16176470588235295,
          "xref": "x",
          "y": "Watched",
          "yref": "y"
         },
         {
          "font": {
           "color": "rgb(255, 255, 255)",
           "family": "PT Sans",
           "size": 15
          },
          "showarrow": false,
          "text": "<b>71%</b>",
          "x": 0.6470588235294118,
          "xref": "x",
          "y": "Watched",
          "yref": "y"
         },
         {
          "align": "right",
          "font": {
           "color": "white",
           "family": "PT Sans",
           "size": 18
          },
          "showarrow": false,
          "text": "Not Watched",
          "x": 0.065,
          "xanchor": "right",
          "xref": "paper",
          "y": "Not Watched",
          "yref": "y"
         },
         {
          "font": {
           "color": "rgb(255, 255, 255)",
           "family": "PT Sans",
           "size": 15
          },
          "showarrow": false,
          "text": "<b>7%</b>",
          "x": 0.03571428571428571,
          "xref": "x",
          "y": "Not Watched",
          "yref": "y"
         },
         {
          "font": {
           "color": "rgb(255, 255, 255)",
           "family": "PT Sans",
           "size": 15
          },
          "showarrow": false,
          "text": "<b>11%</b>",
          "x": 0.125,
          "xref": "x",
          "y": "Not Watched",
          "yref": "y"
         },
         {
          "font": {
           "color": "rgb(255, 255, 255)",
           "family": "PT Sans",
           "size": 15
          },
          "showarrow": false,
          "text": "<b>25%</b>",
          "x": 0.30357142857142855,
          "xref": "x",
          "y": "Not Watched",
          "yref": "y"
         },
         {
          "font": {
           "color": "rgb(255, 255, 255)",
           "family": "PT Sans",
           "size": 15
          },
          "showarrow": false,
          "text": "<b>57%</b>",
          "x": 0.7142857142857142,
          "xref": "x",
          "y": "Not Watched",
          "yref": "y"
         }
        ],
        "bargap": 0.2,
        "barmode": "stack",
        "height": 320,
        "legend": {
         "bgcolor": "#151E27",
         "font": {
          "color": "white",
          "family": "PT Sans",
          "size": 16
         },
         "orientation": "h",
         "traceorder": "normal",
         "x": 0.96,
         "xanchor": "right",
         "y": 1,
         "yanchor": "bottom"
        },
        "margin": {
         "b": 50,
         "l": 90,
         "r": 10,
         "t": 100
        },
        "paper_bgcolor": "#151E27",
        "plot_bgcolor": "#151E27",
        "showlegend": true,
        "template": {
         "data": {
          "bar": [
           {
            "error_x": {
             "color": "#2a3f5f"
            },
            "error_y": {
             "color": "#2a3f5f"
            },
            "marker": {
             "line": {
              "color": "#E5ECF6",
              "width": 0.5
             },
             "pattern": {
              "fillmode": "overlay",
              "size": 10,
              "solidity": 0.2
             }
            },
            "type": "bar"
           }
          ],
          "barpolar": [
           {
            "marker": {
             "line": {
              "color": "#E5ECF6",
              "width": 0.5
             },
             "pattern": {
              "fillmode": "overlay",
              "size": 10,
              "solidity": 0.2
             }
            },
            "type": "barpolar"
           }
          ],
          "carpet": [
           {
            "aaxis": {
             "endlinecolor": "#2a3f5f",
             "gridcolor": "white",
             "linecolor": "white",
             "minorgridcolor": "white",
             "startlinecolor": "#2a3f5f"
            },
            "baxis": {
             "endlinecolor": "#2a3f5f",
             "gridcolor": "white",
             "linecolor": "white",
             "minorgridcolor": "white",
             "startlinecolor": "#2a3f5f"
            },
            "type": "carpet"
           }
          ],
          "choropleth": [
           {
            "colorbar": {
             "outlinewidth": 0,
             "ticks": ""
            },
            "type": "choropleth"
           }
          ],
          "contour": [
           {
            "colorbar": {
             "outlinewidth": 0,
             "ticks": ""
            },
            "colorscale": [
             [
              0,
              "#0d0887"
             ],
             [
              0.1111111111111111,
              "#46039f"
             ],
             [
              0.2222222222222222,
              "#7201a8"
             ],
             [
              0.3333333333333333,
              "#9c179e"
             ],
             [
              0.4444444444444444,
              "#bd3786"
             ],
             [
              0.5555555555555556,
              "#d8576b"
             ],
             [
              0.6666666666666666,
              "#ed7953"
             ],
             [
              0.7777777777777778,
              "#fb9f3a"
             ],
             [
              0.8888888888888888,
              "#fdca26"
             ],
             [
              1,
              "#f0f921"
             ]
            ],
            "type": "contour"
           }
          ],
          "contourcarpet": [
           {
            "colorbar": {
             "outlinewidth": 0,
             "ticks": ""
            },
            "type": "contourcarpet"
           }
          ],
          "heatmap": [
           {
            "colorbar": {
             "outlinewidth": 0,
             "ticks": ""
            },
            "colorscale": [
             [
              0,
              "#0d0887"
             ],
             [
              0.1111111111111111,
              "#46039f"
             ],
             [
              0.2222222222222222,
              "#7201a8"
             ],
             [
              0.3333333333333333,
              "#9c179e"
             ],
             [
              0.4444444444444444,
              "#bd3786"
             ],
             [
              0.5555555555555556,
              "#d8576b"
             ],
             [
              0.6666666666666666,
              "#ed7953"
             ],
             [
              0.7777777777777778,
              "#fb9f3a"
             ],
             [
              0.8888888888888888,
              "#fdca26"
             ],
             [
              1,
              "#f0f921"
             ]
            ],
            "type": "heatmap"
           }
          ],
          "heatmapgl": [
           {
            "colorbar": {
             "outlinewidth": 0,
             "ticks": ""
            },
            "colorscale": [
             [
              0,
              "#0d0887"
             ],
             [
              0.1111111111111111,
              "#46039f"
             ],
             [
              0.2222222222222222,
              "#7201a8"
             ],
             [
              0.3333333333333333,
              "#9c179e"
             ],
             [
              0.4444444444444444,
              "#bd3786"
             ],
             [
              0.5555555555555556,
              "#d8576b"
             ],
             [
              0.6666666666666666,
              "#ed7953"
             ],
             [
              0.7777777777777778,
              "#fb9f3a"
             ],
             [
              0.8888888888888888,
              "#fdca26"
             ],
             [
              1,
              "#f0f921"
             ]
            ],
            "type": "heatmapgl"
           }
          ],
          "histogram": [
           {
            "marker": {
             "pattern": {
              "fillmode": "overlay",
              "size": 10,
              "solidity": 0.2
             }
            },
            "type": "histogram"
           }
          ],
          "histogram2d": [
           {
            "colorbar": {
             "outlinewidth": 0,
             "ticks": ""
            },
            "colorscale": [
             [
              0,
              "#0d0887"
             ],
             [
              0.1111111111111111,
              "#46039f"
             ],
             [
              0.2222222222222222,
              "#7201a8"
             ],
             [
              0.3333333333333333,
              "#9c179e"
             ],
             [
              0.4444444444444444,
              "#bd3786"
             ],
             [
              0.5555555555555556,
              "#d8576b"
             ],
             [
              0.6666666666666666,
              "#ed7953"
             ],
             [
              0.7777777777777778,
              "#fb9f3a"
             ],
             [
              0.8888888888888888,
              "#fdca26"
             ],
             [
              1,
              "#f0f921"
             ]
            ],
            "type": "histogram2d"
           }
          ],
          "histogram2dcontour": [
           {
            "colorbar": {
             "outlinewidth": 0,
             "ticks": ""
            },
            "colorscale": [
             [
              0,
              "#0d0887"
             ],
             [
              0.1111111111111111,
              "#46039f"
             ],
             [
              0.2222222222222222,
              "#7201a8"
             ],
             [
              0.3333333333333333,
              "#9c179e"
             ],
             [
              0.4444444444444444,
              "#bd3786"
             ],
             [
              0.5555555555555556,
              "#d8576b"
             ],
             [
              0.6666666666666666,
              "#ed7953"
             ],
             [
              0.7777777777777778,
              "#fb9f3a"
             ],
             [
              0.8888888888888888,
              "#fdca26"
             ],
             [
              1,
              "#f0f921"
             ]
            ],
            "type": "histogram2dcontour"
           }
          ],
          "mesh3d": [
           {
            "colorbar": {
             "outlinewidth": 0,
             "ticks": ""
            },
            "type": "mesh3d"
           }
          ],
          "parcoords": [
           {
            "line": {
             "colorbar": {
              "outlinewidth": 0,
              "ticks": ""
             }
            },
            "type": "parcoords"
           }
          ],
          "pie": [
           {
            "automargin": true,
            "type": "pie"
           }
          ],
          "scatter": [
           {
            "fillpattern": {
             "fillmode": "overlay",
             "size": 10,
             "solidity": 0.2
            },
            "type": "scatter"
           }
          ],
          "scatter3d": [
           {
            "line": {
             "colorbar": {
              "outlinewidth": 0,
              "ticks": ""
             }
            },
            "marker": {
             "colorbar": {
              "outlinewidth": 0,
              "ticks": ""
             }
            },
            "type": "scatter3d"
           }
          ],
          "scattercarpet": [
           {
            "marker": {
             "colorbar": {
              "outlinewidth": 0,
              "ticks": ""
             }
            },
            "type": "scattercarpet"
           }
          ],
          "scattergeo": [
           {
            "marker": {
             "colorbar": {
              "outlinewidth": 0,
              "ticks": ""
             }
            },
            "type": "scattergeo"
           }
          ],
          "scattergl": [
           {
            "marker": {
             "colorbar": {
              "outlinewidth": 0,
              "ticks": ""
             }
            },
            "type": "scattergl"
           }
          ],
          "scattermapbox": [
           {
            "marker": {
             "colorbar": {
              "outlinewidth": 0,
              "ticks": ""
             }
            },
            "type": "scattermapbox"
           }
          ],
          "scatterpolar": [
           {
            "marker": {
             "colorbar": {
              "outlinewidth": 0,
              "ticks": ""
             }
            },
            "type": "scatterpolar"
           }
          ],
          "scatterpolargl": [
           {
            "marker": {
             "colorbar": {
              "outlinewidth": 0,
              "ticks": ""
             }
            },
            "type": "scatterpolargl"
           }
          ],
          "scatterternary": [
           {
            "marker": {
             "colorbar": {
              "outlinewidth": 0,
              "ticks": ""
             }
            },
            "type": "scatterternary"
           }
          ],
          "surface": [
           {
            "colorbar": {
             "outlinewidth": 0,
             "ticks": ""
            },
            "colorscale": [
             [
              0,
              "#0d0887"
             ],
             [
              0.1111111111111111,
              "#46039f"
             ],
             [
              0.2222222222222222,
              "#7201a8"
             ],
             [
              0.3333333333333333,
              "#9c179e"
             ],
             [
              0.4444444444444444,
              "#bd3786"
             ],
             [
              0.5555555555555556,
              "#d8576b"
             ],
             [
              0.6666666666666666,
              "#ed7953"
             ],
             [
              0.7777777777777778,
              "#fb9f3a"
             ],
             [
              0.8888888888888888,
              "#fdca26"
             ],
             [
              1,
              "#f0f921"
             ]
            ],
            "type": "surface"
           }
          ],
          "table": [
           {
            "cells": {
             "fill": {
              "color": "#EBF0F8"
             },
             "line": {
              "color": "white"
             }
            },
            "header": {
             "fill": {
              "color": "#C8D4E3"
             },
             "line": {
              "color": "white"
             }
            },
            "type": "table"
           }
          ]
         },
         "layout": {
          "annotationdefaults": {
           "arrowcolor": "#2a3f5f",
           "arrowhead": 0,
           "arrowwidth": 1
          },
          "autotypenumbers": "strict",
          "coloraxis": {
           "colorbar": {
            "outlinewidth": 0,
            "ticks": ""
           }
          },
          "colorscale": {
           "diverging": [
            [
             0,
             "#8e0152"
            ],
            [
             0.1,
             "#c51b7d"
            ],
            [
             0.2,
             "#de77ae"
            ],
            [
             0.3,
             "#f1b6da"
            ],
            [
             0.4,
             "#fde0ef"
            ],
            [
             0.5,
             "#f7f7f7"
            ],
            [
             0.6,
             "#e6f5d0"
            ],
            [
             0.7,
             "#b8e186"
            ],
            [
             0.8,
             "#7fbc41"
            ],
            [
             0.9,
             "#4d9221"
            ],
            [
             1,
             "#276419"
            ]
           ],
           "sequential": [
            [
             0,
             "#0d0887"
            ],
            [
             0.1111111111111111,
             "#46039f"
            ],
            [
             0.2222222222222222,
             "#7201a8"
            ],
            [
             0.3333333333333333,
             "#9c179e"
            ],
            [
             0.4444444444444444,
             "#bd3786"
            ],
            [
             0.5555555555555556,
             "#d8576b"
            ],
            [
             0.6666666666666666,
             "#ed7953"
            ],
            [
             0.7777777777777778,
             "#fb9f3a"
            ],
            [
             0.8888888888888888,
             "#fdca26"
            ],
            [
             1,
             "#f0f921"
            ]
           ],
           "sequentialminus": [
            [
             0,
             "#0d0887"
            ],
            [
             0.1111111111111111,
             "#46039f"
            ],
            [
             0.2222222222222222,
             "#7201a8"
            ],
            [
             0.3333333333333333,
             "#9c179e"
            ],
            [
             0.4444444444444444,
             "#bd3786"
            ],
            [
             0.5555555555555556,
             "#d8576b"
            ],
            [
             0.6666666666666666,
             "#ed7953"
            ],
            [
             0.7777777777777778,
             "#fb9f3a"
            ],
            [
             0.8888888888888888,
             "#fdca26"
            ],
            [
             1,
             "#f0f921"
            ]
           ]
          },
          "colorway": [
           "#636efa",
           "#EF553B",
           "#00cc96",
           "#ab63fa",
           "#FFA15A",
           "#19d3f3",
           "#FF6692",
           "#B6E880",
           "#FF97FF",
           "#FECB52"
          ],
          "font": {
           "color": "#2a3f5f"
          },
          "geo": {
           "bgcolor": "white",
           "lakecolor": "white",
           "landcolor": "#E5ECF6",
           "showlakes": true,
           "showland": true,
           "subunitcolor": "white"
          },
          "hoverlabel": {
           "align": "left"
          },
          "hovermode": "closest",
          "mapbox": {
           "style": "light"
          },
          "paper_bgcolor": "white",
          "plot_bgcolor": "#E5ECF6",
          "polar": {
           "angularaxis": {
            "gridcolor": "white",
            "linecolor": "white",
            "ticks": ""
           },
           "bgcolor": "#E5ECF6",
           "radialaxis": {
            "gridcolor": "white",
            "linecolor": "white",
            "ticks": ""
           }
          },
          "scene": {
           "xaxis": {
            "backgroundcolor": "#E5ECF6",
            "gridcolor": "white",
            "gridwidth": 2,
            "linecolor": "white",
            "showbackground": true,
            "ticks": "",
            "zerolinecolor": "white"
           },
           "yaxis": {
            "backgroundcolor": "#E5ECF6",
            "gridcolor": "white",
            "gridwidth": 2,
            "linecolor": "white",
            "showbackground": true,
            "ticks": "",
            "zerolinecolor": "white"
           },
           "zaxis": {
            "backgroundcolor": "#E5ECF6",
            "gridcolor": "white",
            "gridwidth": 2,
            "linecolor": "white",
            "showbackground": true,
            "ticks": "",
            "zerolinecolor": "white"
           }
          },
          "shapedefaults": {
           "line": {
            "color": "#2a3f5f"
           }
          },
          "ternary": {
           "aaxis": {
            "gridcolor": "white",
            "linecolor": "white",
            "ticks": ""
           },
           "baxis": {
            "gridcolor": "white",
            "linecolor": "white",
            "ticks": ""
           },
           "bgcolor": "#E5ECF6",
           "caxis": {
            "gridcolor": "white",
            "linecolor": "white",
            "ticks": ""
           }
          },
          "title": {
           "x": 0.05
          },
          "xaxis": {
           "automargin": true,
           "gridcolor": "white",
           "linecolor": "white",
           "ticks": "",
           "title": {
            "standoff": 15
           },
           "zerolinecolor": "white",
           "zerolinewidth": 2
          },
          "yaxis": {
           "automargin": true,
           "gridcolor": "white",
           "linecolor": "white",
           "ticks": "",
           "title": {
            "standoff": 15
           },
           "zerolinecolor": "white",
           "zerolinewidth": 2
          }
         }
        },
        "title": {
         "font": {
          "color": "white",
          "family": "Proxima Nova",
          "size": 25
         },
         "pad": {
          "t": 30
         },
         "text": "<b>I am knowledgeable about the danger of lacing drugs.</b>",
         "y": 1,
         "yanchor": "top"
        },
        "width": 1000,
        "xaxis": {
         "domain": [
          0.08,
          1
         ],
         "dtick": 0.25,
         "gridcolor": "#151E27",
         "gridwidth": 0,
         "linecolor": "#151E27",
         "linewidth": 0,
         "showticklabels": false,
         "tick0": 0,
         "tickfont": {
          "color": "white",
          "family": "PT Sans",
          "size": 14
         },
         "tickformat": ",.0%",
         "tickmode": "linear",
         "zeroline": false
        },
        "yaxis": {
         "autorange": "reversed",
         "showticklabels": false
        }
       }
      }
     },
     "metadata": {},
     "output_type": "display_data"
    },
    {
     "data": {
      "application/vnd.plotly.v1+json": {
       "config": {
        "plotlyServerURL": "https://plot.ly"
       },
       "data": [
        {
         "marker": {
          "color": "rgb(158,34,162)",
          "line": {
           "color": "white",
           "width": 0
          }
         },
         "name": "Strongly Disagree",
         "orientation": "h",
         "showlegend": true,
         "type": "bar",
         "x": [
          0.14705882352941177
         ],
         "y": [
          "Watched"
         ]
        },
        {
         "marker": {
          "color": "rgb(158,34,162)",
          "line": {
           "color": "white",
           "width": 0
          }
         },
         "name": "Strongly Disagree",
         "orientation": "h",
         "showlegend": false,
         "type": "bar",
         "x": [
          0.32142857142857145
         ],
         "y": [
          "Not Watched"
         ]
        },
        {
         "marker": {
          "color": "rgb(198,156,234)",
          "line": {
           "color": "white",
           "width": 0
          }
         },
         "name": "Disagree",
         "orientation": "h",
         "showlegend": true,
         "type": "bar",
         "x": [
          0.058823529411764705
         ],
         "y": [
          "Watched"
         ]
        },
        {
         "marker": {
          "color": "rgb(198,156,234)",
          "line": {
           "color": "white",
           "width": 0
          }
         },
         "name": "Disagree",
         "orientation": "h",
         "showlegend": false,
         "type": "bar",
         "x": [
          0.2857142857142857
         ],
         "y": [
          "Not Watched"
         ]
        },
        {
         "marker": {
          "color": "rgb(200, 192, 234)",
          "line": {
           "color": "white",
           "width": 0
          }
         },
         "name": "Neutral",
         "orientation": "h",
         "showlegend": true,
         "type": "bar",
         "x": [
          0.11764705882352941
         ],
         "y": [
          "Watched"
         ]
        },
        {
         "marker": {
          "color": "rgb(200, 192, 234)",
          "line": {
           "color": "white",
           "width": 0
          }
         },
         "name": "Neutral",
         "orientation": "h",
         "showlegend": false,
         "type": "bar",
         "x": [
          0.03571428571428571
         ],
         "y": [
          "Not Watched"
         ]
        },
        {
         "marker": {
          "color": "rgb(114,133,225)",
          "line": {
           "color": "white",
           "width": 0
          }
         },
         "name": "Agree",
         "orientation": "h",
         "showlegend": true,
         "type": "bar",
         "x": [
          0.3235294117647059
         ],
         "y": [
          "Watched"
         ]
        },
        {
         "marker": {
          "color": "rgb(114,133,225)",
          "line": {
           "color": "white",
           "width": 0
          }
         },
         "name": "Agree",
         "orientation": "h",
         "showlegend": false,
         "type": "bar",
         "x": [
          0.17857142857142858
         ],
         "y": [
          "Not Watched"
         ]
        },
        {
         "marker": {
          "color": "rgb(51, 51, 154)",
          "line": {
           "color": "white",
           "width": 0
          }
         },
         "name": "Strongly Agree",
         "orientation": "h",
         "showlegend": true,
         "type": "bar",
         "x": [
          0.35294117647058826
         ],
         "y": [
          "Watched"
         ]
        },
        {
         "marker": {
          "color": "rgb(51, 51, 154)",
          "line": {
           "color": "white",
           "width": 0
          }
         },
         "name": "Strongly Agree",
         "orientation": "h",
         "showlegend": false,
         "type": "bar",
         "x": [
          0.17857142857142858
         ],
         "y": [
          "Not Watched"
         ]
        }
       ],
       "layout": {
        "annotations": [
         {
          "align": "right",
          "font": {
           "color": "white",
           "family": "PT Sans",
           "size": 18
          },
          "showarrow": false,
          "text": "Watched",
          "x": 0.065,
          "xanchor": "right",
          "xref": "paper",
          "y": "Watched",
          "yref": "y"
         },
         {
          "font": {
           "color": "rgb(255, 255, 255)",
           "family": "PT Sans",
           "size": 15
          },
          "showarrow": false,
          "text": "<b>15%</b>",
          "x": 0.07352941176470588,
          "xref": "x",
          "y": "Watched",
          "yref": "y"
         },
         {
          "font": {
           "color": "rgb(255, 255, 255)",
           "family": "PT Sans",
           "size": 15
          },
          "showarrow": false,
          "text": "<b>6%</b>",
          "x": 0.17647058823529413,
          "xref": "x",
          "y": "Watched",
          "yref": "y"
         },
         {
          "font": {
           "color": "rgb(255, 255, 255)",
           "family": "PT Sans",
           "size": 15
          },
          "showarrow": false,
          "text": "<b>12%</b>",
          "x": 0.2647058823529412,
          "xref": "x",
          "y": "Watched",
          "yref": "y"
         },
         {
          "font": {
           "color": "rgb(255, 255, 255)",
           "family": "PT Sans",
           "size": 15
          },
          "showarrow": false,
          "text": "<b>32%</b>",
          "x": 0.48529411764705876,
          "xref": "x",
          "y": "Watched",
          "yref": "y"
         },
         {
          "font": {
           "color": "rgb(255, 255, 255)",
           "family": "PT Sans",
           "size": 15
          },
          "showarrow": false,
          "text": "<b>35%</b>",
          "x": 0.8235294117647058,
          "xref": "x",
          "y": "Watched",
          "yref": "y"
         },
         {
          "align": "right",
          "font": {
           "color": "white",
           "family": "PT Sans",
           "size": 18
          },
          "showarrow": false,
          "text": "Not Watched",
          "x": 0.065,
          "xanchor": "right",
          "xref": "paper",
          "y": "Not Watched",
          "yref": "y"
         },
         {
          "font": {
           "color": "rgb(255, 255, 255)",
           "family": "PT Sans",
           "size": 15
          },
          "showarrow": false,
          "text": "<b>32%</b>",
          "x": 0.16071428571428573,
          "xref": "x",
          "y": "Not Watched",
          "yref": "y"
         },
         {
          "font": {
           "color": "rgb(255, 255, 255)",
           "family": "PT Sans",
           "size": 15
          },
          "showarrow": false,
          "text": "<b>29%</b>",
          "x": 0.4642857142857143,
          "xref": "x",
          "y": "Not Watched",
          "yref": "y"
         },
         {
          "font": {
           "color": "rgb(255, 255, 255)",
           "family": "PT Sans",
           "size": 15
          },
          "showarrow": false,
          "text": "<b>4%</b>",
          "x": 0.6250000000000001,
          "xref": "x",
          "y": "Not Watched",
          "yref": "y"
         },
         {
          "font": {
           "color": "rgb(255, 255, 255)",
           "family": "PT Sans",
           "size": 15
          },
          "showarrow": false,
          "text": "<b>18%</b>",
          "x": 0.7321428571428572,
          "xref": "x",
          "y": "Not Watched",
          "yref": "y"
         },
         {
          "font": {
           "color": "rgb(255, 255, 255)",
           "family": "PT Sans",
           "size": 15
          },
          "showarrow": false,
          "text": "<b>18%</b>",
          "x": 0.9107142857142858,
          "xref": "x",
          "y": "Not Watched",
          "yref": "y"
         }
        ],
        "bargap": 0.2,
        "barmode": "stack",
        "height": 320,
        "legend": {
         "bgcolor": "#151E27",
         "font": {
          "color": "white",
          "family": "PT Sans",
          "size": 16
         },
         "orientation": "h",
         "traceorder": "normal",
         "x": 0.96,
         "xanchor": "right",
         "y": 1,
         "yanchor": "bottom"
        },
        "margin": {
         "b": 50,
         "l": 90,
         "r": 10,
         "t": 130
        },
        "paper_bgcolor": "#151E27",
        "plot_bgcolor": "#151E27",
        "showlegend": true,
        "template": {
         "data": {
          "bar": [
           {
            "error_x": {
             "color": "#2a3f5f"
            },
            "error_y": {
             "color": "#2a3f5f"
            },
            "marker": {
             "line": {
              "color": "#E5ECF6",
              "width": 0.5
             },
             "pattern": {
              "fillmode": "overlay",
              "size": 10,
              "solidity": 0.2
             }
            },
            "type": "bar"
           }
          ],
          "barpolar": [
           {
            "marker": {
             "line": {
              "color": "#E5ECF6",
              "width": 0.5
             },
             "pattern": {
              "fillmode": "overlay",
              "size": 10,
              "solidity": 0.2
             }
            },
            "type": "barpolar"
           }
          ],
          "carpet": [
           {
            "aaxis": {
             "endlinecolor": "#2a3f5f",
             "gridcolor": "white",
             "linecolor": "white",
             "minorgridcolor": "white",
             "startlinecolor": "#2a3f5f"
            },
            "baxis": {
             "endlinecolor": "#2a3f5f",
             "gridcolor": "white",
             "linecolor": "white",
             "minorgridcolor": "white",
             "startlinecolor": "#2a3f5f"
            },
            "type": "carpet"
           }
          ],
          "choropleth": [
           {
            "colorbar": {
             "outlinewidth": 0,
             "ticks": ""
            },
            "type": "choropleth"
           }
          ],
          "contour": [
           {
            "colorbar": {
             "outlinewidth": 0,
             "ticks": ""
            },
            "colorscale": [
             [
              0,
              "#0d0887"
             ],
             [
              0.1111111111111111,
              "#46039f"
             ],
             [
              0.2222222222222222,
              "#7201a8"
             ],
             [
              0.3333333333333333,
              "#9c179e"
             ],
             [
              0.4444444444444444,
              "#bd3786"
             ],
             [
              0.5555555555555556,
              "#d8576b"
             ],
             [
              0.6666666666666666,
              "#ed7953"
             ],
             [
              0.7777777777777778,
              "#fb9f3a"
             ],
             [
              0.8888888888888888,
              "#fdca26"
             ],
             [
              1,
              "#f0f921"
             ]
            ],
            "type": "contour"
           }
          ],
          "contourcarpet": [
           {
            "colorbar": {
             "outlinewidth": 0,
             "ticks": ""
            },
            "type": "contourcarpet"
           }
          ],
          "heatmap": [
           {
            "colorbar": {
             "outlinewidth": 0,
             "ticks": ""
            },
            "colorscale": [
             [
              0,
              "#0d0887"
             ],
             [
              0.1111111111111111,
              "#46039f"
             ],
             [
              0.2222222222222222,
              "#7201a8"
             ],
             [
              0.3333333333333333,
              "#9c179e"
             ],
             [
              0.4444444444444444,
              "#bd3786"
             ],
             [
              0.5555555555555556,
              "#d8576b"
             ],
             [
              0.6666666666666666,
              "#ed7953"
             ],
             [
              0.7777777777777778,
              "#fb9f3a"
             ],
             [
              0.8888888888888888,
              "#fdca26"
             ],
             [
              1,
              "#f0f921"
             ]
            ],
            "type": "heatmap"
           }
          ],
          "heatmapgl": [
           {
            "colorbar": {
             "outlinewidth": 0,
             "ticks": ""
            },
            "colorscale": [
             [
              0,
              "#0d0887"
             ],
             [
              0.1111111111111111,
              "#46039f"
             ],
             [
              0.2222222222222222,
              "#7201a8"
             ],
             [
              0.3333333333333333,
              "#9c179e"
             ],
             [
              0.4444444444444444,
              "#bd3786"
             ],
             [
              0.5555555555555556,
              "#d8576b"
             ],
             [
              0.6666666666666666,
              "#ed7953"
             ],
             [
              0.7777777777777778,
              "#fb9f3a"
             ],
             [
              0.8888888888888888,
              "#fdca26"
             ],
             [
              1,
              "#f0f921"
             ]
            ],
            "type": "heatmapgl"
           }
          ],
          "histogram": [
           {
            "marker": {
             "pattern": {
              "fillmode": "overlay",
              "size": 10,
              "solidity": 0.2
             }
            },
            "type": "histogram"
           }
          ],
          "histogram2d": [
           {
            "colorbar": {
             "outlinewidth": 0,
             "ticks": ""
            },
            "colorscale": [
             [
              0,
              "#0d0887"
             ],
             [
              0.1111111111111111,
              "#46039f"
             ],
             [
              0.2222222222222222,
              "#7201a8"
             ],
             [
              0.3333333333333333,
              "#9c179e"
             ],
             [
              0.4444444444444444,
              "#bd3786"
             ],
             [
              0.5555555555555556,
              "#d8576b"
             ],
             [
              0.6666666666666666,
              "#ed7953"
             ],
             [
              0.7777777777777778,
              "#fb9f3a"
             ],
             [
              0.8888888888888888,
              "#fdca26"
             ],
             [
              1,
              "#f0f921"
             ]
            ],
            "type": "histogram2d"
           }
          ],
          "histogram2dcontour": [
           {
            "colorbar": {
             "outlinewidth": 0,
             "ticks": ""
            },
            "colorscale": [
             [
              0,
              "#0d0887"
             ],
             [
              0.1111111111111111,
              "#46039f"
             ],
             [
              0.2222222222222222,
              "#7201a8"
             ],
             [
              0.3333333333333333,
              "#9c179e"
             ],
             [
              0.4444444444444444,
              "#bd3786"
             ],
             [
              0.5555555555555556,
              "#d8576b"
             ],
             [
              0.6666666666666666,
              "#ed7953"
             ],
             [
              0.7777777777777778,
              "#fb9f3a"
             ],
             [
              0.8888888888888888,
              "#fdca26"
             ],
             [
              1,
              "#f0f921"
             ]
            ],
            "type": "histogram2dcontour"
           }
          ],
          "mesh3d": [
           {
            "colorbar": {
             "outlinewidth": 0,
             "ticks": ""
            },
            "type": "mesh3d"
           }
          ],
          "parcoords": [
           {
            "line": {
             "colorbar": {
              "outlinewidth": 0,
              "ticks": ""
             }
            },
            "type": "parcoords"
           }
          ],
          "pie": [
           {
            "automargin": true,
            "type": "pie"
           }
          ],
          "scatter": [
           {
            "fillpattern": {
             "fillmode": "overlay",
             "size": 10,
             "solidity": 0.2
            },
            "type": "scatter"
           }
          ],
          "scatter3d": [
           {
            "line": {
             "colorbar": {
              "outlinewidth": 0,
              "ticks": ""
             }
            },
            "marker": {
             "colorbar": {
              "outlinewidth": 0,
              "ticks": ""
             }
            },
            "type": "scatter3d"
           }
          ],
          "scattercarpet": [
           {
            "marker": {
             "colorbar": {
              "outlinewidth": 0,
              "ticks": ""
             }
            },
            "type": "scattercarpet"
           }
          ],
          "scattergeo": [
           {
            "marker": {
             "colorbar": {
              "outlinewidth": 0,
              "ticks": ""
             }
            },
            "type": "scattergeo"
           }
          ],
          "scattergl": [
           {
            "marker": {
             "colorbar": {
              "outlinewidth": 0,
              "ticks": ""
             }
            },
            "type": "scattergl"
           }
          ],
          "scattermapbox": [
           {
            "marker": {
             "colorbar": {
              "outlinewidth": 0,
              "ticks": ""
             }
            },
            "type": "scattermapbox"
           }
          ],
          "scatterpolar": [
           {
            "marker": {
             "colorbar": {
              "outlinewidth": 0,
              "ticks": ""
             }
            },
            "type": "scatterpolar"
           }
          ],
          "scatterpolargl": [
           {
            "marker": {
             "colorbar": {
              "outlinewidth": 0,
              "ticks": ""
             }
            },
            "type": "scatterpolargl"
           }
          ],
          "scatterternary": [
           {
            "marker": {
             "colorbar": {
              "outlinewidth": 0,
              "ticks": ""
             }
            },
            "type": "scatterternary"
           }
          ],
          "surface": [
           {
            "colorbar": {
             "outlinewidth": 0,
             "ticks": ""
            },
            "colorscale": [
             [
              0,
              "#0d0887"
             ],
             [
              0.1111111111111111,
              "#46039f"
             ],
             [
              0.2222222222222222,
              "#7201a8"
             ],
             [
              0.3333333333333333,
              "#9c179e"
             ],
             [
              0.4444444444444444,
              "#bd3786"
             ],
             [
              0.5555555555555556,
              "#d8576b"
             ],
             [
              0.6666666666666666,
              "#ed7953"
             ],
             [
              0.7777777777777778,
              "#fb9f3a"
             ],
             [
              0.8888888888888888,
              "#fdca26"
             ],
             [
              1,
              "#f0f921"
             ]
            ],
            "type": "surface"
           }
          ],
          "table": [
           {
            "cells": {
             "fill": {
              "color": "#EBF0F8"
             },
             "line": {
              "color": "white"
             }
            },
            "header": {
             "fill": {
              "color": "#C8D4E3"
             },
             "line": {
              "color": "white"
             }
            },
            "type": "table"
           }
          ]
         },
         "layout": {
          "annotationdefaults": {
           "arrowcolor": "#2a3f5f",
           "arrowhead": 0,
           "arrowwidth": 1
          },
          "autotypenumbers": "strict",
          "coloraxis": {
           "colorbar": {
            "outlinewidth": 0,
            "ticks": ""
           }
          },
          "colorscale": {
           "diverging": [
            [
             0,
             "#8e0152"
            ],
            [
             0.1,
             "#c51b7d"
            ],
            [
             0.2,
             "#de77ae"
            ],
            [
             0.3,
             "#f1b6da"
            ],
            [
             0.4,
             "#fde0ef"
            ],
            [
             0.5,
             "#f7f7f7"
            ],
            [
             0.6,
             "#e6f5d0"
            ],
            [
             0.7,
             "#b8e186"
            ],
            [
             0.8,
             "#7fbc41"
            ],
            [
             0.9,
             "#4d9221"
            ],
            [
             1,
             "#276419"
            ]
           ],
           "sequential": [
            [
             0,
             "#0d0887"
            ],
            [
             0.1111111111111111,
             "#46039f"
            ],
            [
             0.2222222222222222,
             "#7201a8"
            ],
            [
             0.3333333333333333,
             "#9c179e"
            ],
            [
             0.4444444444444444,
             "#bd3786"
            ],
            [
             0.5555555555555556,
             "#d8576b"
            ],
            [
             0.6666666666666666,
             "#ed7953"
            ],
            [
             0.7777777777777778,
             "#fb9f3a"
            ],
            [
             0.8888888888888888,
             "#fdca26"
            ],
            [
             1,
             "#f0f921"
            ]
           ],
           "sequentialminus": [
            [
             0,
             "#0d0887"
            ],
            [
             0.1111111111111111,
             "#46039f"
            ],
            [
             0.2222222222222222,
             "#7201a8"
            ],
            [
             0.3333333333333333,
             "#9c179e"
            ],
            [
             0.4444444444444444,
             "#bd3786"
            ],
            [
             0.5555555555555556,
             "#d8576b"
            ],
            [
             0.6666666666666666,
             "#ed7953"
            ],
            [
             0.7777777777777778,
             "#fb9f3a"
            ],
            [
             0.8888888888888888,
             "#fdca26"
            ],
            [
             1,
             "#f0f921"
            ]
           ]
          },
          "colorway": [
           "#636efa",
           "#EF553B",
           "#00cc96",
           "#ab63fa",
           "#FFA15A",
           "#19d3f3",
           "#FF6692",
           "#B6E880",
           "#FF97FF",
           "#FECB52"
          ],
          "font": {
           "color": "#2a3f5f"
          },
          "geo": {
           "bgcolor": "white",
           "lakecolor": "white",
           "landcolor": "#E5ECF6",
           "showlakes": true,
           "showland": true,
           "subunitcolor": "white"
          },
          "hoverlabel": {
           "align": "left"
          },
          "hovermode": "closest",
          "mapbox": {
           "style": "light"
          },
          "paper_bgcolor": "white",
          "plot_bgcolor": "#E5ECF6",
          "polar": {
           "angularaxis": {
            "gridcolor": "white",
            "linecolor": "white",
            "ticks": ""
           },
           "bgcolor": "#E5ECF6",
           "radialaxis": {
            "gridcolor": "white",
            "linecolor": "white",
            "ticks": ""
           }
          },
          "scene": {
           "xaxis": {
            "backgroundcolor": "#E5ECF6",
            "gridcolor": "white",
            "gridwidth": 2,
            "linecolor": "white",
            "showbackground": true,
            "ticks": "",
            "zerolinecolor": "white"
           },
           "yaxis": {
            "backgroundcolor": "#E5ECF6",
            "gridcolor": "white",
            "gridwidth": 2,
            "linecolor": "white",
            "showbackground": true,
            "ticks": "",
            "zerolinecolor": "white"
           },
           "zaxis": {
            "backgroundcolor": "#E5ECF6",
            "gridcolor": "white",
            "gridwidth": 2,
            "linecolor": "white",
            "showbackground": true,
            "ticks": "",
            "zerolinecolor": "white"
           }
          },
          "shapedefaults": {
           "line": {
            "color": "#2a3f5f"
           }
          },
          "ternary": {
           "aaxis": {
            "gridcolor": "white",
            "linecolor": "white",
            "ticks": ""
           },
           "baxis": {
            "gridcolor": "white",
            "linecolor": "white",
            "ticks": ""
           },
           "bgcolor": "#E5ECF6",
           "caxis": {
            "gridcolor": "white",
            "linecolor": "white",
            "ticks": ""
           }
          },
          "title": {
           "x": 0.05
          },
          "xaxis": {
           "automargin": true,
           "gridcolor": "white",
           "linecolor": "white",
           "ticks": "",
           "title": {
            "standoff": 15
           },
           "zerolinecolor": "white",
           "zerolinewidth": 2
          },
          "yaxis": {
           "automargin": true,
           "gridcolor": "white",
           "linecolor": "white",
           "ticks": "",
           "title": {
            "standoff": 15
           },
           "zerolinecolor": "white",
           "zerolinewidth": 2
          }
         }
        },
        "title": {
         "font": {
          "color": "white",
          "family": "Proxima Nova",
          "size": 25
         },
         "pad": {
          "t": 50
         },
         "text": "<b>I am knowledgeable about drug harm reduction methods such as narcan and test <br>strips.</b>",
         "y": 1,
         "yanchor": "top"
        },
        "width": 1000,
        "xaxis": {
         "domain": [
          0.08,
          1
         ],
         "dtick": 0.25,
         "gridcolor": "#151E27",
         "gridwidth": 0,
         "linecolor": "#151E27",
         "linewidth": 0,
         "showticklabels": false,
         "tick0": 0,
         "tickfont": {
          "color": "white",
          "family": "PT Sans",
          "size": 14
         },
         "tickformat": ",.0%",
         "tickmode": "linear",
         "zeroline": false
        },
        "yaxis": {
         "autorange": "reversed",
         "showticklabels": false
        }
       }
      }
     },
     "metadata": {},
     "output_type": "display_data"
    },
    {
     "data": {
      "application/vnd.plotly.v1+json": {
       "config": {
        "plotlyServerURL": "https://plot.ly"
       },
       "data": [
        {
         "marker": {
          "color": "rgb(158,34,162)",
          "line": {
           "color": "white",
           "width": 0
          }
         },
         "name": "Strongly Disagree",
         "orientation": "h",
         "showlegend": true,
         "type": "bar",
         "x": [
          0
         ],
         "y": [
          "Watched"
         ]
        },
        {
         "marker": {
          "color": "rgb(158,34,162)",
          "line": {
           "color": "white",
           "width": 0
          }
         },
         "name": "Strongly Disagree",
         "orientation": "h",
         "showlegend": false,
         "type": "bar",
         "x": [
          0.03571428571428571
         ],
         "y": [
          "Not Watched"
         ]
        },
        {
         "marker": {
          "color": "rgb(198,156,234)",
          "line": {
           "color": "white",
           "width": 0
          }
         },
         "name": "Disagree",
         "orientation": "h",
         "showlegend": true,
         "type": "bar",
         "x": [
          0
         ],
         "y": [
          "Watched"
         ]
        },
        {
         "marker": {
          "color": "rgb(198,156,234)",
          "line": {
           "color": "white",
           "width": 0
          }
         },
         "name": "Disagree",
         "orientation": "h",
         "showlegend": false,
         "type": "bar",
         "x": [
          0
         ],
         "y": [
          "Not Watched"
         ]
        },
        {
         "marker": {
          "color": "rgb(200, 192, 234)",
          "line": {
           "color": "white",
           "width": 0
          }
         },
         "name": "Neutral",
         "orientation": "h",
         "showlegend": true,
         "type": "bar",
         "x": [
          0.14705882352941177
         ],
         "y": [
          "Watched"
         ]
        },
        {
         "marker": {
          "color": "rgb(200, 192, 234)",
          "line": {
           "color": "white",
           "width": 0
          }
         },
         "name": "Neutral",
         "orientation": "h",
         "showlegend": false,
         "type": "bar",
         "x": [
          0.39285714285714285
         ],
         "y": [
          "Not Watched"
         ]
        },
        {
         "marker": {
          "color": "rgb(114,133,225)",
          "line": {
           "color": "white",
           "width": 0
          }
         },
         "name": "Agree",
         "orientation": "h",
         "showlegend": true,
         "type": "bar",
         "x": [
          0.4117647058823529
         ],
         "y": [
          "Watched"
         ]
        },
        {
         "marker": {
          "color": "rgb(114,133,225)",
          "line": {
           "color": "white",
           "width": 0
          }
         },
         "name": "Agree",
         "orientation": "h",
         "showlegend": false,
         "type": "bar",
         "x": [
          0.39285714285714285
         ],
         "y": [
          "Not Watched"
         ]
        },
        {
         "marker": {
          "color": "rgb(51, 51, 154)",
          "line": {
           "color": "white",
           "width": 0
          }
         },
         "name": "Strongly Agree",
         "orientation": "h",
         "showlegend": true,
         "type": "bar",
         "x": [
          0.4411764705882353
         ],
         "y": [
          "Watched"
         ]
        },
        {
         "marker": {
          "color": "rgb(51, 51, 154)",
          "line": {
           "color": "white",
           "width": 0
          }
         },
         "name": "Strongly Agree",
         "orientation": "h",
         "showlegend": false,
         "type": "bar",
         "x": [
          0.17857142857142858
         ],
         "y": [
          "Not Watched"
         ]
        }
       ],
       "layout": {
        "annotations": [
         {
          "align": "right",
          "font": {
           "color": "white",
           "family": "PT Sans",
           "size": 18
          },
          "showarrow": false,
          "text": "Watched",
          "x": 0.065,
          "xanchor": "right",
          "xref": "paper",
          "y": "Watched",
          "yref": "y"
         },
         {
          "font": {
           "color": "rgb(255, 255, 255)",
           "family": "PT Sans",
           "size": 15
          },
          "showarrow": false,
          "text": "<b>15%</b>",
          "x": 0.07352941176470588,
          "xref": "x",
          "y": "Watched",
          "yref": "y"
         },
         {
          "font": {
           "color": "rgb(255, 255, 255)",
           "family": "PT Sans",
           "size": 15
          },
          "showarrow": false,
          "text": "<b>41%</b>",
          "x": 0.3529411764705882,
          "xref": "x",
          "y": "Watched",
          "yref": "y"
         },
         {
          "font": {
           "color": "rgb(255, 255, 255)",
           "family": "PT Sans",
           "size": 15
          },
          "showarrow": false,
          "text": "<b>44%</b>",
          "x": 0.7794117647058824,
          "xref": "x",
          "y": "Watched",
          "yref": "y"
         },
         {
          "align": "right",
          "font": {
           "color": "white",
           "family": "PT Sans",
           "size": 18
          },
          "showarrow": false,
          "text": "Not Watched",
          "x": 0.065,
          "xanchor": "right",
          "xref": "paper",
          "y": "Not Watched",
          "yref": "y"
         },
         {
          "font": {
           "color": "rgb(255, 255, 255)",
           "family": "PT Sans",
           "size": 15
          },
          "showarrow": false,
          "text": "<b>4%</b>",
          "x": 0.017857142857142856,
          "xref": "x",
          "y": "Not Watched",
          "yref": "y"
         },
         {
          "font": {
           "color": "rgb(255, 255, 255)",
           "family": "PT Sans",
           "size": 15
          },
          "showarrow": false,
          "text": "<b>39%</b>",
          "x": 0.23214285714285715,
          "xref": "x",
          "y": "Not Watched",
          "yref": "y"
         },
         {
          "font": {
           "color": "rgb(255, 255, 255)",
           "family": "PT Sans",
           "size": 15
          },
          "showarrow": false,
          "text": "<b>39%</b>",
          "x": 0.625,
          "xref": "x",
          "y": "Not Watched",
          "yref": "y"
         },
         {
          "font": {
           "color": "rgb(255, 255, 255)",
           "family": "PT Sans",
           "size": 15
          },
          "showarrow": false,
          "text": "<b>18%</b>",
          "x": 0.9107142857142857,
          "xref": "x",
          "y": "Not Watched",
          "yref": "y"
         }
        ],
        "bargap": 0.2,
        "barmode": "stack",
        "height": 320,
        "legend": {
         "bgcolor": "#151E27",
         "font": {
          "color": "white",
          "family": "PT Sans",
          "size": 16
         },
         "orientation": "h",
         "traceorder": "normal",
         "x": 0.96,
         "xanchor": "right",
         "y": 1,
         "yanchor": "bottom"
        },
        "margin": {
         "b": 50,
         "l": 90,
         "r": 10,
         "t": 100
        },
        "paper_bgcolor": "#151E27",
        "plot_bgcolor": "#151E27",
        "showlegend": true,
        "template": {
         "data": {
          "bar": [
           {
            "error_x": {
             "color": "#2a3f5f"
            },
            "error_y": {
             "color": "#2a3f5f"
            },
            "marker": {
             "line": {
              "color": "#E5ECF6",
              "width": 0.5
             },
             "pattern": {
              "fillmode": "overlay",
              "size": 10,
              "solidity": 0.2
             }
            },
            "type": "bar"
           }
          ],
          "barpolar": [
           {
            "marker": {
             "line": {
              "color": "#E5ECF6",
              "width": 0.5
             },
             "pattern": {
              "fillmode": "overlay",
              "size": 10,
              "solidity": 0.2
             }
            },
            "type": "barpolar"
           }
          ],
          "carpet": [
           {
            "aaxis": {
             "endlinecolor": "#2a3f5f",
             "gridcolor": "white",
             "linecolor": "white",
             "minorgridcolor": "white",
             "startlinecolor": "#2a3f5f"
            },
            "baxis": {
             "endlinecolor": "#2a3f5f",
             "gridcolor": "white",
             "linecolor": "white",
             "minorgridcolor": "white",
             "startlinecolor": "#2a3f5f"
            },
            "type": "carpet"
           }
          ],
          "choropleth": [
           {
            "colorbar": {
             "outlinewidth": 0,
             "ticks": ""
            },
            "type": "choropleth"
           }
          ],
          "contour": [
           {
            "colorbar": {
             "outlinewidth": 0,
             "ticks": ""
            },
            "colorscale": [
             [
              0,
              "#0d0887"
             ],
             [
              0.1111111111111111,
              "#46039f"
             ],
             [
              0.2222222222222222,
              "#7201a8"
             ],
             [
              0.3333333333333333,
              "#9c179e"
             ],
             [
              0.4444444444444444,
              "#bd3786"
             ],
             [
              0.5555555555555556,
              "#d8576b"
             ],
             [
              0.6666666666666666,
              "#ed7953"
             ],
             [
              0.7777777777777778,
              "#fb9f3a"
             ],
             [
              0.8888888888888888,
              "#fdca26"
             ],
             [
              1,
              "#f0f921"
             ]
            ],
            "type": "contour"
           }
          ],
          "contourcarpet": [
           {
            "colorbar": {
             "outlinewidth": 0,
             "ticks": ""
            },
            "type": "contourcarpet"
           }
          ],
          "heatmap": [
           {
            "colorbar": {
             "outlinewidth": 0,
             "ticks": ""
            },
            "colorscale": [
             [
              0,
              "#0d0887"
             ],
             [
              0.1111111111111111,
              "#46039f"
             ],
             [
              0.2222222222222222,
              "#7201a8"
             ],
             [
              0.3333333333333333,
              "#9c179e"
             ],
             [
              0.4444444444444444,
              "#bd3786"
             ],
             [
              0.5555555555555556,
              "#d8576b"
             ],
             [
              0.6666666666666666,
              "#ed7953"
             ],
             [
              0.7777777777777778,
              "#fb9f3a"
             ],
             [
              0.8888888888888888,
              "#fdca26"
             ],
             [
              1,
              "#f0f921"
             ]
            ],
            "type": "heatmap"
           }
          ],
          "heatmapgl": [
           {
            "colorbar": {
             "outlinewidth": 0,
             "ticks": ""
            },
            "colorscale": [
             [
              0,
              "#0d0887"
             ],
             [
              0.1111111111111111,
              "#46039f"
             ],
             [
              0.2222222222222222,
              "#7201a8"
             ],
             [
              0.3333333333333333,
              "#9c179e"
             ],
             [
              0.4444444444444444,
              "#bd3786"
             ],
             [
              0.5555555555555556,
              "#d8576b"
             ],
             [
              0.6666666666666666,
              "#ed7953"
             ],
             [
              0.7777777777777778,
              "#fb9f3a"
             ],
             [
              0.8888888888888888,
              "#fdca26"
             ],
             [
              1,
              "#f0f921"
             ]
            ],
            "type": "heatmapgl"
           }
          ],
          "histogram": [
           {
            "marker": {
             "pattern": {
              "fillmode": "overlay",
              "size": 10,
              "solidity": 0.2
             }
            },
            "type": "histogram"
           }
          ],
          "histogram2d": [
           {
            "colorbar": {
             "outlinewidth": 0,
             "ticks": ""
            },
            "colorscale": [
             [
              0,
              "#0d0887"
             ],
             [
              0.1111111111111111,
              "#46039f"
             ],
             [
              0.2222222222222222,
              "#7201a8"
             ],
             [
              0.3333333333333333,
              "#9c179e"
             ],
             [
              0.4444444444444444,
              "#bd3786"
             ],
             [
              0.5555555555555556,
              "#d8576b"
             ],
             [
              0.6666666666666666,
              "#ed7953"
             ],
             [
              0.7777777777777778,
              "#fb9f3a"
             ],
             [
              0.8888888888888888,
              "#fdca26"
             ],
             [
              1,
              "#f0f921"
             ]
            ],
            "type": "histogram2d"
           }
          ],
          "histogram2dcontour": [
           {
            "colorbar": {
             "outlinewidth": 0,
             "ticks": ""
            },
            "colorscale": [
             [
              0,
              "#0d0887"
             ],
             [
              0.1111111111111111,
              "#46039f"
             ],
             [
              0.2222222222222222,
              "#7201a8"
             ],
             [
              0.3333333333333333,
              "#9c179e"
             ],
             [
              0.4444444444444444,
              "#bd3786"
             ],
             [
              0.5555555555555556,
              "#d8576b"
             ],
             [
              0.6666666666666666,
              "#ed7953"
             ],
             [
              0.7777777777777778,
              "#fb9f3a"
             ],
             [
              0.8888888888888888,
              "#fdca26"
             ],
             [
              1,
              "#f0f921"
             ]
            ],
            "type": "histogram2dcontour"
           }
          ],
          "mesh3d": [
           {
            "colorbar": {
             "outlinewidth": 0,
             "ticks": ""
            },
            "type": "mesh3d"
           }
          ],
          "parcoords": [
           {
            "line": {
             "colorbar": {
              "outlinewidth": 0,
              "ticks": ""
             }
            },
            "type": "parcoords"
           }
          ],
          "pie": [
           {
            "automargin": true,
            "type": "pie"
           }
          ],
          "scatter": [
           {
            "fillpattern": {
             "fillmode": "overlay",
             "size": 10,
             "solidity": 0.2
            },
            "type": "scatter"
           }
          ],
          "scatter3d": [
           {
            "line": {
             "colorbar": {
              "outlinewidth": 0,
              "ticks": ""
             }
            },
            "marker": {
             "colorbar": {
              "outlinewidth": 0,
              "ticks": ""
             }
            },
            "type": "scatter3d"
           }
          ],
          "scattercarpet": [
           {
            "marker": {
             "colorbar": {
              "outlinewidth": 0,
              "ticks": ""
             }
            },
            "type": "scattercarpet"
           }
          ],
          "scattergeo": [
           {
            "marker": {
             "colorbar": {
              "outlinewidth": 0,
              "ticks": ""
             }
            },
            "type": "scattergeo"
           }
          ],
          "scattergl": [
           {
            "marker": {
             "colorbar": {
              "outlinewidth": 0,
              "ticks": ""
             }
            },
            "type": "scattergl"
           }
          ],
          "scattermapbox": [
           {
            "marker": {
             "colorbar": {
              "outlinewidth": 0,
              "ticks": ""
             }
            },
            "type": "scattermapbox"
           }
          ],
          "scatterpolar": [
           {
            "marker": {
             "colorbar": {
              "outlinewidth": 0,
              "ticks": ""
             }
            },
            "type": "scatterpolar"
           }
          ],
          "scatterpolargl": [
           {
            "marker": {
             "colorbar": {
              "outlinewidth": 0,
              "ticks": ""
             }
            },
            "type": "scatterpolargl"
           }
          ],
          "scatterternary": [
           {
            "marker": {
             "colorbar": {
              "outlinewidth": 0,
              "ticks": ""
             }
            },
            "type": "scatterternary"
           }
          ],
          "surface": [
           {
            "colorbar": {
             "outlinewidth": 0,
             "ticks": ""
            },
            "colorscale": [
             [
              0,
              "#0d0887"
             ],
             [
              0.1111111111111111,
              "#46039f"
             ],
             [
              0.2222222222222222,
              "#7201a8"
             ],
             [
              0.3333333333333333,
              "#9c179e"
             ],
             [
              0.4444444444444444,
              "#bd3786"
             ],
             [
              0.5555555555555556,
              "#d8576b"
             ],
             [
              0.6666666666666666,
              "#ed7953"
             ],
             [
              0.7777777777777778,
              "#fb9f3a"
             ],
             [
              0.8888888888888888,
              "#fdca26"
             ],
             [
              1,
              "#f0f921"
             ]
            ],
            "type": "surface"
           }
          ],
          "table": [
           {
            "cells": {
             "fill": {
              "color": "#EBF0F8"
             },
             "line": {
              "color": "white"
             }
            },
            "header": {
             "fill": {
              "color": "#C8D4E3"
             },
             "line": {
              "color": "white"
             }
            },
            "type": "table"
           }
          ]
         },
         "layout": {
          "annotationdefaults": {
           "arrowcolor": "#2a3f5f",
           "arrowhead": 0,
           "arrowwidth": 1
          },
          "autotypenumbers": "strict",
          "coloraxis": {
           "colorbar": {
            "outlinewidth": 0,
            "ticks": ""
           }
          },
          "colorscale": {
           "diverging": [
            [
             0,
             "#8e0152"
            ],
            [
             0.1,
             "#c51b7d"
            ],
            [
             0.2,
             "#de77ae"
            ],
            [
             0.3,
             "#f1b6da"
            ],
            [
             0.4,
             "#fde0ef"
            ],
            [
             0.5,
             "#f7f7f7"
            ],
            [
             0.6,
             "#e6f5d0"
            ],
            [
             0.7,
             "#b8e186"
            ],
            [
             0.8,
             "#7fbc41"
            ],
            [
             0.9,
             "#4d9221"
            ],
            [
             1,
             "#276419"
            ]
           ],
           "sequential": [
            [
             0,
             "#0d0887"
            ],
            [
             0.1111111111111111,
             "#46039f"
            ],
            [
             0.2222222222222222,
             "#7201a8"
            ],
            [
             0.3333333333333333,
             "#9c179e"
            ],
            [
             0.4444444444444444,
             "#bd3786"
            ],
            [
             0.5555555555555556,
             "#d8576b"
            ],
            [
             0.6666666666666666,
             "#ed7953"
            ],
            [
             0.7777777777777778,
             "#fb9f3a"
            ],
            [
             0.8888888888888888,
             "#fdca26"
            ],
            [
             1,
             "#f0f921"
            ]
           ],
           "sequentialminus": [
            [
             0,
             "#0d0887"
            ],
            [
             0.1111111111111111,
             "#46039f"
            ],
            [
             0.2222222222222222,
             "#7201a8"
            ],
            [
             0.3333333333333333,
             "#9c179e"
            ],
            [
             0.4444444444444444,
             "#bd3786"
            ],
            [
             0.5555555555555556,
             "#d8576b"
            ],
            [
             0.6666666666666666,
             "#ed7953"
            ],
            [
             0.7777777777777778,
             "#fb9f3a"
            ],
            [
             0.8888888888888888,
             "#fdca26"
            ],
            [
             1,
             "#f0f921"
            ]
           ]
          },
          "colorway": [
           "#636efa",
           "#EF553B",
           "#00cc96",
           "#ab63fa",
           "#FFA15A",
           "#19d3f3",
           "#FF6692",
           "#B6E880",
           "#FF97FF",
           "#FECB52"
          ],
          "font": {
           "color": "#2a3f5f"
          },
          "geo": {
           "bgcolor": "white",
           "lakecolor": "white",
           "landcolor": "#E5ECF6",
           "showlakes": true,
           "showland": true,
           "subunitcolor": "white"
          },
          "hoverlabel": {
           "align": "left"
          },
          "hovermode": "closest",
          "mapbox": {
           "style": "light"
          },
          "paper_bgcolor": "white",
          "plot_bgcolor": "#E5ECF6",
          "polar": {
           "angularaxis": {
            "gridcolor": "white",
            "linecolor": "white",
            "ticks": ""
           },
           "bgcolor": "#E5ECF6",
           "radialaxis": {
            "gridcolor": "white",
            "linecolor": "white",
            "ticks": ""
           }
          },
          "scene": {
           "xaxis": {
            "backgroundcolor": "#E5ECF6",
            "gridcolor": "white",
            "gridwidth": 2,
            "linecolor": "white",
            "showbackground": true,
            "ticks": "",
            "zerolinecolor": "white"
           },
           "yaxis": {
            "backgroundcolor": "#E5ECF6",
            "gridcolor": "white",
            "gridwidth": 2,
            "linecolor": "white",
            "showbackground": true,
            "ticks": "",
            "zerolinecolor": "white"
           },
           "zaxis": {
            "backgroundcolor": "#E5ECF6",
            "gridcolor": "white",
            "gridwidth": 2,
            "linecolor": "white",
            "showbackground": true,
            "ticks": "",
            "zerolinecolor": "white"
           }
          },
          "shapedefaults": {
           "line": {
            "color": "#2a3f5f"
           }
          },
          "ternary": {
           "aaxis": {
            "gridcolor": "white",
            "linecolor": "white",
            "ticks": ""
           },
           "baxis": {
            "gridcolor": "white",
            "linecolor": "white",
            "ticks": ""
           },
           "bgcolor": "#E5ECF6",
           "caxis": {
            "gridcolor": "white",
            "linecolor": "white",
            "ticks": ""
           }
          },
          "title": {
           "x": 0.05
          },
          "xaxis": {
           "automargin": true,
           "gridcolor": "white",
           "linecolor": "white",
           "ticks": "",
           "title": {
            "standoff": 15
           },
           "zerolinecolor": "white",
           "zerolinewidth": 2
          },
          "yaxis": {
           "automargin": true,
           "gridcolor": "white",
           "linecolor": "white",
           "ticks": "",
           "title": {
            "standoff": 15
           },
           "zerolinecolor": "white",
           "zerolinewidth": 2
          }
         }
        },
        "title": {
         "font": {
          "color": "white",
          "family": "Proxima Nova",
          "size": 25
         },
         "pad": {
          "t": 30
         },
         "text": "<b>I believe substance abuse is common among teens.</b>",
         "y": 1,
         "yanchor": "top"
        },
        "width": 1000,
        "xaxis": {
         "domain": [
          0.08,
          1
         ],
         "dtick": 0.25,
         "gridcolor": "#151E27",
         "gridwidth": 0,
         "linecolor": "#151E27",
         "linewidth": 0,
         "showticklabels": false,
         "tick0": 0,
         "tickfont": {
          "color": "white",
          "family": "PT Sans",
          "size": 14
         },
         "tickformat": ",.0%",
         "tickmode": "linear",
         "zeroline": false
        },
        "yaxis": {
         "autorange": "reversed",
         "showticklabels": false
        }
       }
      }
     },
     "metadata": {},
     "output_type": "display_data"
    },
    {
     "data": {
      "application/vnd.plotly.v1+json": {
       "config": {
        "plotlyServerURL": "https://plot.ly"
       },
       "data": [
        {
         "marker": {
          "color": "rgb(158,34,162)",
          "line": {
           "color": "white",
           "width": 0
          }
         },
         "name": "Strongly Disagree",
         "orientation": "h",
         "showlegend": true,
         "type": "bar",
         "x": [
          0
         ],
         "y": [
          "Watched"
         ]
        },
        {
         "marker": {
          "color": "rgb(158,34,162)",
          "line": {
           "color": "white",
           "width": 0
          }
         },
         "name": "Strongly Disagree",
         "orientation": "h",
         "showlegend": false,
         "type": "bar",
         "x": [
          0
         ],
         "y": [
          "Not Watched"
         ]
        },
        {
         "marker": {
          "color": "rgb(198,156,234)",
          "line": {
           "color": "white",
           "width": 0
          }
         },
         "name": "Disagree",
         "orientation": "h",
         "showlegend": true,
         "type": "bar",
         "x": [
          0.029411764705882353
         ],
         "y": [
          "Watched"
         ]
        },
        {
         "marker": {
          "color": "rgb(198,156,234)",
          "line": {
           "color": "white",
           "width": 0
          }
         },
         "name": "Disagree",
         "orientation": "h",
         "showlegend": false,
         "type": "bar",
         "x": [
          0
         ],
         "y": [
          "Not Watched"
         ]
        },
        {
         "marker": {
          "color": "rgb(200, 192, 234)",
          "line": {
           "color": "white",
           "width": 0
          }
         },
         "name": "Neutral",
         "orientation": "h",
         "showlegend": true,
         "type": "bar",
         "x": [
          0
         ],
         "y": [
          "Watched"
         ]
        },
        {
         "marker": {
          "color": "rgb(200, 192, 234)",
          "line": {
           "color": "white",
           "width": 0
          }
         },
         "name": "Neutral",
         "orientation": "h",
         "showlegend": false,
         "type": "bar",
         "x": [
          0.03571428571428571
         ],
         "y": [
          "Not Watched"
         ]
        },
        {
         "marker": {
          "color": "rgb(114,133,225)",
          "line": {
           "color": "white",
           "width": 0
          }
         },
         "name": "Agree",
         "orientation": "h",
         "showlegend": true,
         "type": "bar",
         "x": [
          0.11764705882352941
         ],
         "y": [
          "Watched"
         ]
        },
        {
         "marker": {
          "color": "rgb(114,133,225)",
          "line": {
           "color": "white",
           "width": 0
          }
         },
         "name": "Agree",
         "orientation": "h",
         "showlegend": false,
         "type": "bar",
         "x": [
          0.17857142857142858
         ],
         "y": [
          "Not Watched"
         ]
        },
        {
         "marker": {
          "color": "rgb(51, 51, 154)",
          "line": {
           "color": "white",
           "width": 0
          }
         },
         "name": "Strongly Agree",
         "orientation": "h",
         "showlegend": true,
         "type": "bar",
         "x": [
          0.8529411764705882
         ],
         "y": [
          "Watched"
         ]
        },
        {
         "marker": {
          "color": "rgb(51, 51, 154)",
          "line": {
           "color": "white",
           "width": 0
          }
         },
         "name": "Strongly Agree",
         "orientation": "h",
         "showlegend": false,
         "type": "bar",
         "x": [
          0.7857142857142857
         ],
         "y": [
          "Not Watched"
         ]
        }
       ],
       "layout": {
        "annotations": [
         {
          "align": "right",
          "font": {
           "color": "white",
           "family": "PT Sans",
           "size": 18
          },
          "showarrow": false,
          "text": "Watched",
          "x": 0.065,
          "xanchor": "right",
          "xref": "paper",
          "y": "Watched",
          "yref": "y"
         },
         {
          "font": {
           "color": "rgb(255, 255, 255)",
           "family": "PT Sans",
           "size": 15
          },
          "showarrow": false,
          "text": "<b>3%</b>",
          "x": 0.014705882352941176,
          "xref": "x",
          "y": "Watched",
          "yref": "y"
         },
         {
          "font": {
           "color": "rgb(255, 255, 255)",
           "family": "PT Sans",
           "size": 15
          },
          "showarrow": false,
          "text": "<b>12%</b>",
          "x": 0.08823529411764705,
          "xref": "x",
          "y": "Watched",
          "yref": "y"
         },
         {
          "font": {
           "color": "rgb(255, 255, 255)",
           "family": "PT Sans",
           "size": 15
          },
          "showarrow": false,
          "text": "<b>85%</b>",
          "x": 0.5735294117647058,
          "xref": "x",
          "y": "Watched",
          "yref": "y"
         },
         {
          "align": "right",
          "font": {
           "color": "white",
           "family": "PT Sans",
           "size": 18
          },
          "showarrow": false,
          "text": "Not Watched",
          "x": 0.065,
          "xanchor": "right",
          "xref": "paper",
          "y": "Not Watched",
          "yref": "y"
         },
         {
          "font": {
           "color": "rgb(255, 255, 255)",
           "family": "PT Sans",
           "size": 15
          },
          "showarrow": false,
          "text": "<b>4%</b>",
          "x": 0.017857142857142856,
          "xref": "x",
          "y": "Not Watched",
          "yref": "y"
         },
         {
          "font": {
           "color": "rgb(255, 255, 255)",
           "family": "PT Sans",
           "size": 15
          },
          "showarrow": false,
          "text": "<b>18%</b>",
          "x": 0.125,
          "xref": "x",
          "y": "Not Watched",
          "yref": "y"
         },
         {
          "font": {
           "color": "rgb(255, 255, 255)",
           "family": "PT Sans",
           "size": 15
          },
          "showarrow": false,
          "text": "<b>79%</b>",
          "x": 0.6071428571428572,
          "xref": "x",
          "y": "Not Watched",
          "yref": "y"
         }
        ],
        "bargap": 0.2,
        "barmode": "stack",
        "height": 320,
        "legend": {
         "bgcolor": "#151E27",
         "font": {
          "color": "white",
          "family": "PT Sans",
          "size": 16
         },
         "orientation": "h",
         "traceorder": "normal",
         "x": 0.96,
         "xanchor": "right",
         "y": 1,
         "yanchor": "bottom"
        },
        "margin": {
         "b": 50,
         "l": 90,
         "r": 10,
         "t": 100
        },
        "paper_bgcolor": "#151E27",
        "plot_bgcolor": "#151E27",
        "showlegend": true,
        "template": {
         "data": {
          "bar": [
           {
            "error_x": {
             "color": "#2a3f5f"
            },
            "error_y": {
             "color": "#2a3f5f"
            },
            "marker": {
             "line": {
              "color": "#E5ECF6",
              "width": 0.5
             },
             "pattern": {
              "fillmode": "overlay",
              "size": 10,
              "solidity": 0.2
             }
            },
            "type": "bar"
           }
          ],
          "barpolar": [
           {
            "marker": {
             "line": {
              "color": "#E5ECF6",
              "width": 0.5
             },
             "pattern": {
              "fillmode": "overlay",
              "size": 10,
              "solidity": 0.2
             }
            },
            "type": "barpolar"
           }
          ],
          "carpet": [
           {
            "aaxis": {
             "endlinecolor": "#2a3f5f",
             "gridcolor": "white",
             "linecolor": "white",
             "minorgridcolor": "white",
             "startlinecolor": "#2a3f5f"
            },
            "baxis": {
             "endlinecolor": "#2a3f5f",
             "gridcolor": "white",
             "linecolor": "white",
             "minorgridcolor": "white",
             "startlinecolor": "#2a3f5f"
            },
            "type": "carpet"
           }
          ],
          "choropleth": [
           {
            "colorbar": {
             "outlinewidth": 0,
             "ticks": ""
            },
            "type": "choropleth"
           }
          ],
          "contour": [
           {
            "colorbar": {
             "outlinewidth": 0,
             "ticks": ""
            },
            "colorscale": [
             [
              0,
              "#0d0887"
             ],
             [
              0.1111111111111111,
              "#46039f"
             ],
             [
              0.2222222222222222,
              "#7201a8"
             ],
             [
              0.3333333333333333,
              "#9c179e"
             ],
             [
              0.4444444444444444,
              "#bd3786"
             ],
             [
              0.5555555555555556,
              "#d8576b"
             ],
             [
              0.6666666666666666,
              "#ed7953"
             ],
             [
              0.7777777777777778,
              "#fb9f3a"
             ],
             [
              0.8888888888888888,
              "#fdca26"
             ],
             [
              1,
              "#f0f921"
             ]
            ],
            "type": "contour"
           }
          ],
          "contourcarpet": [
           {
            "colorbar": {
             "outlinewidth": 0,
             "ticks": ""
            },
            "type": "contourcarpet"
           }
          ],
          "heatmap": [
           {
            "colorbar": {
             "outlinewidth": 0,
             "ticks": ""
            },
            "colorscale": [
             [
              0,
              "#0d0887"
             ],
             [
              0.1111111111111111,
              "#46039f"
             ],
             [
              0.2222222222222222,
              "#7201a8"
             ],
             [
              0.3333333333333333,
              "#9c179e"
             ],
             [
              0.4444444444444444,
              "#bd3786"
             ],
             [
              0.5555555555555556,
              "#d8576b"
             ],
             [
              0.6666666666666666,
              "#ed7953"
             ],
             [
              0.7777777777777778,
              "#fb9f3a"
             ],
             [
              0.8888888888888888,
              "#fdca26"
             ],
             [
              1,
              "#f0f921"
             ]
            ],
            "type": "heatmap"
           }
          ],
          "heatmapgl": [
           {
            "colorbar": {
             "outlinewidth": 0,
             "ticks": ""
            },
            "colorscale": [
             [
              0,
              "#0d0887"
             ],
             [
              0.1111111111111111,
              "#46039f"
             ],
             [
              0.2222222222222222,
              "#7201a8"
             ],
             [
              0.3333333333333333,
              "#9c179e"
             ],
             [
              0.4444444444444444,
              "#bd3786"
             ],
             [
              0.5555555555555556,
              "#d8576b"
             ],
             [
              0.6666666666666666,
              "#ed7953"
             ],
             [
              0.7777777777777778,
              "#fb9f3a"
             ],
             [
              0.8888888888888888,
              "#fdca26"
             ],
             [
              1,
              "#f0f921"
             ]
            ],
            "type": "heatmapgl"
           }
          ],
          "histogram": [
           {
            "marker": {
             "pattern": {
              "fillmode": "overlay",
              "size": 10,
              "solidity": 0.2
             }
            },
            "type": "histogram"
           }
          ],
          "histogram2d": [
           {
            "colorbar": {
             "outlinewidth": 0,
             "ticks": ""
            },
            "colorscale": [
             [
              0,
              "#0d0887"
             ],
             [
              0.1111111111111111,
              "#46039f"
             ],
             [
              0.2222222222222222,
              "#7201a8"
             ],
             [
              0.3333333333333333,
              "#9c179e"
             ],
             [
              0.4444444444444444,
              "#bd3786"
             ],
             [
              0.5555555555555556,
              "#d8576b"
             ],
             [
              0.6666666666666666,
              "#ed7953"
             ],
             [
              0.7777777777777778,
              "#fb9f3a"
             ],
             [
              0.8888888888888888,
              "#fdca26"
             ],
             [
              1,
              "#f0f921"
             ]
            ],
            "type": "histogram2d"
           }
          ],
          "histogram2dcontour": [
           {
            "colorbar": {
             "outlinewidth": 0,
             "ticks": ""
            },
            "colorscale": [
             [
              0,
              "#0d0887"
             ],
             [
              0.1111111111111111,
              "#46039f"
             ],
             [
              0.2222222222222222,
              "#7201a8"
             ],
             [
              0.3333333333333333,
              "#9c179e"
             ],
             [
              0.4444444444444444,
              "#bd3786"
             ],
             [
              0.5555555555555556,
              "#d8576b"
             ],
             [
              0.6666666666666666,
              "#ed7953"
             ],
             [
              0.7777777777777778,
              "#fb9f3a"
             ],
             [
              0.8888888888888888,
              "#fdca26"
             ],
             [
              1,
              "#f0f921"
             ]
            ],
            "type": "histogram2dcontour"
           }
          ],
          "mesh3d": [
           {
            "colorbar": {
             "outlinewidth": 0,
             "ticks": ""
            },
            "type": "mesh3d"
           }
          ],
          "parcoords": [
           {
            "line": {
             "colorbar": {
              "outlinewidth": 0,
              "ticks": ""
             }
            },
            "type": "parcoords"
           }
          ],
          "pie": [
           {
            "automargin": true,
            "type": "pie"
           }
          ],
          "scatter": [
           {
            "fillpattern": {
             "fillmode": "overlay",
             "size": 10,
             "solidity": 0.2
            },
            "type": "scatter"
           }
          ],
          "scatter3d": [
           {
            "line": {
             "colorbar": {
              "outlinewidth": 0,
              "ticks": ""
             }
            },
            "marker": {
             "colorbar": {
              "outlinewidth": 0,
              "ticks": ""
             }
            },
            "type": "scatter3d"
           }
          ],
          "scattercarpet": [
           {
            "marker": {
             "colorbar": {
              "outlinewidth": 0,
              "ticks": ""
             }
            },
            "type": "scattercarpet"
           }
          ],
          "scattergeo": [
           {
            "marker": {
             "colorbar": {
              "outlinewidth": 0,
              "ticks": ""
             }
            },
            "type": "scattergeo"
           }
          ],
          "scattergl": [
           {
            "marker": {
             "colorbar": {
              "outlinewidth": 0,
              "ticks": ""
             }
            },
            "type": "scattergl"
           }
          ],
          "scattermapbox": [
           {
            "marker": {
             "colorbar": {
              "outlinewidth": 0,
              "ticks": ""
             }
            },
            "type": "scattermapbox"
           }
          ],
          "scatterpolar": [
           {
            "marker": {
             "colorbar": {
              "outlinewidth": 0,
              "ticks": ""
             }
            },
            "type": "scatterpolar"
           }
          ],
          "scatterpolargl": [
           {
            "marker": {
             "colorbar": {
              "outlinewidth": 0,
              "ticks": ""
             }
            },
            "type": "scatterpolargl"
           }
          ],
          "scatterternary": [
           {
            "marker": {
             "colorbar": {
              "outlinewidth": 0,
              "ticks": ""
             }
            },
            "type": "scatterternary"
           }
          ],
          "surface": [
           {
            "colorbar": {
             "outlinewidth": 0,
             "ticks": ""
            },
            "colorscale": [
             [
              0,
              "#0d0887"
             ],
             [
              0.1111111111111111,
              "#46039f"
             ],
             [
              0.2222222222222222,
              "#7201a8"
             ],
             [
              0.3333333333333333,
              "#9c179e"
             ],
             [
              0.4444444444444444,
              "#bd3786"
             ],
             [
              0.5555555555555556,
              "#d8576b"
             ],
             [
              0.6666666666666666,
              "#ed7953"
             ],
             [
              0.7777777777777778,
              "#fb9f3a"
             ],
             [
              0.8888888888888888,
              "#fdca26"
             ],
             [
              1,
              "#f0f921"
             ]
            ],
            "type": "surface"
           }
          ],
          "table": [
           {
            "cells": {
             "fill": {
              "color": "#EBF0F8"
             },
             "line": {
              "color": "white"
             }
            },
            "header": {
             "fill": {
              "color": "#C8D4E3"
             },
             "line": {
              "color": "white"
             }
            },
            "type": "table"
           }
          ]
         },
         "layout": {
          "annotationdefaults": {
           "arrowcolor": "#2a3f5f",
           "arrowhead": 0,
           "arrowwidth": 1
          },
          "autotypenumbers": "strict",
          "coloraxis": {
           "colorbar": {
            "outlinewidth": 0,
            "ticks": ""
           }
          },
          "colorscale": {
           "diverging": [
            [
             0,
             "#8e0152"
            ],
            [
             0.1,
             "#c51b7d"
            ],
            [
             0.2,
             "#de77ae"
            ],
            [
             0.3,
             "#f1b6da"
            ],
            [
             0.4,
             "#fde0ef"
            ],
            [
             0.5,
             "#f7f7f7"
            ],
            [
             0.6,
             "#e6f5d0"
            ],
            [
             0.7,
             "#b8e186"
            ],
            [
             0.8,
             "#7fbc41"
            ],
            [
             0.9,
             "#4d9221"
            ],
            [
             1,
             "#276419"
            ]
           ],
           "sequential": [
            [
             0,
             "#0d0887"
            ],
            [
             0.1111111111111111,
             "#46039f"
            ],
            [
             0.2222222222222222,
             "#7201a8"
            ],
            [
             0.3333333333333333,
             "#9c179e"
            ],
            [
             0.4444444444444444,
             "#bd3786"
            ],
            [
             0.5555555555555556,
             "#d8576b"
            ],
            [
             0.6666666666666666,
             "#ed7953"
            ],
            [
             0.7777777777777778,
             "#fb9f3a"
            ],
            [
             0.8888888888888888,
             "#fdca26"
            ],
            [
             1,
             "#f0f921"
            ]
           ],
           "sequentialminus": [
            [
             0,
             "#0d0887"
            ],
            [
             0.1111111111111111,
             "#46039f"
            ],
            [
             0.2222222222222222,
             "#7201a8"
            ],
            [
             0.3333333333333333,
             "#9c179e"
            ],
            [
             0.4444444444444444,
             "#bd3786"
            ],
            [
             0.5555555555555556,
             "#d8576b"
            ],
            [
             0.6666666666666666,
             "#ed7953"
            ],
            [
             0.7777777777777778,
             "#fb9f3a"
            ],
            [
             0.8888888888888888,
             "#fdca26"
            ],
            [
             1,
             "#f0f921"
            ]
           ]
          },
          "colorway": [
           "#636efa",
           "#EF553B",
           "#00cc96",
           "#ab63fa",
           "#FFA15A",
           "#19d3f3",
           "#FF6692",
           "#B6E880",
           "#FF97FF",
           "#FECB52"
          ],
          "font": {
           "color": "#2a3f5f"
          },
          "geo": {
           "bgcolor": "white",
           "lakecolor": "white",
           "landcolor": "#E5ECF6",
           "showlakes": true,
           "showland": true,
           "subunitcolor": "white"
          },
          "hoverlabel": {
           "align": "left"
          },
          "hovermode": "closest",
          "mapbox": {
           "style": "light"
          },
          "paper_bgcolor": "white",
          "plot_bgcolor": "#E5ECF6",
          "polar": {
           "angularaxis": {
            "gridcolor": "white",
            "linecolor": "white",
            "ticks": ""
           },
           "bgcolor": "#E5ECF6",
           "radialaxis": {
            "gridcolor": "white",
            "linecolor": "white",
            "ticks": ""
           }
          },
          "scene": {
           "xaxis": {
            "backgroundcolor": "#E5ECF6",
            "gridcolor": "white",
            "gridwidth": 2,
            "linecolor": "white",
            "showbackground": true,
            "ticks": "",
            "zerolinecolor": "white"
           },
           "yaxis": {
            "backgroundcolor": "#E5ECF6",
            "gridcolor": "white",
            "gridwidth": 2,
            "linecolor": "white",
            "showbackground": true,
            "ticks": "",
            "zerolinecolor": "white"
           },
           "zaxis": {
            "backgroundcolor": "#E5ECF6",
            "gridcolor": "white",
            "gridwidth": 2,
            "linecolor": "white",
            "showbackground": true,
            "ticks": "",
            "zerolinecolor": "white"
           }
          },
          "shapedefaults": {
           "line": {
            "color": "#2a3f5f"
           }
          },
          "ternary": {
           "aaxis": {
            "gridcolor": "white",
            "linecolor": "white",
            "ticks": ""
           },
           "baxis": {
            "gridcolor": "white",
            "linecolor": "white",
            "ticks": ""
           },
           "bgcolor": "#E5ECF6",
           "caxis": {
            "gridcolor": "white",
            "linecolor": "white",
            "ticks": ""
           }
          },
          "title": {
           "x": 0.05
          },
          "xaxis": {
           "automargin": true,
           "gridcolor": "white",
           "linecolor": "white",
           "ticks": "",
           "title": {
            "standoff": 15
           },
           "zerolinecolor": "white",
           "zerolinewidth": 2
          },
          "yaxis": {
           "automargin": true,
           "gridcolor": "white",
           "linecolor": "white",
           "ticks": "",
           "title": {
            "standoff": 15
           },
           "zerolinecolor": "white",
           "zerolinewidth": 2
          }
         }
        },
        "title": {
         "font": {
          "color": "white",
          "family": "Proxima Nova",
          "size": 25
         },
         "pad": {
          "t": 30
         },
         "text": "<b>I am knowledgeable about consent in romantic relationships.</b>",
         "y": 1,
         "yanchor": "top"
        },
        "width": 1000,
        "xaxis": {
         "domain": [
          0.08,
          1
         ],
         "dtick": 0.25,
         "gridcolor": "#151E27",
         "gridwidth": 0,
         "linecolor": "#151E27",
         "linewidth": 0,
         "showticklabels": false,
         "tick0": 0,
         "tickfont": {
          "color": "white",
          "family": "PT Sans",
          "size": 14
         },
         "tickformat": ",.0%",
         "tickmode": "linear",
         "zeroline": false
        },
        "yaxis": {
         "autorange": "reversed",
         "showticklabels": false
        }
       }
      }
     },
     "metadata": {},
     "output_type": "display_data"
    },
    {
     "data": {
      "application/vnd.plotly.v1+json": {
       "config": {
        "plotlyServerURL": "https://plot.ly"
       },
       "data": [
        {
         "marker": {
          "color": "rgb(158,34,162)",
          "line": {
           "color": "white",
           "width": 0
          }
         },
         "name": "Strongly Disagree",
         "orientation": "h",
         "showlegend": true,
         "type": "bar",
         "x": [
          0.14705882352941177
         ],
         "y": [
          "Watched"
         ]
        },
        {
         "marker": {
          "color": "rgb(158,34,162)",
          "line": {
           "color": "white",
           "width": 0
          }
         },
         "name": "Strongly Disagree",
         "orientation": "h",
         "showlegend": false,
         "type": "bar",
         "x": [
          0.10714285714285714
         ],
         "y": [
          "Not Watched"
         ]
        },
        {
         "marker": {
          "color": "rgb(198,156,234)",
          "line": {
           "color": "white",
           "width": 0
          }
         },
         "name": "Disagree",
         "orientation": "h",
         "showlegend": true,
         "type": "bar",
         "x": [
          0.2647058823529412
         ],
         "y": [
          "Watched"
         ]
        },
        {
         "marker": {
          "color": "rgb(198,156,234)",
          "line": {
           "color": "white",
           "width": 0
          }
         },
         "name": "Disagree",
         "orientation": "h",
         "showlegend": false,
         "type": "bar",
         "x": [
          0.35714285714285715
         ],
         "y": [
          "Not Watched"
         ]
        },
        {
         "marker": {
          "color": "rgb(200, 192, 234)",
          "line": {
           "color": "white",
           "width": 0
          }
         },
         "name": "Neutral",
         "orientation": "h",
         "showlegend": true,
         "type": "bar",
         "x": [
          0.08823529411764706
         ],
         "y": [
          "Watched"
         ]
        },
        {
         "marker": {
          "color": "rgb(200, 192, 234)",
          "line": {
           "color": "white",
           "width": 0
          }
         },
         "name": "Neutral",
         "orientation": "h",
         "showlegend": false,
         "type": "bar",
         "x": [
          0.17857142857142858
         ],
         "y": [
          "Not Watched"
         ]
        },
        {
         "marker": {
          "color": "rgb(114,133,225)",
          "line": {
           "color": "white",
           "width": 0
          }
         },
         "name": "Agree",
         "orientation": "h",
         "showlegend": true,
         "type": "bar",
         "x": [
          0.20588235294117646
         ],
         "y": [
          "Watched"
         ]
        },
        {
         "marker": {
          "color": "rgb(114,133,225)",
          "line": {
           "color": "white",
           "width": 0
          }
         },
         "name": "Agree",
         "orientation": "h",
         "showlegend": false,
         "type": "bar",
         "x": [
          0.21428571428571427
         ],
         "y": [
          "Not Watched"
         ]
        },
        {
         "marker": {
          "color": "rgb(51, 51, 154)",
          "line": {
           "color": "white",
           "width": 0
          }
         },
         "name": "Strongly Agree",
         "orientation": "h",
         "showlegend": true,
         "type": "bar",
         "x": [
          0.29411764705882354
         ],
         "y": [
          "Watched"
         ]
        },
        {
         "marker": {
          "color": "rgb(51, 51, 154)",
          "line": {
           "color": "white",
           "width": 0
          }
         },
         "name": "Strongly Agree",
         "orientation": "h",
         "showlegend": false,
         "type": "bar",
         "x": [
          0.14285714285714285
         ],
         "y": [
          "Not Watched"
         ]
        }
       ],
       "layout": {
        "annotations": [
         {
          "align": "right",
          "font": {
           "color": "white",
           "family": "PT Sans",
           "size": 18
          },
          "showarrow": false,
          "text": "Watched",
          "x": 0.065,
          "xanchor": "right",
          "xref": "paper",
          "y": "Watched",
          "yref": "y"
         },
         {
          "font": {
           "color": "rgb(255, 255, 255)",
           "family": "PT Sans",
           "size": 15
          },
          "showarrow": false,
          "text": "<b>15%</b>",
          "x": 0.07352941176470588,
          "xref": "x",
          "y": "Watched",
          "yref": "y"
         },
         {
          "font": {
           "color": "rgb(255, 255, 255)",
           "family": "PT Sans",
           "size": 15
          },
          "showarrow": false,
          "text": "<b>26%</b>",
          "x": 0.27941176470588236,
          "xref": "x",
          "y": "Watched",
          "yref": "y"
         },
         {
          "font": {
           "color": "rgb(255, 255, 255)",
           "family": "PT Sans",
           "size": 15
          },
          "showarrow": false,
          "text": "<b>9%</b>",
          "x": 0.45588235294117646,
          "xref": "x",
          "y": "Watched",
          "yref": "y"
         },
         {
          "font": {
           "color": "rgb(255, 255, 255)",
           "family": "PT Sans",
           "size": 15
          },
          "showarrow": false,
          "text": "<b>21%</b>",
          "x": 0.6029411764705882,
          "xref": "x",
          "y": "Watched",
          "yref": "y"
         },
         {
          "font": {
           "color": "rgb(255, 255, 255)",
           "family": "PT Sans",
           "size": 15
          },
          "showarrow": false,
          "text": "<b>29%</b>",
          "x": 0.8529411764705882,
          "xref": "x",
          "y": "Watched",
          "yref": "y"
         },
         {
          "align": "right",
          "font": {
           "color": "white",
           "family": "PT Sans",
           "size": 18
          },
          "showarrow": false,
          "text": "Not Watched",
          "x": 0.065,
          "xanchor": "right",
          "xref": "paper",
          "y": "Not Watched",
          "yref": "y"
         },
         {
          "font": {
           "color": "rgb(255, 255, 255)",
           "family": "PT Sans",
           "size": 15
          },
          "showarrow": false,
          "text": "<b>11%</b>",
          "x": 0.05357142857142857,
          "xref": "x",
          "y": "Not Watched",
          "yref": "y"
         },
         {
          "font": {
           "color": "rgb(255, 255, 255)",
           "family": "PT Sans",
           "size": 15
          },
          "showarrow": false,
          "text": "<b>36%</b>",
          "x": 0.2857142857142857,
          "xref": "x",
          "y": "Not Watched",
          "yref": "y"
         },
         {
          "font": {
           "color": "rgb(255, 255, 255)",
           "family": "PT Sans",
           "size": 15
          },
          "showarrow": false,
          "text": "<b>18%</b>",
          "x": 0.5535714285714286,
          "xref": "x",
          "y": "Not Watched",
          "yref": "y"
         },
         {
          "font": {
           "color": "rgb(255, 255, 255)",
           "family": "PT Sans",
           "size": 15
          },
          "showarrow": false,
          "text": "<b>21%</b>",
          "x": 0.75,
          "xref": "x",
          "y": "Not Watched",
          "yref": "y"
         },
         {
          "font": {
           "color": "rgb(255, 255, 255)",
           "family": "PT Sans",
           "size": 15
          },
          "showarrow": false,
          "text": "<b>14%</b>",
          "x": 0.9285714285714286,
          "xref": "x",
          "y": "Not Watched",
          "yref": "y"
         }
        ],
        "bargap": 0.2,
        "barmode": "stack",
        "height": 320,
        "legend": {
         "bgcolor": "#151E27",
         "font": {
          "color": "white",
          "family": "PT Sans",
          "size": 16
         },
         "orientation": "h",
         "traceorder": "normal",
         "x": 0.96,
         "xanchor": "right",
         "y": 1,
         "yanchor": "bottom"
        },
        "margin": {
         "b": 50,
         "l": 90,
         "r": 10,
         "t": 100
        },
        "paper_bgcolor": "#151E27",
        "plot_bgcolor": "#151E27",
        "showlegend": true,
        "template": {
         "data": {
          "bar": [
           {
            "error_x": {
             "color": "#2a3f5f"
            },
            "error_y": {
             "color": "#2a3f5f"
            },
            "marker": {
             "line": {
              "color": "#E5ECF6",
              "width": 0.5
             },
             "pattern": {
              "fillmode": "overlay",
              "size": 10,
              "solidity": 0.2
             }
            },
            "type": "bar"
           }
          ],
          "barpolar": [
           {
            "marker": {
             "line": {
              "color": "#E5ECF6",
              "width": 0.5
             },
             "pattern": {
              "fillmode": "overlay",
              "size": 10,
              "solidity": 0.2
             }
            },
            "type": "barpolar"
           }
          ],
          "carpet": [
           {
            "aaxis": {
             "endlinecolor": "#2a3f5f",
             "gridcolor": "white",
             "linecolor": "white",
             "minorgridcolor": "white",
             "startlinecolor": "#2a3f5f"
            },
            "baxis": {
             "endlinecolor": "#2a3f5f",
             "gridcolor": "white",
             "linecolor": "white",
             "minorgridcolor": "white",
             "startlinecolor": "#2a3f5f"
            },
            "type": "carpet"
           }
          ],
          "choropleth": [
           {
            "colorbar": {
             "outlinewidth": 0,
             "ticks": ""
            },
            "type": "choropleth"
           }
          ],
          "contour": [
           {
            "colorbar": {
             "outlinewidth": 0,
             "ticks": ""
            },
            "colorscale": [
             [
              0,
              "#0d0887"
             ],
             [
              0.1111111111111111,
              "#46039f"
             ],
             [
              0.2222222222222222,
              "#7201a8"
             ],
             [
              0.3333333333333333,
              "#9c179e"
             ],
             [
              0.4444444444444444,
              "#bd3786"
             ],
             [
              0.5555555555555556,
              "#d8576b"
             ],
             [
              0.6666666666666666,
              "#ed7953"
             ],
             [
              0.7777777777777778,
              "#fb9f3a"
             ],
             [
              0.8888888888888888,
              "#fdca26"
             ],
             [
              1,
              "#f0f921"
             ]
            ],
            "type": "contour"
           }
          ],
          "contourcarpet": [
           {
            "colorbar": {
             "outlinewidth": 0,
             "ticks": ""
            },
            "type": "contourcarpet"
           }
          ],
          "heatmap": [
           {
            "colorbar": {
             "outlinewidth": 0,
             "ticks": ""
            },
            "colorscale": [
             [
              0,
              "#0d0887"
             ],
             [
              0.1111111111111111,
              "#46039f"
             ],
             [
              0.2222222222222222,
              "#7201a8"
             ],
             [
              0.3333333333333333,
              "#9c179e"
             ],
             [
              0.4444444444444444,
              "#bd3786"
             ],
             [
              0.5555555555555556,
              "#d8576b"
             ],
             [
              0.6666666666666666,
              "#ed7953"
             ],
             [
              0.7777777777777778,
              "#fb9f3a"
             ],
             [
              0.8888888888888888,
              "#fdca26"
             ],
             [
              1,
              "#f0f921"
             ]
            ],
            "type": "heatmap"
           }
          ],
          "heatmapgl": [
           {
            "colorbar": {
             "outlinewidth": 0,
             "ticks": ""
            },
            "colorscale": [
             [
              0,
              "#0d0887"
             ],
             [
              0.1111111111111111,
              "#46039f"
             ],
             [
              0.2222222222222222,
              "#7201a8"
             ],
             [
              0.3333333333333333,
              "#9c179e"
             ],
             [
              0.4444444444444444,
              "#bd3786"
             ],
             [
              0.5555555555555556,
              "#d8576b"
             ],
             [
              0.6666666666666666,
              "#ed7953"
             ],
             [
              0.7777777777777778,
              "#fb9f3a"
             ],
             [
              0.8888888888888888,
              "#fdca26"
             ],
             [
              1,
              "#f0f921"
             ]
            ],
            "type": "heatmapgl"
           }
          ],
          "histogram": [
           {
            "marker": {
             "pattern": {
              "fillmode": "overlay",
              "size": 10,
              "solidity": 0.2
             }
            },
            "type": "histogram"
           }
          ],
          "histogram2d": [
           {
            "colorbar": {
             "outlinewidth": 0,
             "ticks": ""
            },
            "colorscale": [
             [
              0,
              "#0d0887"
             ],
             [
              0.1111111111111111,
              "#46039f"
             ],
             [
              0.2222222222222222,
              "#7201a8"
             ],
             [
              0.3333333333333333,
              "#9c179e"
             ],
             [
              0.4444444444444444,
              "#bd3786"
             ],
             [
              0.5555555555555556,
              "#d8576b"
             ],
             [
              0.6666666666666666,
              "#ed7953"
             ],
             [
              0.7777777777777778,
              "#fb9f3a"
             ],
             [
              0.8888888888888888,
              "#fdca26"
             ],
             [
              1,
              "#f0f921"
             ]
            ],
            "type": "histogram2d"
           }
          ],
          "histogram2dcontour": [
           {
            "colorbar": {
             "outlinewidth": 0,
             "ticks": ""
            },
            "colorscale": [
             [
              0,
              "#0d0887"
             ],
             [
              0.1111111111111111,
              "#46039f"
             ],
             [
              0.2222222222222222,
              "#7201a8"
             ],
             [
              0.3333333333333333,
              "#9c179e"
             ],
             [
              0.4444444444444444,
              "#bd3786"
             ],
             [
              0.5555555555555556,
              "#d8576b"
             ],
             [
              0.6666666666666666,
              "#ed7953"
             ],
             [
              0.7777777777777778,
              "#fb9f3a"
             ],
             [
              0.8888888888888888,
              "#fdca26"
             ],
             [
              1,
              "#f0f921"
             ]
            ],
            "type": "histogram2dcontour"
           }
          ],
          "mesh3d": [
           {
            "colorbar": {
             "outlinewidth": 0,
             "ticks": ""
            },
            "type": "mesh3d"
           }
          ],
          "parcoords": [
           {
            "line": {
             "colorbar": {
              "outlinewidth": 0,
              "ticks": ""
             }
            },
            "type": "parcoords"
           }
          ],
          "pie": [
           {
            "automargin": true,
            "type": "pie"
           }
          ],
          "scatter": [
           {
            "fillpattern": {
             "fillmode": "overlay",
             "size": 10,
             "solidity": 0.2
            },
            "type": "scatter"
           }
          ],
          "scatter3d": [
           {
            "line": {
             "colorbar": {
              "outlinewidth": 0,
              "ticks": ""
             }
            },
            "marker": {
             "colorbar": {
              "outlinewidth": 0,
              "ticks": ""
             }
            },
            "type": "scatter3d"
           }
          ],
          "scattercarpet": [
           {
            "marker": {
             "colorbar": {
              "outlinewidth": 0,
              "ticks": ""
             }
            },
            "type": "scattercarpet"
           }
          ],
          "scattergeo": [
           {
            "marker": {
             "colorbar": {
              "outlinewidth": 0,
              "ticks": ""
             }
            },
            "type": "scattergeo"
           }
          ],
          "scattergl": [
           {
            "marker": {
             "colorbar": {
              "outlinewidth": 0,
              "ticks": ""
             }
            },
            "type": "scattergl"
           }
          ],
          "scattermapbox": [
           {
            "marker": {
             "colorbar": {
              "outlinewidth": 0,
              "ticks": ""
             }
            },
            "type": "scattermapbox"
           }
          ],
          "scatterpolar": [
           {
            "marker": {
             "colorbar": {
              "outlinewidth": 0,
              "ticks": ""
             }
            },
            "type": "scatterpolar"
           }
          ],
          "scatterpolargl": [
           {
            "marker": {
             "colorbar": {
              "outlinewidth": 0,
              "ticks": ""
             }
            },
            "type": "scatterpolargl"
           }
          ],
          "scatterternary": [
           {
            "marker": {
             "colorbar": {
              "outlinewidth": 0,
              "ticks": ""
             }
            },
            "type": "scatterternary"
           }
          ],
          "surface": [
           {
            "colorbar": {
             "outlinewidth": 0,
             "ticks": ""
            },
            "colorscale": [
             [
              0,
              "#0d0887"
             ],
             [
              0.1111111111111111,
              "#46039f"
             ],
             [
              0.2222222222222222,
              "#7201a8"
             ],
             [
              0.3333333333333333,
              "#9c179e"
             ],
             [
              0.4444444444444444,
              "#bd3786"
             ],
             [
              0.5555555555555556,
              "#d8576b"
             ],
             [
              0.6666666666666666,
              "#ed7953"
             ],
             [
              0.7777777777777778,
              "#fb9f3a"
             ],
             [
              0.8888888888888888,
              "#fdca26"
             ],
             [
              1,
              "#f0f921"
             ]
            ],
            "type": "surface"
           }
          ],
          "table": [
           {
            "cells": {
             "fill": {
              "color": "#EBF0F8"
             },
             "line": {
              "color": "white"
             }
            },
            "header": {
             "fill": {
              "color": "#C8D4E3"
             },
             "line": {
              "color": "white"
             }
            },
            "type": "table"
           }
          ]
         },
         "layout": {
          "annotationdefaults": {
           "arrowcolor": "#2a3f5f",
           "arrowhead": 0,
           "arrowwidth": 1
          },
          "autotypenumbers": "strict",
          "coloraxis": {
           "colorbar": {
            "outlinewidth": 0,
            "ticks": ""
           }
          },
          "colorscale": {
           "diverging": [
            [
             0,
             "#8e0152"
            ],
            [
             0.1,
             "#c51b7d"
            ],
            [
             0.2,
             "#de77ae"
            ],
            [
             0.3,
             "#f1b6da"
            ],
            [
             0.4,
             "#fde0ef"
            ],
            [
             0.5,
             "#f7f7f7"
            ],
            [
             0.6,
             "#e6f5d0"
            ],
            [
             0.7,
             "#b8e186"
            ],
            [
             0.8,
             "#7fbc41"
            ],
            [
             0.9,
             "#4d9221"
            ],
            [
             1,
             "#276419"
            ]
           ],
           "sequential": [
            [
             0,
             "#0d0887"
            ],
            [
             0.1111111111111111,
             "#46039f"
            ],
            [
             0.2222222222222222,
             "#7201a8"
            ],
            [
             0.3333333333333333,
             "#9c179e"
            ],
            [
             0.4444444444444444,
             "#bd3786"
            ],
            [
             0.5555555555555556,
             "#d8576b"
            ],
            [
             0.6666666666666666,
             "#ed7953"
            ],
            [
             0.7777777777777778,
             "#fb9f3a"
            ],
            [
             0.8888888888888888,
             "#fdca26"
            ],
            [
             1,
             "#f0f921"
            ]
           ],
           "sequentialminus": [
            [
             0,
             "#0d0887"
            ],
            [
             0.1111111111111111,
             "#46039f"
            ],
            [
             0.2222222222222222,
             "#7201a8"
            ],
            [
             0.3333333333333333,
             "#9c179e"
            ],
            [
             0.4444444444444444,
             "#bd3786"
            ],
            [
             0.5555555555555556,
             "#d8576b"
            ],
            [
             0.6666666666666666,
             "#ed7953"
            ],
            [
             0.7777777777777778,
             "#fb9f3a"
            ],
            [
             0.8888888888888888,
             "#fdca26"
            ],
            [
             1,
             "#f0f921"
            ]
           ]
          },
          "colorway": [
           "#636efa",
           "#EF553B",
           "#00cc96",
           "#ab63fa",
           "#FFA15A",
           "#19d3f3",
           "#FF6692",
           "#B6E880",
           "#FF97FF",
           "#FECB52"
          ],
          "font": {
           "color": "#2a3f5f"
          },
          "geo": {
           "bgcolor": "white",
           "lakecolor": "white",
           "landcolor": "#E5ECF6",
           "showlakes": true,
           "showland": true,
           "subunitcolor": "white"
          },
          "hoverlabel": {
           "align": "left"
          },
          "hovermode": "closest",
          "mapbox": {
           "style": "light"
          },
          "paper_bgcolor": "white",
          "plot_bgcolor": "#E5ECF6",
          "polar": {
           "angularaxis": {
            "gridcolor": "white",
            "linecolor": "white",
            "ticks": ""
           },
           "bgcolor": "#E5ECF6",
           "radialaxis": {
            "gridcolor": "white",
            "linecolor": "white",
            "ticks": ""
           }
          },
          "scene": {
           "xaxis": {
            "backgroundcolor": "#E5ECF6",
            "gridcolor": "white",
            "gridwidth": 2,
            "linecolor": "white",
            "showbackground": true,
            "ticks": "",
            "zerolinecolor": "white"
           },
           "yaxis": {
            "backgroundcolor": "#E5ECF6",
            "gridcolor": "white",
            "gridwidth": 2,
            "linecolor": "white",
            "showbackground": true,
            "ticks": "",
            "zerolinecolor": "white"
           },
           "zaxis": {
            "backgroundcolor": "#E5ECF6",
            "gridcolor": "white",
            "gridwidth": 2,
            "linecolor": "white",
            "showbackground": true,
            "ticks": "",
            "zerolinecolor": "white"
           }
          },
          "shapedefaults": {
           "line": {
            "color": "#2a3f5f"
           }
          },
          "ternary": {
           "aaxis": {
            "gridcolor": "white",
            "linecolor": "white",
            "ticks": ""
           },
           "baxis": {
            "gridcolor": "white",
            "linecolor": "white",
            "ticks": ""
           },
           "bgcolor": "#E5ECF6",
           "caxis": {
            "gridcolor": "white",
            "linecolor": "white",
            "ticks": ""
           }
          },
          "title": {
           "x": 0.05
          },
          "xaxis": {
           "automargin": true,
           "gridcolor": "white",
           "linecolor": "white",
           "ticks": "",
           "title": {
            "standoff": 15
           },
           "zerolinecolor": "white",
           "zerolinewidth": 2
          },
          "yaxis": {
           "automargin": true,
           "gridcolor": "white",
           "linecolor": "white",
           "ticks": "",
           "title": {
            "standoff": 15
           },
           "zerolinecolor": "white",
           "zerolinewidth": 2
          }
         }
        },
        "title": {
         "font": {
          "color": "white",
          "family": "Proxima Nova",
          "size": 25
         },
         "pad": {
          "t": 30
         },
         "text": "<b>I am aware of resources available to those facing teen dating violence.</b>",
         "y": 1,
         "yanchor": "top"
        },
        "width": 1000,
        "xaxis": {
         "domain": [
          0.08,
          1
         ],
         "dtick": 0.25,
         "gridcolor": "#151E27",
         "gridwidth": 0,
         "linecolor": "#151E27",
         "linewidth": 0,
         "showticklabels": false,
         "tick0": 0,
         "tickfont": {
          "color": "white",
          "family": "PT Sans",
          "size": 14
         },
         "tickformat": ",.0%",
         "tickmode": "linear",
         "zeroline": false
        },
        "yaxis": {
         "autorange": "reversed",
         "showticklabels": false
        }
       }
      }
     },
     "metadata": {},
     "output_type": "display_data"
    },
    {
     "data": {
      "application/vnd.plotly.v1+json": {
       "config": {
        "plotlyServerURL": "https://plot.ly"
       },
       "data": [
        {
         "marker": {
          "color": "rgb(158,34,162)",
          "line": {
           "color": "white",
           "width": 0
          }
         },
         "name": "Strongly Disagree",
         "orientation": "h",
         "showlegend": true,
         "type": "bar",
         "x": [
          0.029411764705882353
         ],
         "y": [
          "Watched"
         ]
        },
        {
         "marker": {
          "color": "rgb(158,34,162)",
          "line": {
           "color": "white",
           "width": 0
          }
         },
         "name": "Strongly Disagree",
         "orientation": "h",
         "showlegend": false,
         "type": "bar",
         "x": [
          0
         ],
         "y": [
          "Not Watched"
         ]
        },
        {
         "marker": {
          "color": "rgb(198,156,234)",
          "line": {
           "color": "white",
           "width": 0
          }
         },
         "name": "Disagree",
         "orientation": "h",
         "showlegend": true,
         "type": "bar",
         "x": [
          0.058823529411764705
         ],
         "y": [
          "Watched"
         ]
        },
        {
         "marker": {
          "color": "rgb(198,156,234)",
          "line": {
           "color": "white",
           "width": 0
          }
         },
         "name": "Disagree",
         "orientation": "h",
         "showlegend": false,
         "type": "bar",
         "x": [
          0.07142857142857142
         ],
         "y": [
          "Not Watched"
         ]
        },
        {
         "marker": {
          "color": "rgb(200, 192, 234)",
          "line": {
           "color": "white",
           "width": 0
          }
         },
         "name": "Neutral",
         "orientation": "h",
         "showlegend": true,
         "type": "bar",
         "x": [
          0.11764705882352941
         ],
         "y": [
          "Watched"
         ]
        },
        {
         "marker": {
          "color": "rgb(200, 192, 234)",
          "line": {
           "color": "white",
           "width": 0
          }
         },
         "name": "Neutral",
         "orientation": "h",
         "showlegend": false,
         "type": "bar",
         "x": [
          0.21428571428571427
         ],
         "y": [
          "Not Watched"
         ]
        },
        {
         "marker": {
          "color": "rgb(114,133,225)",
          "line": {
           "color": "white",
           "width": 0
          }
         },
         "name": "Agree",
         "orientation": "h",
         "showlegend": true,
         "type": "bar",
         "x": [
          0.38235294117647056
         ],
         "y": [
          "Watched"
         ]
        },
        {
         "marker": {
          "color": "rgb(114,133,225)",
          "line": {
           "color": "white",
           "width": 0
          }
         },
         "name": "Agree",
         "orientation": "h",
         "showlegend": false,
         "type": "bar",
         "x": [
          0.39285714285714285
         ],
         "y": [
          "Not Watched"
         ]
        },
        {
         "marker": {
          "color": "rgb(51, 51, 154)",
          "line": {
           "color": "white",
           "width": 0
          }
         },
         "name": "Strongly Agree",
         "orientation": "h",
         "showlegend": true,
         "type": "bar",
         "x": [
          0.4117647058823529
         ],
         "y": [
          "Watched"
         ]
        },
        {
         "marker": {
          "color": "rgb(51, 51, 154)",
          "line": {
           "color": "white",
           "width": 0
          }
         },
         "name": "Strongly Agree",
         "orientation": "h",
         "showlegend": false,
         "type": "bar",
         "x": [
          0.32142857142857145
         ],
         "y": [
          "Not Watched"
         ]
        }
       ],
       "layout": {
        "annotations": [
         {
          "align": "right",
          "font": {
           "color": "white",
           "family": "PT Sans",
           "size": 18
          },
          "showarrow": false,
          "text": "Watched",
          "x": 0.065,
          "xanchor": "right",
          "xref": "paper",
          "y": "Watched",
          "yref": "y"
         },
         {
          "font": {
           "color": "rgb(255, 255, 255)",
           "family": "PT Sans",
           "size": 15
          },
          "showarrow": false,
          "text": "<b>3%</b>",
          "x": 0.014705882352941176,
          "xref": "x",
          "y": "Watched",
          "yref": "y"
         },
         {
          "font": {
           "color": "rgb(255, 255, 255)",
           "family": "PT Sans",
           "size": 15
          },
          "showarrow": false,
          "text": "<b>6%</b>",
          "x": 0.058823529411764705,
          "xref": "x",
          "y": "Watched",
          "yref": "y"
         },
         {
          "font": {
           "color": "rgb(255, 255, 255)",
           "family": "PT Sans",
           "size": 15
          },
          "showarrow": false,
          "text": "<b>12%</b>",
          "x": 0.14705882352941174,
          "xref": "x",
          "y": "Watched",
          "yref": "y"
         },
         {
          "font": {
           "color": "rgb(255, 255, 255)",
           "family": "PT Sans",
           "size": 15
          },
          "showarrow": false,
          "text": "<b>38%</b>",
          "x": 0.39705882352941174,
          "xref": "x",
          "y": "Watched",
          "yref": "y"
         },
         {
          "font": {
           "color": "rgb(255, 255, 255)",
           "family": "PT Sans",
           "size": 15
          },
          "showarrow": false,
          "text": "<b>41%</b>",
          "x": 0.7941176470588234,
          "xref": "x",
          "y": "Watched",
          "yref": "y"
         },
         {
          "align": "right",
          "font": {
           "color": "white",
           "family": "PT Sans",
           "size": 18
          },
          "showarrow": false,
          "text": "Not Watched",
          "x": 0.065,
          "xanchor": "right",
          "xref": "paper",
          "y": "Not Watched",
          "yref": "y"
         },
         {
          "font": {
           "color": "rgb(255, 255, 255)",
           "family": "PT Sans",
           "size": 15
          },
          "showarrow": false,
          "text": "<b>7%</b>",
          "x": 0.03571428571428571,
          "xref": "x",
          "y": "Not Watched",
          "yref": "y"
         },
         {
          "font": {
           "color": "rgb(255, 255, 255)",
           "family": "PT Sans",
           "size": 15
          },
          "showarrow": false,
          "text": "<b>21%</b>",
          "x": 0.17857142857142855,
          "xref": "x",
          "y": "Not Watched",
          "yref": "y"
         },
         {
          "font": {
           "color": "rgb(255, 255, 255)",
           "family": "PT Sans",
           "size": 15
          },
          "showarrow": false,
          "text": "<b>39%</b>",
          "x": 0.4821428571428571,
          "xref": "x",
          "y": "Not Watched",
          "yref": "y"
         },
         {
          "font": {
           "color": "rgb(255, 255, 255)",
           "family": "PT Sans",
           "size": 15
          },
          "showarrow": false,
          "text": "<b>32%</b>",
          "x": 0.8392857142857143,
          "xref": "x",
          "y": "Not Watched",
          "yref": "y"
         }
        ],
        "bargap": 0.2,
        "barmode": "stack",
        "height": 320,
        "legend": {
         "bgcolor": "#151E27",
         "font": {
          "color": "white",
          "family": "PT Sans",
          "size": 16
         },
         "orientation": "h",
         "traceorder": "normal",
         "x": 0.96,
         "xanchor": "right",
         "y": 1,
         "yanchor": "bottom"
        },
        "margin": {
         "b": 50,
         "l": 90,
         "r": 10,
         "t": 100
        },
        "paper_bgcolor": "#151E27",
        "plot_bgcolor": "#151E27",
        "showlegend": true,
        "template": {
         "data": {
          "bar": [
           {
            "error_x": {
             "color": "#2a3f5f"
            },
            "error_y": {
             "color": "#2a3f5f"
            },
            "marker": {
             "line": {
              "color": "#E5ECF6",
              "width": 0.5
             },
             "pattern": {
              "fillmode": "overlay",
              "size": 10,
              "solidity": 0.2
             }
            },
            "type": "bar"
           }
          ],
          "barpolar": [
           {
            "marker": {
             "line": {
              "color": "#E5ECF6",
              "width": 0.5
             },
             "pattern": {
              "fillmode": "overlay",
              "size": 10,
              "solidity": 0.2
             }
            },
            "type": "barpolar"
           }
          ],
          "carpet": [
           {
            "aaxis": {
             "endlinecolor": "#2a3f5f",
             "gridcolor": "white",
             "linecolor": "white",
             "minorgridcolor": "white",
             "startlinecolor": "#2a3f5f"
            },
            "baxis": {
             "endlinecolor": "#2a3f5f",
             "gridcolor": "white",
             "linecolor": "white",
             "minorgridcolor": "white",
             "startlinecolor": "#2a3f5f"
            },
            "type": "carpet"
           }
          ],
          "choropleth": [
           {
            "colorbar": {
             "outlinewidth": 0,
             "ticks": ""
            },
            "type": "choropleth"
           }
          ],
          "contour": [
           {
            "colorbar": {
             "outlinewidth": 0,
             "ticks": ""
            },
            "colorscale": [
             [
              0,
              "#0d0887"
             ],
             [
              0.1111111111111111,
              "#46039f"
             ],
             [
              0.2222222222222222,
              "#7201a8"
             ],
             [
              0.3333333333333333,
              "#9c179e"
             ],
             [
              0.4444444444444444,
              "#bd3786"
             ],
             [
              0.5555555555555556,
              "#d8576b"
             ],
             [
              0.6666666666666666,
              "#ed7953"
             ],
             [
              0.7777777777777778,
              "#fb9f3a"
             ],
             [
              0.8888888888888888,
              "#fdca26"
             ],
             [
              1,
              "#f0f921"
             ]
            ],
            "type": "contour"
           }
          ],
          "contourcarpet": [
           {
            "colorbar": {
             "outlinewidth": 0,
             "ticks": ""
            },
            "type": "contourcarpet"
           }
          ],
          "heatmap": [
           {
            "colorbar": {
             "outlinewidth": 0,
             "ticks": ""
            },
            "colorscale": [
             [
              0,
              "#0d0887"
             ],
             [
              0.1111111111111111,
              "#46039f"
             ],
             [
              0.2222222222222222,
              "#7201a8"
             ],
             [
              0.3333333333333333,
              "#9c179e"
             ],
             [
              0.4444444444444444,
              "#bd3786"
             ],
             [
              0.5555555555555556,
              "#d8576b"
             ],
             [
              0.6666666666666666,
              "#ed7953"
             ],
             [
              0.7777777777777778,
              "#fb9f3a"
             ],
             [
              0.8888888888888888,
              "#fdca26"
             ],
             [
              1,
              "#f0f921"
             ]
            ],
            "type": "heatmap"
           }
          ],
          "heatmapgl": [
           {
            "colorbar": {
             "outlinewidth": 0,
             "ticks": ""
            },
            "colorscale": [
             [
              0,
              "#0d0887"
             ],
             [
              0.1111111111111111,
              "#46039f"
             ],
             [
              0.2222222222222222,
              "#7201a8"
             ],
             [
              0.3333333333333333,
              "#9c179e"
             ],
             [
              0.4444444444444444,
              "#bd3786"
             ],
             [
              0.5555555555555556,
              "#d8576b"
             ],
             [
              0.6666666666666666,
              "#ed7953"
             ],
             [
              0.7777777777777778,
              "#fb9f3a"
             ],
             [
              0.8888888888888888,
              "#fdca26"
             ],
             [
              1,
              "#f0f921"
             ]
            ],
            "type": "heatmapgl"
           }
          ],
          "histogram": [
           {
            "marker": {
             "pattern": {
              "fillmode": "overlay",
              "size": 10,
              "solidity": 0.2
             }
            },
            "type": "histogram"
           }
          ],
          "histogram2d": [
           {
            "colorbar": {
             "outlinewidth": 0,
             "ticks": ""
            },
            "colorscale": [
             [
              0,
              "#0d0887"
             ],
             [
              0.1111111111111111,
              "#46039f"
             ],
             [
              0.2222222222222222,
              "#7201a8"
             ],
             [
              0.3333333333333333,
              "#9c179e"
             ],
             [
              0.4444444444444444,
              "#bd3786"
             ],
             [
              0.5555555555555556,
              "#d8576b"
             ],
             [
              0.6666666666666666,
              "#ed7953"
             ],
             [
              0.7777777777777778,
              "#fb9f3a"
             ],
             [
              0.8888888888888888,
              "#fdca26"
             ],
             [
              1,
              "#f0f921"
             ]
            ],
            "type": "histogram2d"
           }
          ],
          "histogram2dcontour": [
           {
            "colorbar": {
             "outlinewidth": 0,
             "ticks": ""
            },
            "colorscale": [
             [
              0,
              "#0d0887"
             ],
             [
              0.1111111111111111,
              "#46039f"
             ],
             [
              0.2222222222222222,
              "#7201a8"
             ],
             [
              0.3333333333333333,
              "#9c179e"
             ],
             [
              0.4444444444444444,
              "#bd3786"
             ],
             [
              0.5555555555555556,
              "#d8576b"
             ],
             [
              0.6666666666666666,
              "#ed7953"
             ],
             [
              0.7777777777777778,
              "#fb9f3a"
             ],
             [
              0.8888888888888888,
              "#fdca26"
             ],
             [
              1,
              "#f0f921"
             ]
            ],
            "type": "histogram2dcontour"
           }
          ],
          "mesh3d": [
           {
            "colorbar": {
             "outlinewidth": 0,
             "ticks": ""
            },
            "type": "mesh3d"
           }
          ],
          "parcoords": [
           {
            "line": {
             "colorbar": {
              "outlinewidth": 0,
              "ticks": ""
             }
            },
            "type": "parcoords"
           }
          ],
          "pie": [
           {
            "automargin": true,
            "type": "pie"
           }
          ],
          "scatter": [
           {
            "fillpattern": {
             "fillmode": "overlay",
             "size": 10,
             "solidity": 0.2
            },
            "type": "scatter"
           }
          ],
          "scatter3d": [
           {
            "line": {
             "colorbar": {
              "outlinewidth": 0,
              "ticks": ""
             }
            },
            "marker": {
             "colorbar": {
              "outlinewidth": 0,
              "ticks": ""
             }
            },
            "type": "scatter3d"
           }
          ],
          "scattercarpet": [
           {
            "marker": {
             "colorbar": {
              "outlinewidth": 0,
              "ticks": ""
             }
            },
            "type": "scattercarpet"
           }
          ],
          "scattergeo": [
           {
            "marker": {
             "colorbar": {
              "outlinewidth": 0,
              "ticks": ""
             }
            },
            "type": "scattergeo"
           }
          ],
          "scattergl": [
           {
            "marker": {
             "colorbar": {
              "outlinewidth": 0,
              "ticks": ""
             }
            },
            "type": "scattergl"
           }
          ],
          "scattermapbox": [
           {
            "marker": {
             "colorbar": {
              "outlinewidth": 0,
              "ticks": ""
             }
            },
            "type": "scattermapbox"
           }
          ],
          "scatterpolar": [
           {
            "marker": {
             "colorbar": {
              "outlinewidth": 0,
              "ticks": ""
             }
            },
            "type": "scatterpolar"
           }
          ],
          "scatterpolargl": [
           {
            "marker": {
             "colorbar": {
              "outlinewidth": 0,
              "ticks": ""
             }
            },
            "type": "scatterpolargl"
           }
          ],
          "scatterternary": [
           {
            "marker": {
             "colorbar": {
              "outlinewidth": 0,
              "ticks": ""
             }
            },
            "type": "scatterternary"
           }
          ],
          "surface": [
           {
            "colorbar": {
             "outlinewidth": 0,
             "ticks": ""
            },
            "colorscale": [
             [
              0,
              "#0d0887"
             ],
             [
              0.1111111111111111,
              "#46039f"
             ],
             [
              0.2222222222222222,
              "#7201a8"
             ],
             [
              0.3333333333333333,
              "#9c179e"
             ],
             [
              0.4444444444444444,
              "#bd3786"
             ],
             [
              0.5555555555555556,
              "#d8576b"
             ],
             [
              0.6666666666666666,
              "#ed7953"
             ],
             [
              0.7777777777777778,
              "#fb9f3a"
             ],
             [
              0.8888888888888888,
              "#fdca26"
             ],
             [
              1,
              "#f0f921"
             ]
            ],
            "type": "surface"
           }
          ],
          "table": [
           {
            "cells": {
             "fill": {
              "color": "#EBF0F8"
             },
             "line": {
              "color": "white"
             }
            },
            "header": {
             "fill": {
              "color": "#C8D4E3"
             },
             "line": {
              "color": "white"
             }
            },
            "type": "table"
           }
          ]
         },
         "layout": {
          "annotationdefaults": {
           "arrowcolor": "#2a3f5f",
           "arrowhead": 0,
           "arrowwidth": 1
          },
          "autotypenumbers": "strict",
          "coloraxis": {
           "colorbar": {
            "outlinewidth": 0,
            "ticks": ""
           }
          },
          "colorscale": {
           "diverging": [
            [
             0,
             "#8e0152"
            ],
            [
             0.1,
             "#c51b7d"
            ],
            [
             0.2,
             "#de77ae"
            ],
            [
             0.3,
             "#f1b6da"
            ],
            [
             0.4,
             "#fde0ef"
            ],
            [
             0.5,
             "#f7f7f7"
            ],
            [
             0.6,
             "#e6f5d0"
            ],
            [
             0.7,
             "#b8e186"
            ],
            [
             0.8,
             "#7fbc41"
            ],
            [
             0.9,
             "#4d9221"
            ],
            [
             1,
             "#276419"
            ]
           ],
           "sequential": [
            [
             0,
             "#0d0887"
            ],
            [
             0.1111111111111111,
             "#46039f"
            ],
            [
             0.2222222222222222,
             "#7201a8"
            ],
            [
             0.3333333333333333,
             "#9c179e"
            ],
            [
             0.4444444444444444,
             "#bd3786"
            ],
            [
             0.5555555555555556,
             "#d8576b"
            ],
            [
             0.6666666666666666,
             "#ed7953"
            ],
            [
             0.7777777777777778,
             "#fb9f3a"
            ],
            [
             0.8888888888888888,
             "#fdca26"
            ],
            [
             1,
             "#f0f921"
            ]
           ],
           "sequentialminus": [
            [
             0,
             "#0d0887"
            ],
            [
             0.1111111111111111,
             "#46039f"
            ],
            [
             0.2222222222222222,
             "#7201a8"
            ],
            [
             0.3333333333333333,
             "#9c179e"
            ],
            [
             0.4444444444444444,
             "#bd3786"
            ],
            [
             0.5555555555555556,
             "#d8576b"
            ],
            [
             0.6666666666666666,
             "#ed7953"
            ],
            [
             0.7777777777777778,
             "#fb9f3a"
            ],
            [
             0.8888888888888888,
             "#fdca26"
            ],
            [
             1,
             "#f0f921"
            ]
           ]
          },
          "colorway": [
           "#636efa",
           "#EF553B",
           "#00cc96",
           "#ab63fa",
           "#FFA15A",
           "#19d3f3",
           "#FF6692",
           "#B6E880",
           "#FF97FF",
           "#FECB52"
          ],
          "font": {
           "color": "#2a3f5f"
          },
          "geo": {
           "bgcolor": "white",
           "lakecolor": "white",
           "landcolor": "#E5ECF6",
           "showlakes": true,
           "showland": true,
           "subunitcolor": "white"
          },
          "hoverlabel": {
           "align": "left"
          },
          "hovermode": "closest",
          "mapbox": {
           "style": "light"
          },
          "paper_bgcolor": "white",
          "plot_bgcolor": "#E5ECF6",
          "polar": {
           "angularaxis": {
            "gridcolor": "white",
            "linecolor": "white",
            "ticks": ""
           },
           "bgcolor": "#E5ECF6",
           "radialaxis": {
            "gridcolor": "white",
            "linecolor": "white",
            "ticks": ""
           }
          },
          "scene": {
           "xaxis": {
            "backgroundcolor": "#E5ECF6",
            "gridcolor": "white",
            "gridwidth": 2,
            "linecolor": "white",
            "showbackground": true,
            "ticks": "",
            "zerolinecolor": "white"
           },
           "yaxis": {
            "backgroundcolor": "#E5ECF6",
            "gridcolor": "white",
            "gridwidth": 2,
            "linecolor": "white",
            "showbackground": true,
            "ticks": "",
            "zerolinecolor": "white"
           },
           "zaxis": {
            "backgroundcolor": "#E5ECF6",
            "gridcolor": "white",
            "gridwidth": 2,
            "linecolor": "white",
            "showbackground": true,
            "ticks": "",
            "zerolinecolor": "white"
           }
          },
          "shapedefaults": {
           "line": {
            "color": "#2a3f5f"
           }
          },
          "ternary": {
           "aaxis": {
            "gridcolor": "white",
            "linecolor": "white",
            "ticks": ""
           },
           "baxis": {
            "gridcolor": "white",
            "linecolor": "white",
            "ticks": ""
           },
           "bgcolor": "#E5ECF6",
           "caxis": {
            "gridcolor": "white",
            "linecolor": "white",
            "ticks": ""
           }
          },
          "title": {
           "x": 0.05
          },
          "xaxis": {
           "automargin": true,
           "gridcolor": "white",
           "linecolor": "white",
           "ticks": "",
           "title": {
            "standoff": 15
           },
           "zerolinecolor": "white",
           "zerolinewidth": 2
          },
          "yaxis": {
           "automargin": true,
           "gridcolor": "white",
           "linecolor": "white",
           "ticks": "",
           "title": {
            "standoff": 15
           },
           "zerolinecolor": "white",
           "zerolinewidth": 2
          }
         }
        },
        "title": {
         "font": {
          "color": "white",
          "family": "Proxima Nova",
          "size": 25
         },
         "pad": {
          "t": 30
         },
         "text": "<b>I am knowledgeable about healthy attachment in relationships.</b>",
         "y": 1,
         "yanchor": "top"
        },
        "width": 1000,
        "xaxis": {
         "domain": [
          0.08,
          1
         ],
         "dtick": 0.25,
         "gridcolor": "#151E27",
         "gridwidth": 0,
         "linecolor": "#151E27",
         "linewidth": 0,
         "showticklabels": false,
         "tick0": 0,
         "tickfont": {
          "color": "white",
          "family": "PT Sans",
          "size": 14
         },
         "tickformat": ",.0%",
         "tickmode": "linear",
         "zeroline": false
        },
        "yaxis": {
         "autorange": "reversed",
         "showticklabels": false
        }
       }
      }
     },
     "metadata": {},
     "output_type": "display_data"
    },
    {
     "data": {
      "application/vnd.plotly.v1+json": {
       "config": {
        "plotlyServerURL": "https://plot.ly"
       },
       "data": [
        {
         "marker": {
          "color": "rgb(158,34,162)",
          "line": {
           "color": "white",
           "width": 0
          }
         },
         "name": "Strongly Disagree",
         "orientation": "h",
         "showlegend": true,
         "type": "bar",
         "x": [
          0.4117647058823529
         ],
         "y": [
          "Watched"
         ]
        },
        {
         "marker": {
          "color": "rgb(158,34,162)",
          "line": {
           "color": "white",
           "width": 0
          }
         },
         "name": "Strongly Disagree",
         "orientation": "h",
         "showlegend": false,
         "type": "bar",
         "x": [
          0.5714285714285714
         ],
         "y": [
          "Not Watched"
         ]
        },
        {
         "marker": {
          "color": "rgb(198,156,234)",
          "line": {
           "color": "white",
           "width": 0
          }
         },
         "name": "Disagree",
         "orientation": "h",
         "showlegend": true,
         "type": "bar",
         "x": [
          0.29411764705882354
         ],
         "y": [
          "Watched"
         ]
        },
        {
         "marker": {
          "color": "rgb(198,156,234)",
          "line": {
           "color": "white",
           "width": 0
          }
         },
         "name": "Disagree",
         "orientation": "h",
         "showlegend": false,
         "type": "bar",
         "x": [
          0.10714285714285714
         ],
         "y": [
          "Not Watched"
         ]
        },
        {
         "marker": {
          "color": "rgb(200, 192, 234)",
          "line": {
           "color": "white",
           "width": 0
          }
         },
         "name": "Neutral",
         "orientation": "h",
         "showlegend": true,
         "type": "bar",
         "x": [
          0.17647058823529413
         ],
         "y": [
          "Watched"
         ]
        },
        {
         "marker": {
          "color": "rgb(200, 192, 234)",
          "line": {
           "color": "white",
           "width": 0
          }
         },
         "name": "Neutral",
         "orientation": "h",
         "showlegend": false,
         "type": "bar",
         "x": [
          0.25
         ],
         "y": [
          "Not Watched"
         ]
        },
        {
         "marker": {
          "color": "rgb(114,133,225)",
          "line": {
           "color": "white",
           "width": 0
          }
         },
         "name": "Agree",
         "orientation": "h",
         "showlegend": true,
         "type": "bar",
         "x": [
          0.029411764705882353
         ],
         "y": [
          "Watched"
         ]
        },
        {
         "marker": {
          "color": "rgb(114,133,225)",
          "line": {
           "color": "white",
           "width": 0
          }
         },
         "name": "Agree",
         "orientation": "h",
         "showlegend": false,
         "type": "bar",
         "x": [
          0.07142857142857142
         ],
         "y": [
          "Not Watched"
         ]
        },
        {
         "marker": {
          "color": "rgb(51, 51, 154)",
          "line": {
           "color": "white",
           "width": 0
          }
         },
         "name": "Strongly Agree",
         "orientation": "h",
         "showlegend": true,
         "type": "bar",
         "x": [
          0.08823529411764706
         ],
         "y": [
          "Watched"
         ]
        },
        {
         "marker": {
          "color": "rgb(51, 51, 154)",
          "line": {
           "color": "white",
           "width": 0
          }
         },
         "name": "Strongly Agree",
         "orientation": "h",
         "showlegend": false,
         "type": "bar",
         "x": [
          0
         ],
         "y": [
          "Not Watched"
         ]
        }
       ],
       "layout": {
        "annotations": [
         {
          "align": "right",
          "font": {
           "color": "white",
           "family": "PT Sans",
           "size": 18
          },
          "showarrow": false,
          "text": "Watched",
          "x": 0.065,
          "xanchor": "right",
          "xref": "paper",
          "y": "Watched",
          "yref": "y"
         },
         {
          "font": {
           "color": "rgb(255, 255, 255)",
           "family": "PT Sans",
           "size": 15
          },
          "showarrow": false,
          "text": "<b>41%</b>",
          "x": 0.20588235294117646,
          "xref": "x",
          "y": "Watched",
          "yref": "y"
         },
         {
          "font": {
           "color": "rgb(255, 255, 255)",
           "family": "PT Sans",
           "size": 15
          },
          "showarrow": false,
          "text": "<b>29%</b>",
          "x": 0.5588235294117647,
          "xref": "x",
          "y": "Watched",
          "yref": "y"
         },
         {
          "font": {
           "color": "rgb(255, 255, 255)",
           "family": "PT Sans",
           "size": 15
          },
          "showarrow": false,
          "text": "<b>18%</b>",
          "x": 0.7941176470588235,
          "xref": "x",
          "y": "Watched",
          "yref": "y"
         },
         {
          "font": {
           "color": "rgb(255, 255, 255)",
           "family": "PT Sans",
           "size": 15
          },
          "showarrow": false,
          "text": "<b>3%</b>",
          "x": 0.8970588235294117,
          "xref": "x",
          "y": "Watched",
          "yref": "y"
         },
         {
          "font": {
           "color": "rgb(255, 255, 255)",
           "family": "PT Sans",
           "size": 15
          },
          "showarrow": false,
          "text": "<b>9%</b>",
          "x": 0.9558823529411764,
          "xref": "x",
          "y": "Watched",
          "yref": "y"
         },
         {
          "align": "right",
          "font": {
           "color": "white",
           "family": "PT Sans",
           "size": 18
          },
          "showarrow": false,
          "text": "Not Watched",
          "x": 0.065,
          "xanchor": "right",
          "xref": "paper",
          "y": "Not Watched",
          "yref": "y"
         },
         {
          "font": {
           "color": "rgb(255, 255, 255)",
           "family": "PT Sans",
           "size": 15
          },
          "showarrow": false,
          "text": "<b>57%</b>",
          "x": 0.2857142857142857,
          "xref": "x",
          "y": "Not Watched",
          "yref": "y"
         },
         {
          "font": {
           "color": "rgb(255, 255, 255)",
           "family": "PT Sans",
           "size": 15
          },
          "showarrow": false,
          "text": "<b>11%</b>",
          "x": 0.625,
          "xref": "x",
          "y": "Not Watched",
          "yref": "y"
         },
         {
          "font": {
           "color": "rgb(255, 255, 255)",
           "family": "PT Sans",
           "size": 15
          },
          "showarrow": false,
          "text": "<b>25%</b>",
          "x": 0.8035714285714285,
          "xref": "x",
          "y": "Not Watched",
          "yref": "y"
         },
         {
          "font": {
           "color": "rgb(255, 255, 255)",
           "family": "PT Sans",
           "size": 15
          },
          "showarrow": false,
          "text": "<b>7%</b>",
          "x": 0.9642857142857142,
          "xref": "x",
          "y": "Not Watched",
          "yref": "y"
         }
        ],
        "bargap": 0.2,
        "barmode": "stack",
        "height": 320,
        "legend": {
         "bgcolor": "#151E27",
         "font": {
          "color": "white",
          "family": "PT Sans",
          "size": 16
         },
         "orientation": "h",
         "traceorder": "normal",
         "x": 0.96,
         "xanchor": "right",
         "y": 1,
         "yanchor": "bottom"
        },
        "margin": {
         "b": 50,
         "l": 90,
         "r": 10,
         "t": 130
        },
        "paper_bgcolor": "#151E27",
        "plot_bgcolor": "#151E27",
        "showlegend": true,
        "template": {
         "data": {
          "bar": [
           {
            "error_x": {
             "color": "#2a3f5f"
            },
            "error_y": {
             "color": "#2a3f5f"
            },
            "marker": {
             "line": {
              "color": "#E5ECF6",
              "width": 0.5
             },
             "pattern": {
              "fillmode": "overlay",
              "size": 10,
              "solidity": 0.2
             }
            },
            "type": "bar"
           }
          ],
          "barpolar": [
           {
            "marker": {
             "line": {
              "color": "#E5ECF6",
              "width": 0.5
             },
             "pattern": {
              "fillmode": "overlay",
              "size": 10,
              "solidity": 0.2
             }
            },
            "type": "barpolar"
           }
          ],
          "carpet": [
           {
            "aaxis": {
             "endlinecolor": "#2a3f5f",
             "gridcolor": "white",
             "linecolor": "white",
             "minorgridcolor": "white",
             "startlinecolor": "#2a3f5f"
            },
            "baxis": {
             "endlinecolor": "#2a3f5f",
             "gridcolor": "white",
             "linecolor": "white",
             "minorgridcolor": "white",
             "startlinecolor": "#2a3f5f"
            },
            "type": "carpet"
           }
          ],
          "choropleth": [
           {
            "colorbar": {
             "outlinewidth": 0,
             "ticks": ""
            },
            "type": "choropleth"
           }
          ],
          "contour": [
           {
            "colorbar": {
             "outlinewidth": 0,
             "ticks": ""
            },
            "colorscale": [
             [
              0,
              "#0d0887"
             ],
             [
              0.1111111111111111,
              "#46039f"
             ],
             [
              0.2222222222222222,
              "#7201a8"
             ],
             [
              0.3333333333333333,
              "#9c179e"
             ],
             [
              0.4444444444444444,
              "#bd3786"
             ],
             [
              0.5555555555555556,
              "#d8576b"
             ],
             [
              0.6666666666666666,
              "#ed7953"
             ],
             [
              0.7777777777777778,
              "#fb9f3a"
             ],
             [
              0.8888888888888888,
              "#fdca26"
             ],
             [
              1,
              "#f0f921"
             ]
            ],
            "type": "contour"
           }
          ],
          "contourcarpet": [
           {
            "colorbar": {
             "outlinewidth": 0,
             "ticks": ""
            },
            "type": "contourcarpet"
           }
          ],
          "heatmap": [
           {
            "colorbar": {
             "outlinewidth": 0,
             "ticks": ""
            },
            "colorscale": [
             [
              0,
              "#0d0887"
             ],
             [
              0.1111111111111111,
              "#46039f"
             ],
             [
              0.2222222222222222,
              "#7201a8"
             ],
             [
              0.3333333333333333,
              "#9c179e"
             ],
             [
              0.4444444444444444,
              "#bd3786"
             ],
             [
              0.5555555555555556,
              "#d8576b"
             ],
             [
              0.6666666666666666,
              "#ed7953"
             ],
             [
              0.7777777777777778,
              "#fb9f3a"
             ],
             [
              0.8888888888888888,
              "#fdca26"
             ],
             [
              1,
              "#f0f921"
             ]
            ],
            "type": "heatmap"
           }
          ],
          "heatmapgl": [
           {
            "colorbar": {
             "outlinewidth": 0,
             "ticks": ""
            },
            "colorscale": [
             [
              0,
              "#0d0887"
             ],
             [
              0.1111111111111111,
              "#46039f"
             ],
             [
              0.2222222222222222,
              "#7201a8"
             ],
             [
              0.3333333333333333,
              "#9c179e"
             ],
             [
              0.4444444444444444,
              "#bd3786"
             ],
             [
              0.5555555555555556,
              "#d8576b"
             ],
             [
              0.6666666666666666,
              "#ed7953"
             ],
             [
              0.7777777777777778,
              "#fb9f3a"
             ],
             [
              0.8888888888888888,
              "#fdca26"
             ],
             [
              1,
              "#f0f921"
             ]
            ],
            "type": "heatmapgl"
           }
          ],
          "histogram": [
           {
            "marker": {
             "pattern": {
              "fillmode": "overlay",
              "size": 10,
              "solidity": 0.2
             }
            },
            "type": "histogram"
           }
          ],
          "histogram2d": [
           {
            "colorbar": {
             "outlinewidth": 0,
             "ticks": ""
            },
            "colorscale": [
             [
              0,
              "#0d0887"
             ],
             [
              0.1111111111111111,
              "#46039f"
             ],
             [
              0.2222222222222222,
              "#7201a8"
             ],
             [
              0.3333333333333333,
              "#9c179e"
             ],
             [
              0.4444444444444444,
              "#bd3786"
             ],
             [
              0.5555555555555556,
              "#d8576b"
             ],
             [
              0.6666666666666666,
              "#ed7953"
             ],
             [
              0.7777777777777778,
              "#fb9f3a"
             ],
             [
              0.8888888888888888,
              "#fdca26"
             ],
             [
              1,
              "#f0f921"
             ]
            ],
            "type": "histogram2d"
           }
          ],
          "histogram2dcontour": [
           {
            "colorbar": {
             "outlinewidth": 0,
             "ticks": ""
            },
            "colorscale": [
             [
              0,
              "#0d0887"
             ],
             [
              0.1111111111111111,
              "#46039f"
             ],
             [
              0.2222222222222222,
              "#7201a8"
             ],
             [
              0.3333333333333333,
              "#9c179e"
             ],
             [
              0.4444444444444444,
              "#bd3786"
             ],
             [
              0.5555555555555556,
              "#d8576b"
             ],
             [
              0.6666666666666666,
              "#ed7953"
             ],
             [
              0.7777777777777778,
              "#fb9f3a"
             ],
             [
              0.8888888888888888,
              "#fdca26"
             ],
             [
              1,
              "#f0f921"
             ]
            ],
            "type": "histogram2dcontour"
           }
          ],
          "mesh3d": [
           {
            "colorbar": {
             "outlinewidth": 0,
             "ticks": ""
            },
            "type": "mesh3d"
           }
          ],
          "parcoords": [
           {
            "line": {
             "colorbar": {
              "outlinewidth": 0,
              "ticks": ""
             }
            },
            "type": "parcoords"
           }
          ],
          "pie": [
           {
            "automargin": true,
            "type": "pie"
           }
          ],
          "scatter": [
           {
            "fillpattern": {
             "fillmode": "overlay",
             "size": 10,
             "solidity": 0.2
            },
            "type": "scatter"
           }
          ],
          "scatter3d": [
           {
            "line": {
             "colorbar": {
              "outlinewidth": 0,
              "ticks": ""
             }
            },
            "marker": {
             "colorbar": {
              "outlinewidth": 0,
              "ticks": ""
             }
            },
            "type": "scatter3d"
           }
          ],
          "scattercarpet": [
           {
            "marker": {
             "colorbar": {
              "outlinewidth": 0,
              "ticks": ""
             }
            },
            "type": "scattercarpet"
           }
          ],
          "scattergeo": [
           {
            "marker": {
             "colorbar": {
              "outlinewidth": 0,
              "ticks": ""
             }
            },
            "type": "scattergeo"
           }
          ],
          "scattergl": [
           {
            "marker": {
             "colorbar": {
              "outlinewidth": 0,
              "ticks": ""
             }
            },
            "type": "scattergl"
           }
          ],
          "scattermapbox": [
           {
            "marker": {
             "colorbar": {
              "outlinewidth": 0,
              "ticks": ""
             }
            },
            "type": "scattermapbox"
           }
          ],
          "scatterpolar": [
           {
            "marker": {
             "colorbar": {
              "outlinewidth": 0,
              "ticks": ""
             }
            },
            "type": "scatterpolar"
           }
          ],
          "scatterpolargl": [
           {
            "marker": {
             "colorbar": {
              "outlinewidth": 0,
              "ticks": ""
             }
            },
            "type": "scatterpolargl"
           }
          ],
          "scatterternary": [
           {
            "marker": {
             "colorbar": {
              "outlinewidth": 0,
              "ticks": ""
             }
            },
            "type": "scatterternary"
           }
          ],
          "surface": [
           {
            "colorbar": {
             "outlinewidth": 0,
             "ticks": ""
            },
            "colorscale": [
             [
              0,
              "#0d0887"
             ],
             [
              0.1111111111111111,
              "#46039f"
             ],
             [
              0.2222222222222222,
              "#7201a8"
             ],
             [
              0.3333333333333333,
              "#9c179e"
             ],
             [
              0.4444444444444444,
              "#bd3786"
             ],
             [
              0.5555555555555556,
              "#d8576b"
             ],
             [
              0.6666666666666666,
              "#ed7953"
             ],
             [
              0.7777777777777778,
              "#fb9f3a"
             ],
             [
              0.8888888888888888,
              "#fdca26"
             ],
             [
              1,
              "#f0f921"
             ]
            ],
            "type": "surface"
           }
          ],
          "table": [
           {
            "cells": {
             "fill": {
              "color": "#EBF0F8"
             },
             "line": {
              "color": "white"
             }
            },
            "header": {
             "fill": {
              "color": "#C8D4E3"
             },
             "line": {
              "color": "white"
             }
            },
            "type": "table"
           }
          ]
         },
         "layout": {
          "annotationdefaults": {
           "arrowcolor": "#2a3f5f",
           "arrowhead": 0,
           "arrowwidth": 1
          },
          "autotypenumbers": "strict",
          "coloraxis": {
           "colorbar": {
            "outlinewidth": 0,
            "ticks": ""
           }
          },
          "colorscale": {
           "diverging": [
            [
             0,
             "#8e0152"
            ],
            [
             0.1,
             "#c51b7d"
            ],
            [
             0.2,
             "#de77ae"
            ],
            [
             0.3,
             "#f1b6da"
            ],
            [
             0.4,
             "#fde0ef"
            ],
            [
             0.5,
             "#f7f7f7"
            ],
            [
             0.6,
             "#e6f5d0"
            ],
            [
             0.7,
             "#b8e186"
            ],
            [
             0.8,
             "#7fbc41"
            ],
            [
             0.9,
             "#4d9221"
            ],
            [
             1,
             "#276419"
            ]
           ],
           "sequential": [
            [
             0,
             "#0d0887"
            ],
            [
             0.1111111111111111,
             "#46039f"
            ],
            [
             0.2222222222222222,
             "#7201a8"
            ],
            [
             0.3333333333333333,
             "#9c179e"
            ],
            [
             0.4444444444444444,
             "#bd3786"
            ],
            [
             0.5555555555555556,
             "#d8576b"
            ],
            [
             0.6666666666666666,
             "#ed7953"
            ],
            [
             0.7777777777777778,
             "#fb9f3a"
            ],
            [
             0.8888888888888888,
             "#fdca26"
            ],
            [
             1,
             "#f0f921"
            ]
           ],
           "sequentialminus": [
            [
             0,
             "#0d0887"
            ],
            [
             0.1111111111111111,
             "#46039f"
            ],
            [
             0.2222222222222222,
             "#7201a8"
            ],
            [
             0.3333333333333333,
             "#9c179e"
            ],
            [
             0.4444444444444444,
             "#bd3786"
            ],
            [
             0.5555555555555556,
             "#d8576b"
            ],
            [
             0.6666666666666666,
             "#ed7953"
            ],
            [
             0.7777777777777778,
             "#fb9f3a"
            ],
            [
             0.8888888888888888,
             "#fdca26"
            ],
            [
             1,
             "#f0f921"
            ]
           ]
          },
          "colorway": [
           "#636efa",
           "#EF553B",
           "#00cc96",
           "#ab63fa",
           "#FFA15A",
           "#19d3f3",
           "#FF6692",
           "#B6E880",
           "#FF97FF",
           "#FECB52"
          ],
          "font": {
           "color": "#2a3f5f"
          },
          "geo": {
           "bgcolor": "white",
           "lakecolor": "white",
           "landcolor": "#E5ECF6",
           "showlakes": true,
           "showland": true,
           "subunitcolor": "white"
          },
          "hoverlabel": {
           "align": "left"
          },
          "hovermode": "closest",
          "mapbox": {
           "style": "light"
          },
          "paper_bgcolor": "white",
          "plot_bgcolor": "#E5ECF6",
          "polar": {
           "angularaxis": {
            "gridcolor": "white",
            "linecolor": "white",
            "ticks": ""
           },
           "bgcolor": "#E5ECF6",
           "radialaxis": {
            "gridcolor": "white",
            "linecolor": "white",
            "ticks": ""
           }
          },
          "scene": {
           "xaxis": {
            "backgroundcolor": "#E5ECF6",
            "gridcolor": "white",
            "gridwidth": 2,
            "linecolor": "white",
            "showbackground": true,
            "ticks": "",
            "zerolinecolor": "white"
           },
           "yaxis": {
            "backgroundcolor": "#E5ECF6",
            "gridcolor": "white",
            "gridwidth": 2,
            "linecolor": "white",
            "showbackground": true,
            "ticks": "",
            "zerolinecolor": "white"
           },
           "zaxis": {
            "backgroundcolor": "#E5ECF6",
            "gridcolor": "white",
            "gridwidth": 2,
            "linecolor": "white",
            "showbackground": true,
            "ticks": "",
            "zerolinecolor": "white"
           }
          },
          "shapedefaults": {
           "line": {
            "color": "#2a3f5f"
           }
          },
          "ternary": {
           "aaxis": {
            "gridcolor": "white",
            "linecolor": "white",
            "ticks": ""
           },
           "baxis": {
            "gridcolor": "white",
            "linecolor": "white",
            "ticks": ""
           },
           "bgcolor": "#E5ECF6",
           "caxis": {
            "gridcolor": "white",
            "linecolor": "white",
            "ticks": ""
           }
          },
          "title": {
           "x": 0.05
          },
          "xaxis": {
           "automargin": true,
           "gridcolor": "white",
           "linecolor": "white",
           "ticks": "",
           "title": {
            "standoff": 15
           },
           "zerolinecolor": "white",
           "zerolinewidth": 2
          },
          "yaxis": {
           "automargin": true,
           "gridcolor": "white",
           "linecolor": "white",
           "ticks": "",
           "title": {
            "standoff": 15
           },
           "zerolinecolor": "white",
           "zerolinewidth": 2
          }
         }
        },
        "title": {
         "font": {
          "color": "white",
          "family": "Proxima Nova",
          "size": 25
         },
         "pad": {
          "t": 50
         },
         "text": "<b>I am more inclined to overlook dating violence if the other party’s physical <br>appearance is attractive.</b>",
         "y": 1,
         "yanchor": "top"
        },
        "width": 1000,
        "xaxis": {
         "domain": [
          0.08,
          1
         ],
         "dtick": 0.25,
         "gridcolor": "#151E27",
         "gridwidth": 0,
         "linecolor": "#151E27",
         "linewidth": 0,
         "showticklabels": false,
         "tick0": 0,
         "tickfont": {
          "color": "white",
          "family": "PT Sans",
          "size": 14
         },
         "tickformat": ",.0%",
         "tickmode": "linear",
         "zeroline": false
        },
        "yaxis": {
         "autorange": "reversed",
         "showticklabels": false
        }
       }
      }
     },
     "metadata": {},
     "output_type": "display_data"
    },
    {
     "data": {
      "application/vnd.plotly.v1+json": {
       "config": {
        "plotlyServerURL": "https://plot.ly"
       },
       "data": [
        {
         "marker": {
          "color": "rgb(158,34,162)",
          "line": {
           "color": "white",
           "width": 0
          }
         },
         "name": "Strongly Disagree",
         "orientation": "h",
         "showlegend": true,
         "type": "bar",
         "x": [
          0
         ],
         "y": [
          "Watched"
         ]
        },
        {
         "marker": {
          "color": "rgb(158,34,162)",
          "line": {
           "color": "white",
           "width": 0
          }
         },
         "name": "Strongly Disagree",
         "orientation": "h",
         "showlegend": false,
         "type": "bar",
         "x": [
          0
         ],
         "y": [
          "Not Watched"
         ]
        },
        {
         "marker": {
          "color": "rgb(198,156,234)",
          "line": {
           "color": "white",
           "width": 0
          }
         },
         "name": "Disagree",
         "orientation": "h",
         "showlegend": true,
         "type": "bar",
         "x": [
          0.08823529411764706
         ],
         "y": [
          "Watched"
         ]
        },
        {
         "marker": {
          "color": "rgb(198,156,234)",
          "line": {
           "color": "white",
           "width": 0
          }
         },
         "name": "Disagree",
         "orientation": "h",
         "showlegend": false,
         "type": "bar",
         "x": [
          0.07142857142857142
         ],
         "y": [
          "Not Watched"
         ]
        },
        {
         "marker": {
          "color": "rgb(200, 192, 234)",
          "line": {
           "color": "white",
           "width": 0
          }
         },
         "name": "Neutral",
         "orientation": "h",
         "showlegend": true,
         "type": "bar",
         "x": [
          0.08823529411764706
         ],
         "y": [
          "Watched"
         ]
        },
        {
         "marker": {
          "color": "rgb(200, 192, 234)",
          "line": {
           "color": "white",
           "width": 0
          }
         },
         "name": "Neutral",
         "orientation": "h",
         "showlegend": false,
         "type": "bar",
         "x": [
          0.21428571428571427
         ],
         "y": [
          "Not Watched"
         ]
        },
        {
         "marker": {
          "color": "rgb(114,133,225)",
          "line": {
           "color": "white",
           "width": 0
          }
         },
         "name": "Agree",
         "orientation": "h",
         "showlegend": true,
         "type": "bar",
         "x": [
          0.38235294117647056
         ],
         "y": [
          "Watched"
         ]
        },
        {
         "marker": {
          "color": "rgb(114,133,225)",
          "line": {
           "color": "white",
           "width": 0
          }
         },
         "name": "Agree",
         "orientation": "h",
         "showlegend": false,
         "type": "bar",
         "x": [
          0.39285714285714285
         ],
         "y": [
          "Not Watched"
         ]
        },
        {
         "marker": {
          "color": "rgb(51, 51, 154)",
          "line": {
           "color": "white",
           "width": 0
          }
         },
         "name": "Strongly Agree",
         "orientation": "h",
         "showlegend": true,
         "type": "bar",
         "x": [
          0.4411764705882353
         ],
         "y": [
          "Watched"
         ]
        },
        {
         "marker": {
          "color": "rgb(51, 51, 154)",
          "line": {
           "color": "white",
           "width": 0
          }
         },
         "name": "Strongly Agree",
         "orientation": "h",
         "showlegend": false,
         "type": "bar",
         "x": [
          0.32142857142857145
         ],
         "y": [
          "Not Watched"
         ]
        }
       ],
       "layout": {
        "annotations": [
         {
          "align": "right",
          "font": {
           "color": "white",
           "family": "PT Sans",
           "size": 18
          },
          "showarrow": false,
          "text": "Watched",
          "x": 0.065,
          "xanchor": "right",
          "xref": "paper",
          "y": "Watched",
          "yref": "y"
         },
         {
          "font": {
           "color": "rgb(255, 255, 255)",
           "family": "PT Sans",
           "size": 15
          },
          "showarrow": false,
          "text": "<b>9%</b>",
          "x": 0.04411764705882353,
          "xref": "x",
          "y": "Watched",
          "yref": "y"
         },
         {
          "font": {
           "color": "rgb(255, 255, 255)",
           "family": "PT Sans",
           "size": 15
          },
          "showarrow": false,
          "text": "<b>9%</b>",
          "x": 0.1323529411764706,
          "xref": "x",
          "y": "Watched",
          "yref": "y"
         },
         {
          "font": {
           "color": "rgb(255, 255, 255)",
           "family": "PT Sans",
           "size": 15
          },
          "showarrow": false,
          "text": "<b>38%</b>",
          "x": 0.36764705882352944,
          "xref": "x",
          "y": "Watched",
          "yref": "y"
         },
         {
          "font": {
           "color": "rgb(255, 255, 255)",
           "family": "PT Sans",
           "size": 15
          },
          "showarrow": false,
          "text": "<b>44%</b>",
          "x": 0.7794117647058824,
          "xref": "x",
          "y": "Watched",
          "yref": "y"
         },
         {
          "align": "right",
          "font": {
           "color": "white",
           "family": "PT Sans",
           "size": 18
          },
          "showarrow": false,
          "text": "Not Watched",
          "x": 0.065,
          "xanchor": "right",
          "xref": "paper",
          "y": "Not Watched",
          "yref": "y"
         },
         {
          "font": {
           "color": "rgb(255, 255, 255)",
           "family": "PT Sans",
           "size": 15
          },
          "showarrow": false,
          "text": "<b>7%</b>",
          "x": 0.03571428571428571,
          "xref": "x",
          "y": "Not Watched",
          "yref": "y"
         },
         {
          "font": {
           "color": "rgb(255, 255, 255)",
           "family": "PT Sans",
           "size": 15
          },
          "showarrow": false,
          "text": "<b>21%</b>",
          "x": 0.17857142857142855,
          "xref": "x",
          "y": "Not Watched",
          "yref": "y"
         },
         {
          "font": {
           "color": "rgb(255, 255, 255)",
           "family": "PT Sans",
           "size": 15
          },
          "showarrow": false,
          "text": "<b>39%</b>",
          "x": 0.4821428571428571,
          "xref": "x",
          "y": "Not Watched",
          "yref": "y"
         },
         {
          "font": {
           "color": "rgb(255, 255, 255)",
           "family": "PT Sans",
           "size": 15
          },
          "showarrow": false,
          "text": "<b>32%</b>",
          "x": 0.8392857142857143,
          "xref": "x",
          "y": "Not Watched",
          "yref": "y"
         }
        ],
        "bargap": 0.2,
        "barmode": "stack",
        "height": 320,
        "legend": {
         "bgcolor": "#151E27",
         "font": {
          "color": "white",
          "family": "PT Sans",
          "size": 16
         },
         "orientation": "h",
         "traceorder": "normal",
         "x": 0.96,
         "xanchor": "right",
         "y": 1,
         "yanchor": "bottom"
        },
        "margin": {
         "b": 50,
         "l": 90,
         "r": 10,
         "t": 100
        },
        "paper_bgcolor": "#151E27",
        "plot_bgcolor": "#151E27",
        "showlegend": true,
        "template": {
         "data": {
          "bar": [
           {
            "error_x": {
             "color": "#2a3f5f"
            },
            "error_y": {
             "color": "#2a3f5f"
            },
            "marker": {
             "line": {
              "color": "#E5ECF6",
              "width": 0.5
             },
             "pattern": {
              "fillmode": "overlay",
              "size": 10,
              "solidity": 0.2
             }
            },
            "type": "bar"
           }
          ],
          "barpolar": [
           {
            "marker": {
             "line": {
              "color": "#E5ECF6",
              "width": 0.5
             },
             "pattern": {
              "fillmode": "overlay",
              "size": 10,
              "solidity": 0.2
             }
            },
            "type": "barpolar"
           }
          ],
          "carpet": [
           {
            "aaxis": {
             "endlinecolor": "#2a3f5f",
             "gridcolor": "white",
             "linecolor": "white",
             "minorgridcolor": "white",
             "startlinecolor": "#2a3f5f"
            },
            "baxis": {
             "endlinecolor": "#2a3f5f",
             "gridcolor": "white",
             "linecolor": "white",
             "minorgridcolor": "white",
             "startlinecolor": "#2a3f5f"
            },
            "type": "carpet"
           }
          ],
          "choropleth": [
           {
            "colorbar": {
             "outlinewidth": 0,
             "ticks": ""
            },
            "type": "choropleth"
           }
          ],
          "contour": [
           {
            "colorbar": {
             "outlinewidth": 0,
             "ticks": ""
            },
            "colorscale": [
             [
              0,
              "#0d0887"
             ],
             [
              0.1111111111111111,
              "#46039f"
             ],
             [
              0.2222222222222222,
              "#7201a8"
             ],
             [
              0.3333333333333333,
              "#9c179e"
             ],
             [
              0.4444444444444444,
              "#bd3786"
             ],
             [
              0.5555555555555556,
              "#d8576b"
             ],
             [
              0.6666666666666666,
              "#ed7953"
             ],
             [
              0.7777777777777778,
              "#fb9f3a"
             ],
             [
              0.8888888888888888,
              "#fdca26"
             ],
             [
              1,
              "#f0f921"
             ]
            ],
            "type": "contour"
           }
          ],
          "contourcarpet": [
           {
            "colorbar": {
             "outlinewidth": 0,
             "ticks": ""
            },
            "type": "contourcarpet"
           }
          ],
          "heatmap": [
           {
            "colorbar": {
             "outlinewidth": 0,
             "ticks": ""
            },
            "colorscale": [
             [
              0,
              "#0d0887"
             ],
             [
              0.1111111111111111,
              "#46039f"
             ],
             [
              0.2222222222222222,
              "#7201a8"
             ],
             [
              0.3333333333333333,
              "#9c179e"
             ],
             [
              0.4444444444444444,
              "#bd3786"
             ],
             [
              0.5555555555555556,
              "#d8576b"
             ],
             [
              0.6666666666666666,
              "#ed7953"
             ],
             [
              0.7777777777777778,
              "#fb9f3a"
             ],
             [
              0.8888888888888888,
              "#fdca26"
             ],
             [
              1,
              "#f0f921"
             ]
            ],
            "type": "heatmap"
           }
          ],
          "heatmapgl": [
           {
            "colorbar": {
             "outlinewidth": 0,
             "ticks": ""
            },
            "colorscale": [
             [
              0,
              "#0d0887"
             ],
             [
              0.1111111111111111,
              "#46039f"
             ],
             [
              0.2222222222222222,
              "#7201a8"
             ],
             [
              0.3333333333333333,
              "#9c179e"
             ],
             [
              0.4444444444444444,
              "#bd3786"
             ],
             [
              0.5555555555555556,
              "#d8576b"
             ],
             [
              0.6666666666666666,
              "#ed7953"
             ],
             [
              0.7777777777777778,
              "#fb9f3a"
             ],
             [
              0.8888888888888888,
              "#fdca26"
             ],
             [
              1,
              "#f0f921"
             ]
            ],
            "type": "heatmapgl"
           }
          ],
          "histogram": [
           {
            "marker": {
             "pattern": {
              "fillmode": "overlay",
              "size": 10,
              "solidity": 0.2
             }
            },
            "type": "histogram"
           }
          ],
          "histogram2d": [
           {
            "colorbar": {
             "outlinewidth": 0,
             "ticks": ""
            },
            "colorscale": [
             [
              0,
              "#0d0887"
             ],
             [
              0.1111111111111111,
              "#46039f"
             ],
             [
              0.2222222222222222,
              "#7201a8"
             ],
             [
              0.3333333333333333,
              "#9c179e"
             ],
             [
              0.4444444444444444,
              "#bd3786"
             ],
             [
              0.5555555555555556,
              "#d8576b"
             ],
             [
              0.6666666666666666,
              "#ed7953"
             ],
             [
              0.7777777777777778,
              "#fb9f3a"
             ],
             [
              0.8888888888888888,
              "#fdca26"
             ],
             [
              1,
              "#f0f921"
             ]
            ],
            "type": "histogram2d"
           }
          ],
          "histogram2dcontour": [
           {
            "colorbar": {
             "outlinewidth": 0,
             "ticks": ""
            },
            "colorscale": [
             [
              0,
              "#0d0887"
             ],
             [
              0.1111111111111111,
              "#46039f"
             ],
             [
              0.2222222222222222,
              "#7201a8"
             ],
             [
              0.3333333333333333,
              "#9c179e"
             ],
             [
              0.4444444444444444,
              "#bd3786"
             ],
             [
              0.5555555555555556,
              "#d8576b"
             ],
             [
              0.6666666666666666,
              "#ed7953"
             ],
             [
              0.7777777777777778,
              "#fb9f3a"
             ],
             [
              0.8888888888888888,
              "#fdca26"
             ],
             [
              1,
              "#f0f921"
             ]
            ],
            "type": "histogram2dcontour"
           }
          ],
          "mesh3d": [
           {
            "colorbar": {
             "outlinewidth": 0,
             "ticks": ""
            },
            "type": "mesh3d"
           }
          ],
          "parcoords": [
           {
            "line": {
             "colorbar": {
              "outlinewidth": 0,
              "ticks": ""
             }
            },
            "type": "parcoords"
           }
          ],
          "pie": [
           {
            "automargin": true,
            "type": "pie"
           }
          ],
          "scatter": [
           {
            "fillpattern": {
             "fillmode": "overlay",
             "size": 10,
             "solidity": 0.2
            },
            "type": "scatter"
           }
          ],
          "scatter3d": [
           {
            "line": {
             "colorbar": {
              "outlinewidth": 0,
              "ticks": ""
             }
            },
            "marker": {
             "colorbar": {
              "outlinewidth": 0,
              "ticks": ""
             }
            },
            "type": "scatter3d"
           }
          ],
          "scattercarpet": [
           {
            "marker": {
             "colorbar": {
              "outlinewidth": 0,
              "ticks": ""
             }
            },
            "type": "scattercarpet"
           }
          ],
          "scattergeo": [
           {
            "marker": {
             "colorbar": {
              "outlinewidth": 0,
              "ticks": ""
             }
            },
            "type": "scattergeo"
           }
          ],
          "scattergl": [
           {
            "marker": {
             "colorbar": {
              "outlinewidth": 0,
              "ticks": ""
             }
            },
            "type": "scattergl"
           }
          ],
          "scattermapbox": [
           {
            "marker": {
             "colorbar": {
              "outlinewidth": 0,
              "ticks": ""
             }
            },
            "type": "scattermapbox"
           }
          ],
          "scatterpolar": [
           {
            "marker": {
             "colorbar": {
              "outlinewidth": 0,
              "ticks": ""
             }
            },
            "type": "scatterpolar"
           }
          ],
          "scatterpolargl": [
           {
            "marker": {
             "colorbar": {
              "outlinewidth": 0,
              "ticks": ""
             }
            },
            "type": "scatterpolargl"
           }
          ],
          "scatterternary": [
           {
            "marker": {
             "colorbar": {
              "outlinewidth": 0,
              "ticks": ""
             }
            },
            "type": "scatterternary"
           }
          ],
          "surface": [
           {
            "colorbar": {
             "outlinewidth": 0,
             "ticks": ""
            },
            "colorscale": [
             [
              0,
              "#0d0887"
             ],
             [
              0.1111111111111111,
              "#46039f"
             ],
             [
              0.2222222222222222,
              "#7201a8"
             ],
             [
              0.3333333333333333,
              "#9c179e"
             ],
             [
              0.4444444444444444,
              "#bd3786"
             ],
             [
              0.5555555555555556,
              "#d8576b"
             ],
             [
              0.6666666666666666,
              "#ed7953"
             ],
             [
              0.7777777777777778,
              "#fb9f3a"
             ],
             [
              0.8888888888888888,
              "#fdca26"
             ],
             [
              1,
              "#f0f921"
             ]
            ],
            "type": "surface"
           }
          ],
          "table": [
           {
            "cells": {
             "fill": {
              "color": "#EBF0F8"
             },
             "line": {
              "color": "white"
             }
            },
            "header": {
             "fill": {
              "color": "#C8D4E3"
             },
             "line": {
              "color": "white"
             }
            },
            "type": "table"
           }
          ]
         },
         "layout": {
          "annotationdefaults": {
           "arrowcolor": "#2a3f5f",
           "arrowhead": 0,
           "arrowwidth": 1
          },
          "autotypenumbers": "strict",
          "coloraxis": {
           "colorbar": {
            "outlinewidth": 0,
            "ticks": ""
           }
          },
          "colorscale": {
           "diverging": [
            [
             0,
             "#8e0152"
            ],
            [
             0.1,
             "#c51b7d"
            ],
            [
             0.2,
             "#de77ae"
            ],
            [
             0.3,
             "#f1b6da"
            ],
            [
             0.4,
             "#fde0ef"
            ],
            [
             0.5,
             "#f7f7f7"
            ],
            [
             0.6,
             "#e6f5d0"
            ],
            [
             0.7,
             "#b8e186"
            ],
            [
             0.8,
             "#7fbc41"
            ],
            [
             0.9,
             "#4d9221"
            ],
            [
             1,
             "#276419"
            ]
           ],
           "sequential": [
            [
             0,
             "#0d0887"
            ],
            [
             0.1111111111111111,
             "#46039f"
            ],
            [
             0.2222222222222222,
             "#7201a8"
            ],
            [
             0.3333333333333333,
             "#9c179e"
            ],
            [
             0.4444444444444444,
             "#bd3786"
            ],
            [
             0.5555555555555556,
             "#d8576b"
            ],
            [
             0.6666666666666666,
             "#ed7953"
            ],
            [
             0.7777777777777778,
             "#fb9f3a"
            ],
            [
             0.8888888888888888,
             "#fdca26"
            ],
            [
             1,
             "#f0f921"
            ]
           ],
           "sequentialminus": [
            [
             0,
             "#0d0887"
            ],
            [
             0.1111111111111111,
             "#46039f"
            ],
            [
             0.2222222222222222,
             "#7201a8"
            ],
            [
             0.3333333333333333,
             "#9c179e"
            ],
            [
             0.4444444444444444,
             "#bd3786"
            ],
            [
             0.5555555555555556,
             "#d8576b"
            ],
            [
             0.6666666666666666,
             "#ed7953"
            ],
            [
             0.7777777777777778,
             "#fb9f3a"
            ],
            [
             0.8888888888888888,
             "#fdca26"
            ],
            [
             1,
             "#f0f921"
            ]
           ]
          },
          "colorway": [
           "#636efa",
           "#EF553B",
           "#00cc96",
           "#ab63fa",
           "#FFA15A",
           "#19d3f3",
           "#FF6692",
           "#B6E880",
           "#FF97FF",
           "#FECB52"
          ],
          "font": {
           "color": "#2a3f5f"
          },
          "geo": {
           "bgcolor": "white",
           "lakecolor": "white",
           "landcolor": "#E5ECF6",
           "showlakes": true,
           "showland": true,
           "subunitcolor": "white"
          },
          "hoverlabel": {
           "align": "left"
          },
          "hovermode": "closest",
          "mapbox": {
           "style": "light"
          },
          "paper_bgcolor": "white",
          "plot_bgcolor": "#E5ECF6",
          "polar": {
           "angularaxis": {
            "gridcolor": "white",
            "linecolor": "white",
            "ticks": ""
           },
           "bgcolor": "#E5ECF6",
           "radialaxis": {
            "gridcolor": "white",
            "linecolor": "white",
            "ticks": ""
           }
          },
          "scene": {
           "xaxis": {
            "backgroundcolor": "#E5ECF6",
            "gridcolor": "white",
            "gridwidth": 2,
            "linecolor": "white",
            "showbackground": true,
            "ticks": "",
            "zerolinecolor": "white"
           },
           "yaxis": {
            "backgroundcolor": "#E5ECF6",
            "gridcolor": "white",
            "gridwidth": 2,
            "linecolor": "white",
            "showbackground": true,
            "ticks": "",
            "zerolinecolor": "white"
           },
           "zaxis": {
            "backgroundcolor": "#E5ECF6",
            "gridcolor": "white",
            "gridwidth": 2,
            "linecolor": "white",
            "showbackground": true,
            "ticks": "",
            "zerolinecolor": "white"
           }
          },
          "shapedefaults": {
           "line": {
            "color": "#2a3f5f"
           }
          },
          "ternary": {
           "aaxis": {
            "gridcolor": "white",
            "linecolor": "white",
            "ticks": ""
           },
           "baxis": {
            "gridcolor": "white",
            "linecolor": "white",
            "ticks": ""
           },
           "bgcolor": "#E5ECF6",
           "caxis": {
            "gridcolor": "white",
            "linecolor": "white",
            "ticks": ""
           }
          },
          "title": {
           "x": 0.05
          },
          "xaxis": {
           "automargin": true,
           "gridcolor": "white",
           "linecolor": "white",
           "ticks": "",
           "title": {
            "standoff": 15
           },
           "zerolinecolor": "white",
           "zerolinewidth": 2
          },
          "yaxis": {
           "automargin": true,
           "gridcolor": "white",
           "linecolor": "white",
           "ticks": "",
           "title": {
            "standoff": 15
           },
           "zerolinecolor": "white",
           "zerolinewidth": 2
          }
         }
        },
        "title": {
         "font": {
          "color": "white",
          "family": "Proxima Nova",
          "size": 25
         },
         "pad": {
          "t": 30
         },
         "text": "<b>I am aware of the signs of an abusive relationship.</b>",
         "y": 1,
         "yanchor": "top"
        },
        "width": 1000,
        "xaxis": {
         "domain": [
          0.08,
          1
         ],
         "dtick": 0.25,
         "gridcolor": "#151E27",
         "gridwidth": 0,
         "linecolor": "#151E27",
         "linewidth": 0,
         "showticklabels": false,
         "tick0": 0,
         "tickfont": {
          "color": "white",
          "family": "PT Sans",
          "size": 14
         },
         "tickformat": ",.0%",
         "tickmode": "linear",
         "zeroline": false
        },
        "yaxis": {
         "autorange": "reversed",
         "showticklabels": false
        }
       }
      }
     },
     "metadata": {},
     "output_type": "display_data"
    },
    {
     "data": {
      "application/vnd.plotly.v1+json": {
       "config": {
        "plotlyServerURL": "https://plot.ly"
       },
       "data": [
        {
         "marker": {
          "color": "rgb(158,34,162)",
          "line": {
           "color": "white",
           "width": 0
          }
         },
         "name": "Strongly Disagree",
         "orientation": "h",
         "showlegend": true,
         "type": "bar",
         "x": [
          0.8823529411764706
         ],
         "y": [
          "Watched"
         ]
        },
        {
         "marker": {
          "color": "rgb(158,34,162)",
          "line": {
           "color": "white",
           "width": 0
          }
         },
         "name": "Strongly Disagree",
         "orientation": "h",
         "showlegend": false,
         "type": "bar",
         "x": [
          0.7142857142857143
         ],
         "y": [
          "Not Watched"
         ]
        },
        {
         "marker": {
          "color": "rgb(198,156,234)",
          "line": {
           "color": "white",
           "width": 0
          }
         },
         "name": "Disagree",
         "orientation": "h",
         "showlegend": true,
         "type": "bar",
         "x": [
          0.08823529411764706
         ],
         "y": [
          "Watched"
         ]
        },
        {
         "marker": {
          "color": "rgb(198,156,234)",
          "line": {
           "color": "white",
           "width": 0
          }
         },
         "name": "Disagree",
         "orientation": "h",
         "showlegend": false,
         "type": "bar",
         "x": [
          0.21428571428571427
         ],
         "y": [
          "Not Watched"
         ]
        },
        {
         "marker": {
          "color": "rgb(200, 192, 234)",
          "line": {
           "color": "white",
           "width": 0
          }
         },
         "name": "Neutral",
         "orientation": "h",
         "showlegend": true,
         "type": "bar",
         "x": [
          0
         ],
         "y": [
          "Watched"
         ]
        },
        {
         "marker": {
          "color": "rgb(200, 192, 234)",
          "line": {
           "color": "white",
           "width": 0
          }
         },
         "name": "Neutral",
         "orientation": "h",
         "showlegend": false,
         "type": "bar",
         "x": [
          0.03571428571428571
         ],
         "y": [
          "Not Watched"
         ]
        },
        {
         "marker": {
          "color": "rgb(114,133,225)",
          "line": {
           "color": "white",
           "width": 0
          }
         },
         "name": "Agree",
         "orientation": "h",
         "showlegend": true,
         "type": "bar",
         "x": [
          0
         ],
         "y": [
          "Watched"
         ]
        },
        {
         "marker": {
          "color": "rgb(114,133,225)",
          "line": {
           "color": "white",
           "width": 0
          }
         },
         "name": "Agree",
         "orientation": "h",
         "showlegend": false,
         "type": "bar",
         "x": [
          0.03571428571428571
         ],
         "y": [
          "Not Watched"
         ]
        },
        {
         "marker": {
          "color": "rgb(51, 51, 154)",
          "line": {
           "color": "white",
           "width": 0
          }
         },
         "name": "Strongly Agree",
         "orientation": "h",
         "showlegend": true,
         "type": "bar",
         "x": [
          0.029411764705882353
         ],
         "y": [
          "Watched"
         ]
        },
        {
         "marker": {
          "color": "rgb(51, 51, 154)",
          "line": {
           "color": "white",
           "width": 0
          }
         },
         "name": "Strongly Agree",
         "orientation": "h",
         "showlegend": false,
         "type": "bar",
         "x": [
          0
         ],
         "y": [
          "Not Watched"
         ]
        }
       ],
       "layout": {
        "annotations": [
         {
          "align": "right",
          "font": {
           "color": "white",
           "family": "PT Sans",
           "size": 18
          },
          "showarrow": false,
          "text": "Watched",
          "x": 0.065,
          "xanchor": "right",
          "xref": "paper",
          "y": "Watched",
          "yref": "y"
         },
         {
          "font": {
           "color": "rgb(255, 255, 255)",
           "family": "PT Sans",
           "size": 15
          },
          "showarrow": false,
          "text": "<b>88%</b>",
          "x": 0.4411764705882353,
          "xref": "x",
          "y": "Watched",
          "yref": "y"
         },
         {
          "font": {
           "color": "rgb(255, 255, 255)",
           "family": "PT Sans",
           "size": 15
          },
          "showarrow": false,
          "text": "<b>9%</b>",
          "x": 0.926470588235294,
          "xref": "x",
          "y": "Watched",
          "yref": "y"
         },
         {
          "font": {
           "color": "rgb(255, 255, 255)",
           "family": "PT Sans",
           "size": 15
          },
          "showarrow": false,
          "text": "<b>3%</b>",
          "x": 0.9852941176470588,
          "xref": "x",
          "y": "Watched",
          "yref": "y"
         },
         {
          "align": "right",
          "font": {
           "color": "white",
           "family": "PT Sans",
           "size": 18
          },
          "showarrow": false,
          "text": "Not Watched",
          "x": 0.065,
          "xanchor": "right",
          "xref": "paper",
          "y": "Not Watched",
          "yref": "y"
         },
         {
          "font": {
           "color": "rgb(255, 255, 255)",
           "family": "PT Sans",
           "size": 15
          },
          "showarrow": false,
          "text": "<b>71%</b>",
          "x": 0.35714285714285715,
          "xref": "x",
          "y": "Not Watched",
          "yref": "y"
         },
         {
          "font": {
           "color": "rgb(255, 255, 255)",
           "family": "PT Sans",
           "size": 15
          },
          "showarrow": false,
          "text": "<b>21%</b>",
          "x": 0.8214285714285714,
          "xref": "x",
          "y": "Not Watched",
          "yref": "y"
         },
         {
          "font": {
           "color": "rgb(255, 255, 255)",
           "family": "PT Sans",
           "size": 15
          },
          "showarrow": false,
          "text": "<b>4%</b>",
          "x": 0.9464285714285715,
          "xref": "x",
          "y": "Not Watched",
          "yref": "y"
         },
         {
          "font": {
           "color": "rgb(255, 255, 255)",
           "family": "PT Sans",
           "size": 15
          },
          "showarrow": false,
          "text": "<b>4%</b>",
          "x": 0.9821428571428572,
          "xref": "x",
          "y": "Not Watched",
          "yref": "y"
         }
        ],
        "bargap": 0.2,
        "barmode": "stack",
        "height": 320,
        "legend": {
         "bgcolor": "#151E27",
         "font": {
          "color": "white",
          "family": "PT Sans",
          "size": 16
         },
         "orientation": "h",
         "traceorder": "normal",
         "x": 0.96,
         "xanchor": "right",
         "y": 1,
         "yanchor": "bottom"
        },
        "margin": {
         "b": 50,
         "l": 90,
         "r": 10,
         "t": 100
        },
        "paper_bgcolor": "#151E27",
        "plot_bgcolor": "#151E27",
        "showlegend": true,
        "template": {
         "data": {
          "bar": [
           {
            "error_x": {
             "color": "#2a3f5f"
            },
            "error_y": {
             "color": "#2a3f5f"
            },
            "marker": {
             "line": {
              "color": "#E5ECF6",
              "width": 0.5
             },
             "pattern": {
              "fillmode": "overlay",
              "size": 10,
              "solidity": 0.2
             }
            },
            "type": "bar"
           }
          ],
          "barpolar": [
           {
            "marker": {
             "line": {
              "color": "#E5ECF6",
              "width": 0.5
             },
             "pattern": {
              "fillmode": "overlay",
              "size": 10,
              "solidity": 0.2
             }
            },
            "type": "barpolar"
           }
          ],
          "carpet": [
           {
            "aaxis": {
             "endlinecolor": "#2a3f5f",
             "gridcolor": "white",
             "linecolor": "white",
             "minorgridcolor": "white",
             "startlinecolor": "#2a3f5f"
            },
            "baxis": {
             "endlinecolor": "#2a3f5f",
             "gridcolor": "white",
             "linecolor": "white",
             "minorgridcolor": "white",
             "startlinecolor": "#2a3f5f"
            },
            "type": "carpet"
           }
          ],
          "choropleth": [
           {
            "colorbar": {
             "outlinewidth": 0,
             "ticks": ""
            },
            "type": "choropleth"
           }
          ],
          "contour": [
           {
            "colorbar": {
             "outlinewidth": 0,
             "ticks": ""
            },
            "colorscale": [
             [
              0,
              "#0d0887"
             ],
             [
              0.1111111111111111,
              "#46039f"
             ],
             [
              0.2222222222222222,
              "#7201a8"
             ],
             [
              0.3333333333333333,
              "#9c179e"
             ],
             [
              0.4444444444444444,
              "#bd3786"
             ],
             [
              0.5555555555555556,
              "#d8576b"
             ],
             [
              0.6666666666666666,
              "#ed7953"
             ],
             [
              0.7777777777777778,
              "#fb9f3a"
             ],
             [
              0.8888888888888888,
              "#fdca26"
             ],
             [
              1,
              "#f0f921"
             ]
            ],
            "type": "contour"
           }
          ],
          "contourcarpet": [
           {
            "colorbar": {
             "outlinewidth": 0,
             "ticks": ""
            },
            "type": "contourcarpet"
           }
          ],
          "heatmap": [
           {
            "colorbar": {
             "outlinewidth": 0,
             "ticks": ""
            },
            "colorscale": [
             [
              0,
              "#0d0887"
             ],
             [
              0.1111111111111111,
              "#46039f"
             ],
             [
              0.2222222222222222,
              "#7201a8"
             ],
             [
              0.3333333333333333,
              "#9c179e"
             ],
             [
              0.4444444444444444,
              "#bd3786"
             ],
             [
              0.5555555555555556,
              "#d8576b"
             ],
             [
              0.6666666666666666,
              "#ed7953"
             ],
             [
              0.7777777777777778,
              "#fb9f3a"
             ],
             [
              0.8888888888888888,
              "#fdca26"
             ],
             [
              1,
              "#f0f921"
             ]
            ],
            "type": "heatmap"
           }
          ],
          "heatmapgl": [
           {
            "colorbar": {
             "outlinewidth": 0,
             "ticks": ""
            },
            "colorscale": [
             [
              0,
              "#0d0887"
             ],
             [
              0.1111111111111111,
              "#46039f"
             ],
             [
              0.2222222222222222,
              "#7201a8"
             ],
             [
              0.3333333333333333,
              "#9c179e"
             ],
             [
              0.4444444444444444,
              "#bd3786"
             ],
             [
              0.5555555555555556,
              "#d8576b"
             ],
             [
              0.6666666666666666,
              "#ed7953"
             ],
             [
              0.7777777777777778,
              "#fb9f3a"
             ],
             [
              0.8888888888888888,
              "#fdca26"
             ],
             [
              1,
              "#f0f921"
             ]
            ],
            "type": "heatmapgl"
           }
          ],
          "histogram": [
           {
            "marker": {
             "pattern": {
              "fillmode": "overlay",
              "size": 10,
              "solidity": 0.2
             }
            },
            "type": "histogram"
           }
          ],
          "histogram2d": [
           {
            "colorbar": {
             "outlinewidth": 0,
             "ticks": ""
            },
            "colorscale": [
             [
              0,
              "#0d0887"
             ],
             [
              0.1111111111111111,
              "#46039f"
             ],
             [
              0.2222222222222222,
              "#7201a8"
             ],
             [
              0.3333333333333333,
              "#9c179e"
             ],
             [
              0.4444444444444444,
              "#bd3786"
             ],
             [
              0.5555555555555556,
              "#d8576b"
             ],
             [
              0.6666666666666666,
              "#ed7953"
             ],
             [
              0.7777777777777778,
              "#fb9f3a"
             ],
             [
              0.8888888888888888,
              "#fdca26"
             ],
             [
              1,
              "#f0f921"
             ]
            ],
            "type": "histogram2d"
           }
          ],
          "histogram2dcontour": [
           {
            "colorbar": {
             "outlinewidth": 0,
             "ticks": ""
            },
            "colorscale": [
             [
              0,
              "#0d0887"
             ],
             [
              0.1111111111111111,
              "#46039f"
             ],
             [
              0.2222222222222222,
              "#7201a8"
             ],
             [
              0.3333333333333333,
              "#9c179e"
             ],
             [
              0.4444444444444444,
              "#bd3786"
             ],
             [
              0.5555555555555556,
              "#d8576b"
             ],
             [
              0.6666666666666666,
              "#ed7953"
             ],
             [
              0.7777777777777778,
              "#fb9f3a"
             ],
             [
              0.8888888888888888,
              "#fdca26"
             ],
             [
              1,
              "#f0f921"
             ]
            ],
            "type": "histogram2dcontour"
           }
          ],
          "mesh3d": [
           {
            "colorbar": {
             "outlinewidth": 0,
             "ticks": ""
            },
            "type": "mesh3d"
           }
          ],
          "parcoords": [
           {
            "line": {
             "colorbar": {
              "outlinewidth": 0,
              "ticks": ""
             }
            },
            "type": "parcoords"
           }
          ],
          "pie": [
           {
            "automargin": true,
            "type": "pie"
           }
          ],
          "scatter": [
           {
            "fillpattern": {
             "fillmode": "overlay",
             "size": 10,
             "solidity": 0.2
            },
            "type": "scatter"
           }
          ],
          "scatter3d": [
           {
            "line": {
             "colorbar": {
              "outlinewidth": 0,
              "ticks": ""
             }
            },
            "marker": {
             "colorbar": {
              "outlinewidth": 0,
              "ticks": ""
             }
            },
            "type": "scatter3d"
           }
          ],
          "scattercarpet": [
           {
            "marker": {
             "colorbar": {
              "outlinewidth": 0,
              "ticks": ""
             }
            },
            "type": "scattercarpet"
           }
          ],
          "scattergeo": [
           {
            "marker": {
             "colorbar": {
              "outlinewidth": 0,
              "ticks": ""
             }
            },
            "type": "scattergeo"
           }
          ],
          "scattergl": [
           {
            "marker": {
             "colorbar": {
              "outlinewidth": 0,
              "ticks": ""
             }
            },
            "type": "scattergl"
           }
          ],
          "scattermapbox": [
           {
            "marker": {
             "colorbar": {
              "outlinewidth": 0,
              "ticks": ""
             }
            },
            "type": "scattermapbox"
           }
          ],
          "scatterpolar": [
           {
            "marker": {
             "colorbar": {
              "outlinewidth": 0,
              "ticks": ""
             }
            },
            "type": "scatterpolar"
           }
          ],
          "scatterpolargl": [
           {
            "marker": {
             "colorbar": {
              "outlinewidth": 0,
              "ticks": ""
             }
            },
            "type": "scatterpolargl"
           }
          ],
          "scatterternary": [
           {
            "marker": {
             "colorbar": {
              "outlinewidth": 0,
              "ticks": ""
             }
            },
            "type": "scatterternary"
           }
          ],
          "surface": [
           {
            "colorbar": {
             "outlinewidth": 0,
             "ticks": ""
            },
            "colorscale": [
             [
              0,
              "#0d0887"
             ],
             [
              0.1111111111111111,
              "#46039f"
             ],
             [
              0.2222222222222222,
              "#7201a8"
             ],
             [
              0.3333333333333333,
              "#9c179e"
             ],
             [
              0.4444444444444444,
              "#bd3786"
             ],
             [
              0.5555555555555556,
              "#d8576b"
             ],
             [
              0.6666666666666666,
              "#ed7953"
             ],
             [
              0.7777777777777778,
              "#fb9f3a"
             ],
             [
              0.8888888888888888,
              "#fdca26"
             ],
             [
              1,
              "#f0f921"
             ]
            ],
            "type": "surface"
           }
          ],
          "table": [
           {
            "cells": {
             "fill": {
              "color": "#EBF0F8"
             },
             "line": {
              "color": "white"
             }
            },
            "header": {
             "fill": {
              "color": "#C8D4E3"
             },
             "line": {
              "color": "white"
             }
            },
            "type": "table"
           }
          ]
         },
         "layout": {
          "annotationdefaults": {
           "arrowcolor": "#2a3f5f",
           "arrowhead": 0,
           "arrowwidth": 1
          },
          "autotypenumbers": "strict",
          "coloraxis": {
           "colorbar": {
            "outlinewidth": 0,
            "ticks": ""
           }
          },
          "colorscale": {
           "diverging": [
            [
             0,
             "#8e0152"
            ],
            [
             0.1,
             "#c51b7d"
            ],
            [
             0.2,
             "#de77ae"
            ],
            [
             0.3,
             "#f1b6da"
            ],
            [
             0.4,
             "#fde0ef"
            ],
            [
             0.5,
             "#f7f7f7"
            ],
            [
             0.6,
             "#e6f5d0"
            ],
            [
             0.7,
             "#b8e186"
            ],
            [
             0.8,
             "#7fbc41"
            ],
            [
             0.9,
             "#4d9221"
            ],
            [
             1,
             "#276419"
            ]
           ],
           "sequential": [
            [
             0,
             "#0d0887"
            ],
            [
             0.1111111111111111,
             "#46039f"
            ],
            [
             0.2222222222222222,
             "#7201a8"
            ],
            [
             0.3333333333333333,
             "#9c179e"
            ],
            [
             0.4444444444444444,
             "#bd3786"
            ],
            [
             0.5555555555555556,
             "#d8576b"
            ],
            [
             0.6666666666666666,
             "#ed7953"
            ],
            [
             0.7777777777777778,
             "#fb9f3a"
            ],
            [
             0.8888888888888888,
             "#fdca26"
            ],
            [
             1,
             "#f0f921"
            ]
           ],
           "sequentialminus": [
            [
             0,
             "#0d0887"
            ],
            [
             0.1111111111111111,
             "#46039f"
            ],
            [
             0.2222222222222222,
             "#7201a8"
            ],
            [
             0.3333333333333333,
             "#9c179e"
            ],
            [
             0.4444444444444444,
             "#bd3786"
            ],
            [
             0.5555555555555556,
             "#d8576b"
            ],
            [
             0.6666666666666666,
             "#ed7953"
            ],
            [
             0.7777777777777778,
             "#fb9f3a"
            ],
            [
             0.8888888888888888,
             "#fdca26"
            ],
            [
             1,
             "#f0f921"
            ]
           ]
          },
          "colorway": [
           "#636efa",
           "#EF553B",
           "#00cc96",
           "#ab63fa",
           "#FFA15A",
           "#19d3f3",
           "#FF6692",
           "#B6E880",
           "#FF97FF",
           "#FECB52"
          ],
          "font": {
           "color": "#2a3f5f"
          },
          "geo": {
           "bgcolor": "white",
           "lakecolor": "white",
           "landcolor": "#E5ECF6",
           "showlakes": true,
           "showland": true,
           "subunitcolor": "white"
          },
          "hoverlabel": {
           "align": "left"
          },
          "hovermode": "closest",
          "mapbox": {
           "style": "light"
          },
          "paper_bgcolor": "white",
          "plot_bgcolor": "#E5ECF6",
          "polar": {
           "angularaxis": {
            "gridcolor": "white",
            "linecolor": "white",
            "ticks": ""
           },
           "bgcolor": "#E5ECF6",
           "radialaxis": {
            "gridcolor": "white",
            "linecolor": "white",
            "ticks": ""
           }
          },
          "scene": {
           "xaxis": {
            "backgroundcolor": "#E5ECF6",
            "gridcolor": "white",
            "gridwidth": 2,
            "linecolor": "white",
            "showbackground": true,
            "ticks": "",
            "zerolinecolor": "white"
           },
           "yaxis": {
            "backgroundcolor": "#E5ECF6",
            "gridcolor": "white",
            "gridwidth": 2,
            "linecolor": "white",
            "showbackground": true,
            "ticks": "",
            "zerolinecolor": "white"
           },
           "zaxis": {
            "backgroundcolor": "#E5ECF6",
            "gridcolor": "white",
            "gridwidth": 2,
            "linecolor": "white",
            "showbackground": true,
            "ticks": "",
            "zerolinecolor": "white"
           }
          },
          "shapedefaults": {
           "line": {
            "color": "#2a3f5f"
           }
          },
          "ternary": {
           "aaxis": {
            "gridcolor": "white",
            "linecolor": "white",
            "ticks": ""
           },
           "baxis": {
            "gridcolor": "white",
            "linecolor": "white",
            "ticks": ""
           },
           "bgcolor": "#E5ECF6",
           "caxis": {
            "gridcolor": "white",
            "linecolor": "white",
            "ticks": ""
           }
          },
          "title": {
           "x": 0.05
          },
          "xaxis": {
           "automargin": true,
           "gridcolor": "white",
           "linecolor": "white",
           "ticks": "",
           "title": {
            "standoff": 15
           },
           "zerolinecolor": "white",
           "zerolinewidth": 2
          },
          "yaxis": {
           "automargin": true,
           "gridcolor": "white",
           "linecolor": "white",
           "ticks": "",
           "title": {
            "standoff": 15
           },
           "zerolinecolor": "white",
           "zerolinewidth": 2
          }
         }
        },
        "title": {
         "font": {
          "color": "white",
          "family": "Proxima Nova",
          "size": 25
         },
         "pad": {
          "t": 30
         },
         "text": "<b>Dating violence is only physical.</b>",
         "y": 1,
         "yanchor": "top"
        },
        "width": 1000,
        "xaxis": {
         "domain": [
          0.08,
          1
         ],
         "dtick": 0.25,
         "gridcolor": "#151E27",
         "gridwidth": 0,
         "linecolor": "#151E27",
         "linewidth": 0,
         "showticklabels": false,
         "tick0": 0,
         "tickfont": {
          "color": "white",
          "family": "PT Sans",
          "size": 14
         },
         "tickformat": ",.0%",
         "tickmode": "linear",
         "zeroline": false
        },
        "yaxis": {
         "autorange": "reversed",
         "showticklabels": false
        }
       }
      }
     },
     "metadata": {},
     "output_type": "display_data"
    }
   ],
   "source": [
    "watched = get_pcts(df[df['C'] == 'Yes'][general_questions])\n",
    "not_watched = get_pcts(df[df['C'] == 'No'][general_questions])\n",
    "figures = gen_comparisons(watched, not_watched, [\"Watched\", \"Not Watched\"], \"watchedcomp2\", text_pad=90)\n",
    "for fig in figures:\n",
    "    fig.show()"
   ]
  },
  {
   "cell_type": "code",
   "execution_count": null,
   "metadata": {},
   "outputs": [],
   "source": [
    "figures = gen_comparisons2(watched, not_watched, [\"Watched\", \"Not Watched\"], \"watched_vs_not\", text_pad=50)\n",
    "figures[0].show()\n",
    "# for fig in figures:\n",
    "#     fig.show()"
   ]
  },
  {
   "cell_type": "code",
   "execution_count": null,
   "metadata": {},
   "outputs": [],
   "source": [
    "drugs_gen = get_pcts(df[df['A'] == 'Yes'][general_questions])\n",
    "no_drugs_gen = get_pcts(df[df['A'] == 'No'][general_questions])\n",
    "drugs_euphoria = get_pcts(df[df['A'] == 'Yes'][euphoria_questions])\n",
    "no_drugs_euphoria = get_pcts(df[df['A'] == 'No'][euphoria_questions])\n",
    "y_labels = [\"Has Used Drugs<br>and/or Had Alcohol\", \"Has Not Used Drugs<br>and/or Had Alcohol\"]\n",
    "\n",
    "if not os.path.exists(\"images/drugs_vs_no\"):\n",
    "  os.mkdir(\"images/drugs_vs_no\")\n",
    "\n",
    "print(col_to_q['A'])\n",
    "figures_gen = gen_comparisons(drugs_gen, no_drugs_gen, y_labels, \"drugs_vs_no/general_qs\")\n",
    "figures_gen[0].show()\n",
    "\n",
    "figures_euphoria = gen_comparisons(drugs_euphoria, no_drugs_euphoria, y_labels, \"drugs_vs_no/euphoria_qs\")\n",
    "for fig in figures_euphoria:\n",
    "  fig.show()"
   ]
  },
  {
   "cell_type": "code",
   "execution_count": null,
   "metadata": {},
   "outputs": [],
   "source": [
    "dv_gen = get_pcts(df[df['B'] == 'Yes'][general_questions])\n",
    "no_dv_gen = get_pcts(df[df['B'] == 'No'][general_questions])\n",
    "dv_euphoria = get_pcts(df[df['B'] == 'Yes'][euphoria_questions])\n",
    "no_dv_euphoria = get_pcts(df[df['B'] == 'No'][euphoria_questions])\n",
    "y_labels = [\"Experienced<br>Dating Violence\", \"Did Not Experience<br>Dating Violence\"]\n",
    "\n",
    "if not os.path.exists(\"images/dating_violence_vs_no\"):\n",
    "  os.mkdir(\"images/dating_violence_vs_no\")\n",
    "\n",
    "print(col_to_q['B'])\n",
    "figures_gen = gen_comparisons(dv_gen, no_dv_gen, y_labels, \"dating_violence_vs_no/general_qs\")\n",
    "# for fig in figures_gen:\n",
    "#   fig.show()\n",
    "\n",
    "figures_euphoria = gen_comparisons(dv_euphoria, no_dv_euphoria, y_labels, \"dating_violence_vs_no/euphoria_qs\")\n",
    "# for fig in figures_euphoria:\n",
    "#   fig.show()\n",
    "# len(figures_euphoria)\n",
    "# for i in range(17, 19):\n",
    "#   figures_euphoria[i].write_img()"
   ]
  },
  {
   "cell_type": "code",
   "execution_count": null,
   "metadata": {},
   "outputs": [],
   "source": [
    "euphoria_likert = df[df['C'] == 'Yes'][euphoria_questions].apply(pd.value_counts).transpose().apply(lambda x: x/sum(x), axis=1).rename(col_to_q)"
   ]
  },
  {
   "cell_type": "code",
   "execution_count": null,
   "metadata": {},
   "outputs": [],
   "source": [
    "general_figures = []"
   ]
  },
  {
   "cell_type": "code",
   "execution_count": null,
   "metadata": {},
   "outputs": [],
   "source": [
    "x_data = euphoria_likert.values.tolist()[:2]\n",
    "y_data = ['I enjoyed watching the show.',\n",
    "          'I believe the TV show<br>depicted teenage life accurately.']\n",
    "title = \"<b>General Perceptions on <i>Euphoria</i></b>\"\n",
    "fig = gen_chart(title, x_data, y_data, l_padding=250, width_mod=200)\n",
    "general_figures.append(fig)\n",
    "fig.show()"
   ]
  },
  {
   "cell_type": "code",
   "execution_count": null,
   "metadata": {},
   "outputs": [],
   "source": [
    "x_data = euphoria_likert.values.tolist()[2:7]\n",
    "y_data = ['The show made<br>substances look <b>fun</b>.', 'The show made<br>substances look <b>desirable</b>.',\n",
    "          'The cinematography of the show<br>influenced how I perceived drugs.',\n",
    "          \"The show's narrative made me<br>change how I experience and/or<br>perceive substance abuse.\",\n",
    "          \"After watching the show, I felt<br><b>more inclined to experiment with<br>the usage of substances.</b>\"]\n",
    "title = \"<b>Impact of <i>Euphoria</i> on Youth Perceptions of Substance Use</b>\"\n",
    "fig = gen_chart(title, x_data, y_data, l_padding=260, width_mod=200)\n",
    "general_figures.append(fig)\n",
    "fig.show()"
   ]
  },
  {
   "cell_type": "code",
   "execution_count": null,
   "metadata": {},
   "outputs": [],
   "source": [
    "x_data = euphoria_likert.values.tolist()[7:11]\n",
    "y_data = ['I believe the show depicted<br>substance abuse <b>accurately</b>.', \n",
    "          'The show was <b>educational</b> in regards<br>to substance abuse and helped me<br>understand the topic better.',\n",
    "          'I believe the show would make others<br><b>more likely to reach out for help</b> if<br>they are struggling with substance use.',\n",
    "          'The show portrayed substance<br>abuse treatments in a positive light.']\n",
    "title = \"<b>Impact of <i>Euphoria</i> on Substance Abuse Education and Awareness</b>\"\n",
    "fig = gen_chart(title, x_data, y_data, l_padding=300, width_mod=200)\n",
    "general_figures.append(fig)\n",
    "fig.show()"
   ]
  },
  {
   "cell_type": "code",
   "execution_count": null,
   "metadata": {},
   "outputs": [],
   "source": [
    "x_data = euphoria_likert.values.tolist()[7:11]\n",
    "y_data = ['<b>I believe the show depicted<br>substance abuse accurately</b>.', \n",
    "          '<b>The show was <b>educational</b> in regards<br>to substance abuse and helped me<br>understand the topic better.</b>',\n",
    "          '<b>I believe the show would make others<br><b>more likely to reach out for help</b> if<br>they are struggling with substance use.</b>',\n",
    "          '<b>The show portrayed substance<br>abuse treatments in a positive light.</b>']\n",
    "title = \"<b>Impact of <i>Euphoria</i> on Substance Abuse Education and Awareness</b>\"\n",
    "fig2 = gen_diverging_chart(title, x_data, y_data, l_padding=250, width_mod=-300, split=.75)\n",
    "# general_figures.append(fig)\n",
    "fig2.write_image(f\"images/summary/diverging_education_awareness.png\", scale=5)\n",
    "fig2.show()"
   ]
  },
  {
   "cell_type": "code",
   "execution_count": null,
   "metadata": {},
   "outputs": [],
   "source": [
    "x_data = euphoria_likert.values.tolist()[11:13]\n",
    "y_data = ['The show positively affected<br>how I viewed romantic relationships.', \n",
    "          'I have more positive views of sex<br>after watching the show.']\n",
    "title = \"<b>Impact of <i>Euphoria</i> on Youth Perceptions of Relationships and Sex</b>\"\n",
    "fig = gen_chart(title, x_data, y_data, l_padding=280, width_mod=200)\n",
    "general_figures.append(fig)\n",
    "fig.show()"
   ]
  },
  {
   "cell_type": "code",
   "execution_count": null,
   "metadata": {},
   "outputs": [],
   "source": [
    "x_data = euphoria_likert.values.tolist()[13:16]\n",
    "y_data = [\"Overall, I believe that Nate and<br>Maddy's relationship showcases<br>signs of an unhealthy relationship.\",\n",
    "          \"I think Nate and Maddy’s relationship<br>is desirable despite its pitfalls.\",\n",
    "          \"The attractiveness of the actors<br>who play Nate and Maddy influenced<br>how I saw their relationship.\"]\n",
    "title = \"<b>Youth Perceptions on Nate and Maddy's Relationship in <i>Euphoria</i></b>\"\n",
    "fig = gen_chart(title, x_data, y_data, l_padding=280, width_mod=200)\n",
    "general_figures.append(fig)\n",
    "fig.write_image(f\"images/summary/nate_maddy_smaller.png\", scale=5)\n",
    "fig.show()"
   ]
  },
  {
   "cell_type": "code",
   "execution_count": null,
   "metadata": {},
   "outputs": [],
   "source": [
    "x_data = euphoria_likert.values.tolist()[16:19]\n",
    "y_data = [\"<b>I believe Euphoria is informative of<br>the signs of teen dating violence.</b>\",\n",
    "          \"<b>I believe Euphoria depicts teen<br>dating violence accurately.</b>\",\n",
    "          \"<b>I believe that the show would make others<br>more likely to reach out for help if they<br>are struggling with teen dating violence.</b>\"]\n",
    "title = \"<b>Impact of <i>Euphoria</i> on Youth Perceptions of Dating Violence</b>\"\n",
    "fig = gen_chart(title, x_data, y_data, l_padding=320, width_mod=200)\n",
    "general_figures.append(fig)\n",
    "# fig.show()\n",
    "fig2 = gen_diverging_chart(title, x_data, y_data, l_padding=250, width_mod=-300, split=.82)\n",
    "# general_figures.append(fig)\n",
    "fig2.write_image(f\"images/summary/diverging_education_dv.png\", scale=5)\n",
    "fig2.show()"
   ]
  },
  {
   "cell_type": "code",
   "execution_count": null,
   "metadata": {},
   "outputs": [],
   "source": [
    "if not os.path.exists('images/summary'):\n",
    "    os.mkdir('images/summary')\n",
    "for i, fig in enumerate(general_figures):\n",
    "    fig.write_image(f\"images/summary/{i}.png\", scale=5)"
   ]
  },
  {
   "cell_type": "code",
   "execution_count": null,
   "metadata": {},
   "outputs": [],
   "source": [
    "x_data = euphoria_likert.values.tolist()\n",
    "y_data = ['I enjoyed watching the show.',\n",
    "          'I believe the TV show<br>depicted teenage life accurately.',\n",
    "          'The show made<br>substances look fun.', 'The show made<br>substances look desirable.',\n",
    "          'The cinematography of the show<br>influenced how I perceived drugs.',\n",
    "          \"The show's narrative made me<br>change how I experience and/or<br>perceive substance abuse.\",\n",
    "          \"After watching the show, I felt<br>more inclined to experiment with<br>the usage of substances.\",\n",
    "          'I believe the show depicted<br>substance abuse accurately.', \n",
    "          'The show was educational<br>in regards to substance abuse and<br>helped me understand the topic better.',\n",
    "          'I believe the show would make others<br>more likely to reach out for help if<br>they are struggling with substance use.',\n",
    "          'The show portrayed substance<br>abuse treatments in a positive light.',\n",
    "          'The show positively affected<br>how I viewed romantic relationships.', \n",
    "          'I have more positive views of sex<br>after watching the show.',\n",
    "          \"Overall, I believe that Nate and<br>Maddy's relationship showcases<br>signs of an unhealthy relationship.\",\n",
    "          \"I think Nate and Maddy’s relationship<br>is desirable despite its pitfalls.\",\n",
    "          \"The attractiveness of the actors<br>who play Nate and Maddy influenced<br>how I saw their relationship.\",\n",
    "          \"I believe Euphoria is informative of<br>the signs of teen dating violence.\",\n",
    "          \"I believe Euphoria depicts teen<br>dating violence accurately.\",\n",
    "          \"I believe that the show would make others<br>more likely to reach out for help if they<br>are struggling with teen dating violence.\"]\n",
    "title = \"<b>Youth Responses to Questions About <i>Euphoria</i></b>\"\n",
    "all = gen_chart(title, x_data, y_data, l_padding=320, width_mod=200)\n",
    "all.write_image(f\"images/summary/all_euphoria_questions.png\", scale=5)"
   ]
  },
  {
   "cell_type": "code",
   "execution_count": null,
   "metadata": {},
   "outputs": [],
   "source": [
    "general_likert = df[df['C'] == 'Yes'][general_questions].apply(pd.value_counts).transpose().apply(lambda x: x/sum(x), axis=1).rename(col_to_q)\n",
    "x_data = general_likert.values.tolist()\n",
    "y_data = [\n",
    "    'It is acceptable to use substances.',\n",
    "    'I have thought about using substances.',\n",
    "    'Using substances is fun or desirable.',\n",
    "    'I am aware of resources available<br>to those struggling with addiction.',\n",
    "    'I am knowledgeable about<br>the danger of lacing drugs.',\n",
    "    'I am knowledgeable about drug<br>harm reduction methods such as<br>narcan and test strips.',\n",
    "    'I believe substance abuse<br>is common among teens.',\n",
    "    'I am knowledgeable about consent<br>in romantic relationships.',\n",
    "    'I am aware of resources available to<br>those facing teen dating violence.',\n",
    "    'I am knowledgeable about healthy<br>attachment in relationships.',\n",
    "    'I am more inclined to overlook<br>dating violence if the other party’s<br>physical appearance is attractive.',\n",
    "    'I am aware of the signs of<br>an abusive relationship.',\n",
    "    'Dating violence is only physical.'\n",
    "]\n",
    "title = \"<b>Youth Responses to Questions About Substance Use & Dating Violence</b>\"\n",
    "gen = gen_chart(title, x_data, y_data, l_padding=300, width_mod=200)\n",
    "# gen.show()\n",
    "gen.write_image(f\"images/summary/all_general_questions.png\", scale=5)"
   ]
  },
  {
   "cell_type": "markdown",
   "metadata": {},
   "source": [
    "# Pie Charts"
   ]
  },
  {
   "cell_type": "code",
   "execution_count": null,
   "metadata": {},
   "outputs": [],
   "source": [
    "df['Age'].value_counts().to_frame().sort_index().values[:,0]"
   ]
  },
  {
   "cell_type": "code",
   "execution_count": null,
   "metadata": {},
   "outputs": [],
   "source": [
    "colors = ['rgb(158,34,162)', 'rgb(198,156,234)', 'rgb(200, 192, 234)', 'rgb(114,133,225)', 'rgb(51, 51, 154)']\n",
    "all_euphoria_colors = ['rgb(51, 51, 154)', 'rgb(114,133,225)', 'rgb(198,156,234)', 'rgb(178,99,210)', 'rgb(158,34,162)', 'rgb(112,48,154)', 'rgb(86,24,96)']"
   ]
  },
  {
   "cell_type": "code",
   "execution_count": null,
   "metadata": {},
   "outputs": [],
   "source": [
    "fig = go.Figure()\n",
    "fig.add_trace(go.Pie(\n",
    "    hole=0.5,\n",
    "    sort=False,\n",
    "    values=df['Age'].value_counts().to_frame().sort_index().values[:,0],\n",
    "    labels=df['Age'].value_counts().to_frame().sort_index().index.to_list(),\n",
    "    texttemplate = '<b>%{percent}</b>',\n",
    "    marker=dict(\n",
    "                  colors=all_euphoria_colors,\n",
    "                  line=dict(color='white', width=2),\n",
    "              ),\n",
    "   textfont=dict(family=\"Proxima Nova\", size=30, color='white'),\n",
    "   textposition='inside'\n",
    "    # labels=,\n",
    "    # textinfo='label',\n",
    "))\n",
    "fig.update_layout(\n",
    "  # title=dict(\n",
    "  #   text=\"<b>Age Breakdown</b>\",\n",
    "  #   font=dict(family=\"Proxima Nova\", size=50, color=colors[2]),\n",
    "  # ),\n",
    "  font=dict(family=\"PT Sans\", size=25, color='white'),\n",
    "  paper_bgcolor='rgba(0,0,0,0)',\n",
    "  plot_bgcolor='rgba(0,0,0,0)',\n",
    "  width=600,\n",
    "  height=600\n",
    ")\n",
    "\n",
    "if not os.path.exists(\"images/pie_charts\"):\n",
    "  os.mkdir(\"images/pie_charts\")\n",
    "fig.write_image(f\"images/pie_charts/age_pie.png\", scale=5)\n",
    "\n",
    "fig.show()"
   ]
  },
  {
   "cell_type": "code",
   "execution_count": null,
   "metadata": {},
   "outputs": [],
   "source": [
    "fig = go.Figure()\n",
    "fig.add_trace(go.Pie(\n",
    "    hole=0.4,\n",
    "    sort=False,\n",
    "    values=df['Gender'].value_counts().to_frame().sort_index().values[:,0],\n",
    "    labels=df['Gender'].value_counts().to_frame().sort_index().index.to_list(),\n",
    "    texttemplate = '%{label}<br><b>%{percent}</b>',\n",
    "    marker=dict(\n",
    "                  colors=all_euphoria_colors,\n",
    "                  line=dict(color='white', width=2),\n",
    "              ),\n",
    "   textfont=dict(family=\"Proxima Nova\", size=20, color='white'),\n",
    "   textposition='auto'\n",
    "    # labels=,\n",
    "    # textinfo='label',\n",
    "))\n",
    "fig.update_layout(\n",
    "  # title=dict(\n",
    "  #   text=\"<b>Gender Breakdown</b>\",\n",
    "  #   font=dict(family=\"Proxima Nova\", size=50, color=colors[2]),\n",
    "  # ),\n",
    "  font=dict(family=\"PT Sans\", size=15, color='white'),\n",
    "  paper_bgcolor='rgba(0,0,0,0)',\n",
    "  plot_bgcolor='rgba(0,0,0,0)',\n",
    "  width=600,\n",
    "  height=600,\n",
    "  showlegend=False\n",
    ")\n",
    "\n",
    "if not os.path.exists(\"images/pie_charts\"):\n",
    "  os.mkdir(\"images/pie_charts\")\n",
    "fig.write_image(f\"images/pie_charts/gender_pie.png\", scale=5)\n",
    "\n",
    "fig.show()"
   ]
  },
  {
   "cell_type": "code",
   "execution_count": null,
   "metadata": {},
   "outputs": [],
   "source": [
    "fig = go.Figure()\n",
    "fig.add_trace(go.Pie(\n",
    "    hole=0,\n",
    "    sort=False,\n",
    "    values=df['B'].value_counts().to_frame().sort_index().values[:,0],\n",
    "    labels=df['B'].value_counts().to_frame().sort_index().index.to_list(),\n",
    "    texttemplate = '%{label}<br><b>%{percent}</b>',\n",
    "    marker=dict(\n",
    "                  colors=[colors[0], colors[4]],\n",
    "                  line=dict(color='white', width=2),\n",
    "              ),\n",
    "    pull=[0, .1]\n",
    "    # labels=,\n",
    "    # textinfo='label',\n",
    "))\n",
    "fig.update_layout(\n",
    "  title=dict(\n",
    "    text=\"<b>Have you ever experienced<br>dating violence?</b>\",\n",
    "    font=dict(family=\"Proxima Nova\", size=25, color=colors[2]),\n",
    "  ),\n",
    "  showlegend=False,\n",
    "  font=dict(family=\"Proxima Nova\", size=25, color='white'),\n",
    "  paper_bgcolor='rgba(0,0,0,0)',\n",
    "  plot_bgcolor='rgba(0,0,0,0)',\n",
    "  width=500,\n",
    "  height=500,\n",
    "  legend=dict(\n",
    "    font=dict(family=\"Proxima Nova\", size=25, color='white'),\n",
    "    traceorder='reversed'\n",
    "  )\n",
    ")\n",
    "\n",
    "if not os.path.exists(\"images/pie_charts\"):\n",
    "  os.mkdir(\"images/pie_charts\")\n",
    "fig.write_image(f\"images/pie_charts/dv_pie.png\", scale=5)\n",
    "\n",
    "fig.show()"
   ]
  },
  {
   "cell_type": "code",
   "execution_count": null,
   "metadata": {},
   "outputs": [],
   "source": [
    "fig = go.Figure()\n",
    "fig.add_trace(go.Pie(\n",
    "    hole=0,\n",
    "    sort=False,\n",
    "    values=df['A'].value_counts().to_frame().sort_index().values[:,0],\n",
    "    labels=df['A'].value_counts().to_frame().sort_index().index.to_list(),\n",
    "    texttemplate = '%{label}<br><b>%{percent}</b>',\n",
    "    marker=dict(\n",
    "                  colors=[colors[0], colors[4]],\n",
    "                  line=dict(color='white', width=2),\n",
    "              ),\n",
    "    pull=[0, .05]\n",
    "    # labels=,\n",
    "    # textinfo='label',\n",
    "))\n",
    "fig.update_layout(\n",
    "  title=dict(\n",
    "    text=\"<b>Have you ever used drugs<br>and/or alcohol?</b>\",\n",
    "    font=dict(family=\"Proxima Nova\", size=25, color=colors[2]),\n",
    "  ),\n",
    "  showlegend=False,\n",
    "  legend=dict(\n",
    "    traceorder='reversed'\n",
    "  ),\n",
    "  font=dict(family=\"Proxima Nova\", size=25, color='white'),\n",
    "  paper_bgcolor='rgba(0,0,0,0)',\n",
    "  plot_bgcolor='rgba(0,0,0,0)',\n",
    "  width=500,\n",
    "  height=500\n",
    ")\n",
    "\n",
    "if not os.path.exists(\"images/pie_charts\"):\n",
    "  os.mkdir(\"images/pie_charts\")\n",
    "fig.write_image(f\"images/pie_charts/drugs_pie.png\", scale=5)\n",
    "\n",
    "fig.show()"
   ]
  },
  {
   "cell_type": "code",
   "execution_count": null,
   "metadata": {},
   "outputs": [],
   "source": [
    "fig = go.Figure()\n",
    "fig.add_trace(go.Pie(\n",
    "    hole=0,\n",
    "    sort=False,\n",
    "    values=df['C'].value_counts().to_frame().sort_index().values[:,0],\n",
    "    labels=df['C'].value_counts().to_frame().sort_index().index.to_list(),\n",
    "    texttemplate = '%{label}<br><b>%{percent}</b>',\n",
    "    marker=dict(\n",
    "                  colors=[colors[0], colors[4]],\n",
    "                  line=dict(color='white', width=2),\n",
    "              ),\n",
    "    pull=[0, .05]\n",
    "    # labels=,\n",
    "    # textinfo='label',\n",
    "))\n",
    "fig.update_layout(\n",
    "  # title=dict(\n",
    "  #   text=\"<b>Have you watched <i>Euphoria</i>?</b>\",\n",
    "  #   font=dict(family=\"Proxima Nova\", size=25, color=colors[2]),\n",
    "  # ),\n",
    "  showlegend=False,\n",
    "  legend=dict(\n",
    "    traceorder='reversed',\n",
    "    font=dict(family=\"PT Sans\", size=20, color='white'),\n",
    "  ),\n",
    "  font=dict(family=\"Proxima Nova\", size=30, color='white'),\n",
    "  paper_bgcolor='rgba(0,0,0,0)',\n",
    "  plot_bgcolor='rgba(0,0,0,0)',\n",
    "  width=500,\n",
    "  height=500\n",
    ")\n",
    "\n",
    "if not os.path.exists(\"images/pie_charts\"):\n",
    "  os.mkdir(\"images/pie_charts\")\n",
    "fig.write_image(f\"images/pie_charts/watched_pie.png\", scale=5)\n",
    "\n",
    "fig.show()"
   ]
  },
  {
   "cell_type": "code",
   "execution_count": null,
   "metadata": {},
   "outputs": [],
   "source": [
    "import plotly.express as px\n",
    "curr_df = df.sort_values('24')\n",
    "fig = px.sunburst(curr_df, path=['C', 'B'], \n",
    "                  values=[1] * len(curr_df['C']), color='24')\n",
    "fig.show()"
   ]
  },
  {
   "cell_type": "code",
   "execution_count": null,
   "metadata": {},
   "outputs": [],
   "source": [
    "df_copy = df[['C', 'B']]\n",
    "df_copy['C'] = df_copy['C'].replace({\"Yes\": \"Watched\", \"No\": \"Didn't Watch\"})\n",
    "fig = px.sunburst(df_copy, path=['C', 'B'], \n",
    "                  values=[1] * len(df_copy['C']), color='C',\n",
    "                  color_discrete_map={\n",
    "                      \"Watched\": colors[0],\n",
    "                      \"Didn't Watch\": colors[4]\n",
    "                  })\n",
    "fig.show()"
   ]
  },
  {
   "cell_type": "code",
   "execution_count": null,
   "metadata": {},
   "outputs": [],
   "source": [
    "inner_values = df['C'].value_counts().to_frame().values[:,0].tolist() # yes, no order\n",
    "yes_values = df[df['C'] == \"Yes\"]['A'].value_counts().to_frame().values[:,0].tolist()\n",
    "no_values = df[df['C'] == \"No\"]['A'].value_counts().to_frame().values[:,0][::-1].tolist()"
   ]
  },
  {
   "cell_type": "code",
   "execution_count": null,
   "metadata": {},
   "outputs": [],
   "source": [
    "np.array(inner_values + yes_values + no_values) / 62"
   ]
  },
  {
   "cell_type": "code",
   "execution_count": null,
   "metadata": {},
   "outputs": [],
   "source": [
    "np.around(np.array(inner_values + yes_values + no_values) * 100 / 62, 1)"
   ]
  },
  {
   "cell_type": "code",
   "execution_count": null,
   "metadata": {},
   "outputs": [],
   "source": [
    "np.around(\n",
    "    (inner_values / 62 * 100).tolist() + \n",
    "    (yes_values / 34 * 100).tolist() + \n",
    "    (no_values / 28 * 100).tolist()\n",
    ", 1)"
   ]
  },
  {
   "cell_type": "code",
   "execution_count": null,
   "metadata": {},
   "outputs": [],
   "source": [
    "inner_values.tolist() + yes_values.tolist() + no_values.tolist()"
   ]
  },
  {
   "cell_type": "code",
   "execution_count": null,
   "metadata": {},
   "outputs": [],
   "source": [
    "inner_values = df['C'].value_counts().to_frame().values[:,0] # yes, no order\n",
    "yes_values = df[df['C'] == \"Yes\"]['A'].value_counts().to_frame().values[:,0]\n",
    "no_values = df[df['C'] == \"No\"]['A'].value_counts().to_frame().values[:,0][::-1]\n",
    "values = inner_values.tolist() + yes_values.tolist() + no_values.tolist()\n",
    "percents = np.around(\n",
    "    (inner_values / 62 * 100).tolist() + \n",
    "    (yes_values / 34 * 100).tolist() + \n",
    "    (no_values / 28 * 100).tolist()\n",
    ", 0)\n",
    "text = [\"Watched\", \"Not<br>Watched\", \"Yes\", \"No\", \"Yes\", \"No\"]\n",
    "fig = go.Figure(\n",
    "    go.Sunburst(\n",
    "        labels=[\"Watched Euphoria\", \"Didn't Watch<br>Euphoria\", \"Yes1\", \"No1\", \"Yes2\", \"No2\"],\n",
    "        parents=[\"\", \"\", \"Watched Euphoria\", \"Watched Euphoria\", \"Didn't Watch<br>Euphoria\", \"Didn't Watch<br>Euphoria\"],\n",
    "        values=values,\n",
    "        branchvalues='total',\n",
    "        marker=dict(\n",
    "            colors=[colors[4], colors[0]],\n",
    "            line=dict(color='white', width=4)\n",
    "        ),\n",
    "        textfont=dict(\n",
    "            family=\"Proxima Nova\",\n",
    "            size=25\n",
    "        ),\n",
    "        texttemplate=[f'{t}<br><b>{str(p)[:-2]}%</b>' for t, p in zip(text, percents)],\n",
    "        rotation=90,\n",
    "        insidetextorientation=\"horizontal\",\n",
    "        domain=dict(x=[0,1])\n",
    "    ),\n",
    "    layout=dict(\n",
    "        width=700,\n",
    "        height=700,\n",
    "        paper_bgcolor='#151E27',\n",
    "        plot_bgcolor='#151E27',\n",
    "    )\n",
    ")\n",
    "# fig.update_traces(labels=['',] * len(fig.data[0]['labels']))\n",
    "fig.show()\n",
    "fig.write_image(\"test.png\", scale=5)"
   ]
  },
  {
   "cell_type": "code",
   "execution_count": null,
   "metadata": {},
   "outputs": [],
   "source": [
    "inner_values = df['C'].value_counts().to_frame().values[:,0] # yes, no order\n",
    "yes_values = df[df['C'] == \"Yes\"]['B'].value_counts().to_frame().values[:,0][::-1]\n",
    "no_values = df[df['C'] == \"No\"]['B'].value_counts().to_frame().values[:,0][::-1]\n",
    "values = inner_values.tolist() + yes_values.tolist() + no_values.tolist()\n",
    "percents = np.around(\n",
    "    (inner_values / 62 * 100).tolist() + \n",
    "    (yes_values / 34 * 100).tolist() + \n",
    "    (no_values / 28 * 100).tolist()\n",
    ", 0)\n",
    "text = [\"Watched\", \"Not<br>Watched\", \"Yes\", \"No\", \"Yes\", \"No\"]\n",
    "fig = go.Figure(\n",
    "    go.Sunburst(\n",
    "        labels=[\"Watched Euphoria\", \"Didn't Watch<br>Euphoria\", \"Yes1\", \"No1\", \"Yes2\", \"No2\"],\n",
    "        parents=[\"\", \"\", \"Watched Euphoria\", \"Watched Euphoria\", \"Didn't Watch<br>Euphoria\", \"Didn't Watch<br>Euphoria\"],\n",
    "        values=values,\n",
    "        branchvalues='total',\n",
    "        marker=dict(\n",
    "            colors=[colors[4], colors[0]],\n",
    "            line=dict(color='white', width=4)\n",
    "        ),\n",
    "        textfont=dict(\n",
    "            family=\"Proxima Nova\",\n",
    "            size=25\n",
    "        ),\n",
    "        texttemplate=[f'{t}<br><b>{str(p)[:-2]}%</b>' for t, p in zip(text, percents)],\n",
    "        rotation=90,\n",
    "        insidetextorientation=\"horizontal\",\n",
    "        domain=dict(x=[0,1])\n",
    "    ),\n",
    "    layout=dict(\n",
    "        width=700,\n",
    "        height=700,\n",
    "        paper_bgcolor='#151E27',\n",
    "        plot_bgcolor='#151E27',\n",
    "    )\n",
    ")\n",
    "# fig.update_traces(labels=['',] * len(fig.data[0]['labels']))\n",
    "fig.show()\n",
    "fig.write_image(\"test.png\", scale=5)"
   ]
  },
  {
   "cell_type": "code",
   "execution_count": null,
   "metadata": {},
   "outputs": [],
   "source": [
    "new_df = df.replace({\n",
    "    1: \"Strongly<br>Disagree\",\n",
    "    2: \"Disagree\",\n",
    "    3: \"Neutral\",\n",
    "    4: \"Agree\",\n",
    "    5: \"Strongly<br>Agree\"\n",
    "})\n",
    "new_df.head()"
   ]
  },
  {
   "cell_type": "code",
   "execution_count": null,
   "metadata": {},
   "outputs": [],
   "source": [
    "len(new_df['22'])"
   ]
  },
  {
   "cell_type": "markdown",
   "metadata": {},
   "source": [
    "# Histograms"
   ]
  },
  {
   "cell_type": "code",
   "execution_count": null,
   "metadata": {},
   "outputs": [],
   "source": [
    "def format_title(title):\n",
    "    title_lines = []\n",
    "    if len(title) > 60:\n",
    "      title_words = title.strip().split(\" \")\n",
    "      curr_line = \"\"\n",
    "      for j in range(len(title_words)):  \n",
    "        if len(curr_line) + len(title_words[j]) < 60:\n",
    "          curr_line += title_words[j] + \" \" \n",
    "        else:\n",
    "          title_lines.append(curr_line)\n",
    "          curr_line = title_words[j] + \" \"\n",
    "        if j == len(title_words) - 1:\n",
    "            title_lines.append(curr_line)\n",
    "      title = \"<br>\".join(title_lines)\n",
    "    else:\n",
    "      title_lines = [title]\n",
    "    return f'<b>{title}</b>', len(title_lines)"
   ]
  },
  {
   "cell_type": "code",
   "execution_count": null,
   "metadata": {},
   "outputs": [],
   "source": [
    "just_counts = df[all_questions].apply(pd.value_counts)"
   ]
  },
  {
   "cell_type": "code",
   "execution_count": null,
   "metadata": {},
   "outputs": [],
   "source": [
    "just_percents = df[all_questions].apply(pd.value_counts).apply(lambda x: np.round(x/sum(x)*100, 1), axis=0)"
   ]
  },
  {
   "cell_type": "code",
   "execution_count": null,
   "metadata": {},
   "outputs": [],
   "source": [
    "if not os.path.exists(\"images/histograms\"):\n",
    "  os.mkdir(\"images/histograms\")"
   ]
  },
  {
   "cell_type": "code",
   "execution_count": null,
   "metadata": {},
   "outputs": [],
   "source": [
    "[f'<b>{i}</b> ({j}%)' for i, j in zip(just_counts['7'].to_list(), just_percents['7'].to_list())]"
   ]
  },
  {
   "cell_type": "code",
   "execution_count": null,
   "metadata": {},
   "outputs": [],
   "source": [
    "categories = ['Strongly<br>Disagree', 'Disagree', 'Neutral', 'Agree', 'Strongly<br>Agree']\n",
    "\n",
    "for col in ['7']:\n",
    "    new_df = new_df.sort_values(col)\n",
    "    text = [f'<b>{i}</b> ({j}%)' for i, j in zip(just_counts[col].to_list(), just_percents[col].to_list())]\n",
    "    title, pad_mod = format_title(col_to_q[col])\n",
    "\n",
    "    fig = go.Figure(\n",
    "        go.Histogram(\n",
    "            x=new_df[col],\n",
    "            marker=dict(color=colors),\n",
    "            text=text,\n",
    "            textfont=dict(color='white', family='PT Sans'),\n",
    "            textposition='auto'\n",
    "        )\n",
    "    )\n",
    "\n",
    "    fig.update_layout(\n",
    "    title=dict(\n",
    "        text=title,\n",
    "        font=dict(family=\"Proxima Nova\", size=25, color=colors[2]),\n",
    "    ),\n",
    "    xaxis=dict(\n",
    "        categoryorder='array',\n",
    "        categoryarray=['Strongly<br>Disagree', 'Disagree', 'Neutral', 'Agree', 'Strongly<br>Agree'],\n",
    "        range=[-.5, 4.5]\n",
    "    ),\n",
    "    yaxis=dict(\n",
    "        linecolor='#151E27',\n",
    "        gridcolor='rgb(210,210,210)'\n",
    "    ),\n",
    "    font=dict(family=\"Proxima Nova\", size=15, color='white'),\n",
    "    paper_bgcolor='rgba(0,0,0,0)',\n",
    "    plot_bgcolor='rgba(0,0,0,0)',\n",
    "    margin=dict(t=60*pad_mod),\n",
    "    width=800, #normally 600\n",
    "    # height=700,\n",
    "    height=300 + 60*pad_mod,\n",
    "    bargap=.1\n",
    "    )\n",
    "    fig.write_image(f\"images/histograms/{col}.png\", scale=5)\n",
    "    fig.show()"
   ]
  },
  {
   "cell_type": "markdown",
   "metadata": {},
   "source": []
  }
 ],
 "metadata": {
  "interpreter": {
   "hash": "6c1e413180f9b1da1bb7d2ef2cd915336fd8daa36e84e87d3f6ef2e765e17464"
  },
  "kernelspec": {
   "display_name": "Python 3.9.7 ('base')",
   "language": "python",
   "name": "python3"
  },
  "language_info": {
   "codemirror_mode": {
    "name": "ipython",
    "version": 3
   },
   "file_extension": ".py",
   "mimetype": "text/x-python",
   "name": "python",
   "nbconvert_exporter": "python",
   "pygments_lexer": "ipython3",
   "version": "3.9.7"
  },
  "orig_nbformat": 4
 },
 "nbformat": 4,
 "nbformat_minor": 2
}
